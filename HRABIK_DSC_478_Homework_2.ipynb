{
 "cells": [
  {
   "cell_type": "code",
   "execution_count": 7,
   "metadata": {},
   "outputs": [],
   "source": [
    "## Import Modules\n",
    "import numpy as np\n",
    "import pandas as pd\n",
    "import os\n",
    "import matplotlib.pyplot as plt\n",
    "from decimal import Decimal\n",
    "%matplotlib inline"
   ]
  },
  {
   "cell_type": "code",
   "execution_count": 8,
   "metadata": {},
   "outputs": [
    {
     "data": {
      "text/plain": [
       "'C:\\\\Users\\\\khrab\\\\1 - Machine Learning\\\\Week 5'"
      ]
     },
     "execution_count": 8,
     "metadata": {},
     "output_type": "execute_result"
    }
   ],
   "source": [
    "## Get working directory\n",
    "os.getcwd()"
   ]
  },
  {
   "cell_type": "code",
   "execution_count": 9,
   "metadata": {},
   "outputs": [],
   "source": [
    "## Change working directory\n",
    "os.chdir('C:\\\\Users\\\\khrab\\\\1 - Machine Learning\\\\Week 5')"
   ]
  },
  {
   "cell_type": "code",
   "execution_count": 10,
   "metadata": {},
   "outputs": [],
   "source": [
    "## ****PROBLEM #1 - NEWSGROUP DATA****\n",
    "## Import all data sets\n",
    "\n",
    "modifiedTerms = pd.read_csv('modifiedterms.txt', header = None)\n",
    "testClasses = pd.read_csv('testClasses.txt', delimiter='\\t', header = None)\n",
    "trainClasses = pd.read_csv('trainClasses.txt', delimiter='\\t', header = None)\n",
    "testMatrixModified = pd.read_csv('testMatrixModified.txt', delimiter='\\t', header = None)\n",
    "trainMatrixModified = pd.read_csv('trainMatrixModified.txt', delimiter='\\t', header = None)\n",
    "\n",
    "modifiedTerms = modifiedTerms.loc[:,0]"
   ]
  },
  {
   "cell_type": "code",
   "execution_count": 11,
   "metadata": {},
   "outputs": [],
   "source": [
    "## (a.) Create your own KNN classifier function\n",
    "## inputs: training data matrix, labels, instance to be classified, value of k,\n",
    "## and should return predicted class for instance and top 5 neighbors.\n",
    "## Works with Euclidean distance and Cosine Similarity."
   ]
  },
  {
   "cell_type": "code",
   "execution_count": 12,
   "metadata": {},
   "outputs": [],
   "source": [
    "##Transposing data and casting to numpy arrays, etc.\n",
    "\n",
    "dtTestArray = np.array(testMatrixModified.T)\n",
    "dtTrainArray = np.array(trainMatrixModified.T)\n",
    "\n",
    "\n",
    "\n",
    "\n",
    "testTermFreqs = np.array(testMatrixModified.sum(axis=1))\n",
    "trainTermFreqs = np.array(trainMatrixModified.sum(axis=1))\n",
    "\n",
    "##200 rows, 2 columns\n",
    "testClasses = np.array(testClasses)\n",
    "trainClasses = np.array(trainClasses)\n",
    "\n"
   ]
  },
  {
   "cell_type": "code",
   "execution_count": 13,
   "metadata": {},
   "outputs": [],
   "source": [
    "##Chose to have measure passed in to function\n",
    "def knn_classifier(x, d, labels, k, measure):\n",
    "    \n",
    "    if measure == 0:\n",
    "        ##Euclidean\n",
    "        dists = np.sqrt(((d - x)**2).sum(axis=1))\n",
    "        \n",
    "     \n",
    "    elif measure == 1:\n",
    "        ##Cosine Similarity\n",
    "        d_norm = np.array([np.linalg.norm(d[i]) for i in range(len(d))])\n",
    "       \n",
    "        x_norm = np.linalg.norm(x)\n",
    "      \n",
    "        sims = np.dot(d,x)/(d_norm * x_norm)\n",
    "        dists = 1 - sims\n",
    "    \n",
    "    idx = np.argsort(dists)\n",
    "    \n",
    "   \n",
    "    \n",
    "    values = []\n",
    "    \n",
    "    for i in idx:\n",
    "        for j in labels:\n",
    "            if any(i == j):\n",
    "                values.append(j[1])\n",
    "    \n",
    "   \n",
    "    \n",
    "    zeroCount = 0\n",
    "    oneCount = 0\n",
    "    \n",
    "    \n",
    "    for val in values[:k]:\n",
    "        if val == 0:\n",
    "            zeroCount += 1\n",
    "        elif val == 1:\n",
    "            oneCount += 1\n",
    "    \n",
    "    winnerVal = ''\n",
    "    ##In the case of a tie, the class represented by '0' wins\n",
    "    ##This is my arbitrary tiebreaker methodology.\n",
    "    if zeroCount >= oneCount:\n",
    "        winnerVal = 0\n",
    "    elif oneCount > zeroCount:\n",
    "        winnerVal = 1\n",
    "    \n",
    "              \n",
    "    \n",
    "    return idx[:k], sorted(dists)[:k], winnerVal"
   ]
  },
  {
   "cell_type": "code",
   "execution_count": 14,
   "metadata": {},
   "outputs": [],
   "source": [
    "##Setting up sample instance to feed in to classifier\n",
    "a = dtTrainArray[[440]]\n",
    "##To make sure instance doesn't count itself as a neighbor\n",
    "b = np.delete(dtTrainArray, (440), axis=0)\n"
   ]
  },
  {
   "cell_type": "code",
   "execution_count": 15,
   "metadata": {},
   "outputs": [],
   "source": [
    "neighbor_index, distances, winnerVal = knn_classifier(a, b, trainClasses, 5, 0)"
   ]
  },
  {
   "cell_type": "code",
   "execution_count": 16,
   "metadata": {},
   "outputs": [
    {
     "name": "stdout",
     "output_type": "stream",
     "text": [
      "Neighbor Index: [756  38 710 797  69]\n",
      "Distances of Neighbors: [8.426149773176359, 8.602325267042627, 8.660254037844387, 8.774964387392123, 8.94427190999916]\n",
      "The Category Based on Nearest Neighbors is: 1\n"
     ]
    }
   ],
   "source": [
    "##Tried on training data\n",
    "print(\"Neighbor Index: {}\".format(neighbor_index))\n",
    "print(\"Distances of Neighbors: {}\".format(distances))\n",
    "print(\"The Category Based on Nearest Neighbors is: {}\".format(winnerVal))\n"
   ]
  },
  {
   "cell_type": "code",
   "execution_count": 17,
   "metadata": {},
   "outputs": [],
   "source": [
    "## (b.) Create a function to compute the classification accuracy over the test \n",
    "## data set (ratio of correct predictions to the number of test instances)\n",
    "## This function will call the classifier function in part (a.) on all the\n",
    "## test instances and in each case compares the actual test class label\n",
    "## to the predicted class label"
   ]
  },
  {
   "cell_type": "code",
   "execution_count": 18,
   "metadata": {},
   "outputs": [],
   "source": [
    "## Function to return accuracy. Calls classifier function and returns accuracy\n",
    "## percentage.\n",
    "def accuracy(d, labels, k, measure):\n",
    "    dictPredicted = {}\n",
    "    dictActual = {}\n",
    "    predictList = []\n",
    "    counter = -1\n",
    "    for a in d:\n",
    "        counter = counter + 1\n",
    "        \n",
    "        neighbor_index, distances, winnerVal = knn_classifier(a, d, labels, k, measure)\n",
    "        \n",
    "        dictPredicted[counter]=winnerVal\n",
    "    \n",
    "    for b in labels:\n",
    "        dictActual[b[0]] = b[1]\n",
    "    \n",
    "    for k, v in dictPredicted.items():\n",
    "        for key, val in dictActual.items():\n",
    "            if k == key:\n",
    "                predictList.append([v, val])\n",
    "    \n",
    "    accurate = 0\n",
    "    total = 0\n",
    "    \n",
    "    for k, v in predictList:\n",
    "        if k == v:\n",
    "            accurate = accurate + 1\n",
    "        total = total + 1\n",
    "    \n",
    "    \n",
    "    accuracy = float(accurate/total)\n",
    "    \n",
    "    return accuracy\n"
   ]
  },
  {
   "cell_type": "code",
   "execution_count": 19,
   "metadata": {},
   "outputs": [
    {
     "data": {
      "text/plain": [
       "0.95625"
      ]
     },
     "execution_count": 19,
     "metadata": {},
     "output_type": "execute_result"
    }
   ],
   "source": [
    "## NOTE: THIS TAKES AN EXTREMELY LONG TIME TO RUN ON THE TRAINING DATA\n",
    "## When grading, maybe skip trying this on training, or switch to \n",
    "## accuracy(dtTestArray, testClasses, 5 0)\n",
    "## if preferred\n",
    "accuracy(dtTrainArray, trainClasses, 5, 0)\n"
   ]
  },
  {
   "cell_type": "code",
   "execution_count": 20,
   "metadata": {},
   "outputs": [],
   "source": [
    "## (c.) Run your accuracy function on a range of values for K in order to \n",
    "## Compare accuracy values for numbers of neighbors. Use both Euclidean dist.\n",
    "## and Cosine similarities\n",
    "## Note: I used the test data for the trials because it wasn't\n",
    "## Specified to use the training sets\n",
    "## I did k values of 1 through 20, and alternated between Euclidean and \n",
    "## Cosine distance to make sure I got a good mix between functions and k values\n",
    "## For later plotting.\n"
   ]
  },
  {
   "cell_type": "code",
   "execution_count": 21,
   "metadata": {},
   "outputs": [
    {
     "name": "stdout",
     "output_type": "stream",
     "text": [
      "0.995\n"
     ]
    }
   ],
   "source": [
    "## Trial 1: 1 nearest neighbors, Euclidean Distance\n",
    "trial1 = accuracy(dtTestArray, testClasses, 1, 0)\n",
    "print(trial1)"
   ]
  },
  {
   "cell_type": "code",
   "execution_count": 22,
   "metadata": {},
   "outputs": [
    {
     "name": "stdout",
     "output_type": "stream",
     "text": [
      "0.98\n"
     ]
    }
   ],
   "source": [
    "## Trial 2: 2 nearest neighbors, Cosine Similarity\n",
    "trial2 = accuracy(dtTestArray, testClasses, 2 , 1)\n",
    "print(trial2)"
   ]
  },
  {
   "cell_type": "code",
   "execution_count": 23,
   "metadata": {},
   "outputs": [
    {
     "name": "stdout",
     "output_type": "stream",
     "text": [
      "0.77\n"
     ]
    }
   ],
   "source": [
    "## Trial 3: 3 nearest neighbors, Euclidean Distance\n",
    "trial3 = accuracy(dtTestArray, testClasses, 3, 0)\n",
    "print(trial3)"
   ]
  },
  {
   "cell_type": "code",
   "execution_count": 24,
   "metadata": {},
   "outputs": [
    {
     "name": "stdout",
     "output_type": "stream",
     "text": [
      "0.985\n"
     ]
    }
   ],
   "source": [
    "## Trial 4: 4 nearest neighbors, Cosine Similarity\n",
    "trial4 = accuracy(dtTestArray, testClasses, 4, 1)\n",
    "print(trial4)"
   ]
  },
  {
   "cell_type": "code",
   "execution_count": 25,
   "metadata": {},
   "outputs": [
    {
     "name": "stdout",
     "output_type": "stream",
     "text": [
      "0.83\n"
     ]
    }
   ],
   "source": [
    "## Trial 5: 5 nearest neighbors, Euclidean Distance\n",
    "trial5 = accuracy(dtTestArray, testClasses, 5, 0)\n",
    "print(trial5)"
   ]
  },
  {
   "cell_type": "code",
   "execution_count": 26,
   "metadata": {},
   "outputs": [
    {
     "name": "stdout",
     "output_type": "stream",
     "text": [
      "0.975\n"
     ]
    }
   ],
   "source": [
    "## Trial 6: 6 nearest neighbors, Cosine Similarity\n",
    "trial6 = accuracy(dtTestArray, testClasses, 6, 1)\n",
    "print(trial6)"
   ]
  },
  {
   "cell_type": "code",
   "execution_count": 27,
   "metadata": {},
   "outputs": [
    {
     "name": "stdout",
     "output_type": "stream",
     "text": [
      "0.92\n"
     ]
    }
   ],
   "source": [
    "## Trial 7: 7 nearest neighbors, Euclidean Distance\n",
    "trial7 = accuracy(dtTestArray, testClasses, 7, 0)\n",
    "print(trial7)"
   ]
  },
  {
   "cell_type": "code",
   "execution_count": 28,
   "metadata": {},
   "outputs": [
    {
     "name": "stdout",
     "output_type": "stream",
     "text": [
      "0.94\n"
     ]
    }
   ],
   "source": [
    "## Trial 8: 8 nearest neighbors, Cosine Similarity\n",
    "trial8 = accuracy(dtTestArray, testClasses, 8, 1)\n",
    "print(trial8)"
   ]
  },
  {
   "cell_type": "code",
   "execution_count": 29,
   "metadata": {},
   "outputs": [
    {
     "name": "stdout",
     "output_type": "stream",
     "text": [
      "0.89\n"
     ]
    }
   ],
   "source": [
    "## Trial 9: 9 nearest neighbors, Euclidean Distance\n",
    "trial9 = accuracy(dtTestArray, testClasses, 9, 0)\n",
    "print(trial9)"
   ]
  },
  {
   "cell_type": "code",
   "execution_count": 30,
   "metadata": {},
   "outputs": [
    {
     "name": "stdout",
     "output_type": "stream",
     "text": [
      "0.92\n"
     ]
    }
   ],
   "source": [
    "## Trial 10: 10 nearest neighbors, Cosine Similarity\n",
    "trial10 = accuracy(dtTestArray, testClasses, 10, 1)\n",
    "print(trial10)"
   ]
  },
  {
   "cell_type": "code",
   "execution_count": 31,
   "metadata": {},
   "outputs": [
    {
     "name": "stdout",
     "output_type": "stream",
     "text": [
      "0.9\n"
     ]
    }
   ],
   "source": [
    "## Trial 11: 11 nearest neighbors, Euclidean Distance\n",
    "trial11 = accuracy(dtTestArray, testClasses, 11, 0)\n",
    "print(trial11)"
   ]
  },
  {
   "cell_type": "code",
   "execution_count": 32,
   "metadata": {},
   "outputs": [
    {
     "name": "stdout",
     "output_type": "stream",
     "text": [
      "0.905\n"
     ]
    }
   ],
   "source": [
    "## Trial 12: 12 nearest neighbors, Cosine Similarity\n",
    "trial12 = accuracy(dtTestArray, testClasses, 12, 1)\n",
    "print(trial12)"
   ]
  },
  {
   "cell_type": "code",
   "execution_count": 33,
   "metadata": {},
   "outputs": [
    {
     "name": "stdout",
     "output_type": "stream",
     "text": [
      "0.93\n"
     ]
    }
   ],
   "source": [
    "## Trial 13: 13 nearest neighbors, Euclidean Distance\n",
    "trial13 = accuracy(dtTestArray, testClasses, 13, 0)\n",
    "print(trial13)"
   ]
  },
  {
   "cell_type": "code",
   "execution_count": 34,
   "metadata": {},
   "outputs": [
    {
     "name": "stdout",
     "output_type": "stream",
     "text": [
      "0.86\n"
     ]
    }
   ],
   "source": [
    "## Trial 14: 14 nearest neighbors, Cosine Similarity\n",
    "trial14 = accuracy(dtTestArray, testClasses, 14, 1)\n",
    "print(trial14)"
   ]
  },
  {
   "cell_type": "code",
   "execution_count": 35,
   "metadata": {},
   "outputs": [
    {
     "name": "stdout",
     "output_type": "stream",
     "text": [
      "0.9\n"
     ]
    }
   ],
   "source": [
    "## Trial 15: 15 nearest neighbors, Euclidean Distance\n",
    "trial15 = accuracy(dtTestArray, testClasses, 15, 0)\n",
    "print(trial15)"
   ]
  },
  {
   "cell_type": "code",
   "execution_count": 36,
   "metadata": {},
   "outputs": [
    {
     "name": "stdout",
     "output_type": "stream",
     "text": [
      "0.84\n"
     ]
    }
   ],
   "source": [
    "## Trial 16: 16 nearest neighbors, Cosine Similarity\n",
    "trial16 = accuracy(dtTestArray, testClasses, 16, 1)\n",
    "print(trial16)"
   ]
  },
  {
   "cell_type": "code",
   "execution_count": 37,
   "metadata": {},
   "outputs": [
    {
     "name": "stdout",
     "output_type": "stream",
     "text": [
      "0.88\n"
     ]
    }
   ],
   "source": [
    "## Trial 17: 17 nearest neighbors, Euclidean Distance\n",
    "trial17 = accuracy(dtTestArray, testClasses, 17, 0)\n",
    "print(trial17)"
   ]
  },
  {
   "cell_type": "code",
   "execution_count": 38,
   "metadata": {},
   "outputs": [
    {
     "name": "stdout",
     "output_type": "stream",
     "text": [
      "0.805\n"
     ]
    }
   ],
   "source": [
    "## Trial 18: 18 nearest neighbors, Cosine Similarity\n",
    "trial18 = accuracy(dtTestArray, testClasses, 18, 1)\n",
    "print(trial18)"
   ]
  },
  {
   "cell_type": "code",
   "execution_count": 39,
   "metadata": {},
   "outputs": [
    {
     "name": "stdout",
     "output_type": "stream",
     "text": [
      "0.875\n"
     ]
    }
   ],
   "source": [
    "## Trial 19: 19 nearest neighbors, Euclidean Distance\n",
    "trial19 = accuracy(dtTestArray, testClasses, 19, 0)\n",
    "print(trial19)"
   ]
  },
  {
   "cell_type": "code",
   "execution_count": 40,
   "metadata": {},
   "outputs": [
    {
     "name": "stdout",
     "output_type": "stream",
     "text": [
      "0.795\n"
     ]
    }
   ],
   "source": [
    "## Trial 20: 20 nearest neighbors, Cosine Similarity\n",
    "trial20 = accuracy(dtTestArray, testClasses, 20, 1)\n",
    "print(trial20)"
   ]
  },
  {
   "cell_type": "code",
   "execution_count": 41,
   "metadata": {},
   "outputs": [],
   "source": [
    "##Manually adding trials to list (bad practice, I know.. sorry!)\n",
    "euclideanList = [trial1, trial3, trial5, trial7, trial9, trial11, trial13, trial15, trial17, trial19]\n",
    "cosineList = [trial2, trial4, trial6, trial8, trial10, trial12, trial14, trial16, trial18, trial20]"
   ]
  },
  {
   "cell_type": "code",
   "execution_count": 42,
   "metadata": {},
   "outputs": [
    {
     "data": {
      "text/plain": [
       "[<matplotlib.lines.Line2D at 0x25d4d44db70>]"
      ]
     },
     "execution_count": 42,
     "metadata": {},
     "output_type": "execute_result"
    },
    {
     "data": {
      "image/png": "[encoded data removed]",
      "text/plain": [
       "<Figure size 432x288 with 1 Axes>"
      ]
     },
     "metadata": {},
     "output_type": "display_data"
    }
   ],
   "source": [
    "plt.plot(euclideanList)"
   ]
  },
  {
   "cell_type": "code",
   "execution_count": 43,
   "metadata": {},
   "outputs": [
    {
     "data": {
      "text/plain": [
       "[<matplotlib.lines.Line2D at 0x25d4d4cabe0>]"
      ]
     },
     "execution_count": 43,
     "metadata": {},
     "output_type": "execute_result"
    },
    {
     "data": {
      "image/png": "[encoded data removed]",
      "text/plain": [
       "<Figure size 432x288 with 1 Axes>"
      ]
     },
     "metadata": {},
     "output_type": "display_data"
    }
   ],
   "source": [
    "plt.plot(cosineList)"
   ]
  },
  {
   "cell_type": "code",
   "execution_count": 44,
   "metadata": {},
   "outputs": [],
   "source": [
    "## My findings from these plots (the first being for Euclidean trials\n",
    "## over the course of 10 trials with increasing k values, and the second \n",
    "## for Cosine Similarity over the course of 10 trials with increasing k\n",
    "## values) is that Euclidean distance had an initial dropoff as k started\n",
    "## increasing, but it was able to rebound and improve learning rate as k \n",
    "## increased.\n",
    "## For cosine similarity, accuracy got progressively worse and worse\n",
    "## as k increased."
   ]
  },
  {
   "cell_type": "code",
   "execution_count": 45,
   "metadata": {},
   "outputs": [],
   "source": [
    "def tf(dataset, row):\n",
    "    \n",
    "    for col in range(0, dataset.shape[1]):\n",
    "            tf = dataset[row,col]\n",
    "            return tf ## for each row\n",
    "\n",
    "def idf(dataset, col):\n",
    "\n",
    "    list1 = []\n",
    "    nk = 0\n",
    "    for rowval in range(0, dataset.shape[0]):\n",
    "        t = dataset[rowval, col]\n",
    "        list1.append(t)\n",
    "    \n",
    "    for i in list1:\n",
    "        if i != 0:\n",
    "            nk = nk + 1\n",
    "            \n",
    "    if nk == 0:\n",
    "        nk = 1 ##avoid divide by zero if term appears in no docs\n",
    "    return nk ##for each column\n",
    "\n",
    "def tfidf(dataset):\n",
    "    tfidfList = []\n",
    "    N = dataset.shape[0]\n",
    "    for col in range(0, dataset.shape[1]):\n",
    "        nk = idf(dataset, col)\n",
    "        for row in range(0, dataset.shape[0]):\n",
    "            temp = tf(dataset, row)\n",
    "            \n",
    "            tfidf = temp * np.log(N/nk)\n",
    "            tfidfList.append(tfidf)\n",
    "    \n",
    "    ModifiedDataset = np.array(tfidfList)\n",
    "    Mod = ModifiedDataset.reshape(dataset.shape[0], dataset.shape[1])\n",
    "    return Mod\n",
    "            \n",
    "        \n",
    "    \n",
    "    \n",
    "            \n",
    "\n",
    "            "
   ]
  },
  {
   "cell_type": "code",
   "execution_count": 46,
   "metadata": {},
   "outputs": [],
   "source": [
    "## Note: rather than modifying the original arrays, I created new ones.\n",
    "TFIDFTest = tfidf(dtTestArray)\n",
    "TFIDFTrain = tfidf(dtTrainArray)\n"
   ]
  },
  {
   "cell_type": "code",
   "execution_count": 47,
   "metadata": {},
   "outputs": [
    {
     "name": "stdout",
     "output_type": "stream",
     "text": [
      "0.995\n"
     ]
    }
   ],
   "source": [
    "## Trial 1: 1 nearest neighbors, Euclidean Distance\n",
    "t1 = accuracy(TFIDFTest, testClasses, 1, 0)\n",
    "print(t1)"
   ]
  },
  {
   "cell_type": "code",
   "execution_count": 48,
   "metadata": {},
   "outputs": [
    {
     "name": "stdout",
     "output_type": "stream",
     "text": [
      "0.76\n"
     ]
    }
   ],
   "source": [
    "## Trial 2: 2 nearest neighbors, Cosine Similarity\n",
    "t2 = accuracy(TFIDFTest, testClasses, 2, 1)\n",
    "print(t2)"
   ]
  },
  {
   "cell_type": "code",
   "execution_count": 49,
   "metadata": {},
   "outputs": [
    {
     "name": "stdout",
     "output_type": "stream",
     "text": [
      "0.78\n"
     ]
    }
   ],
   "source": [
    "## Trial 3: 3 nearest neighbors, Euclidean Distance\n",
    "t3 = accuracy(TFIDFTest, testClasses, 3, 0)\n",
    "print(t3)"
   ]
  },
  {
   "cell_type": "code",
   "execution_count": 50,
   "metadata": {},
   "outputs": [
    {
     "name": "stdout",
     "output_type": "stream",
     "text": [
      "0.705\n"
     ]
    }
   ],
   "source": [
    "## Trial 4: 4 nearest neighbors, Cosine Similarity\n",
    "t4 = accuracy(TFIDFTest, testClasses, 4, 1)\n",
    "print(t4)"
   ]
  },
  {
   "cell_type": "code",
   "execution_count": 51,
   "metadata": {},
   "outputs": [
    {
     "name": "stdout",
     "output_type": "stream",
     "text": [
      "0.695\n"
     ]
    }
   ],
   "source": [
    "## Trial 5: 5 nearest neighbors, Euclidean Distance\n",
    "t5 = accuracy(TFIDFTest, testClasses, 5, 0)\n",
    "print(t5)"
   ]
  },
  {
   "cell_type": "code",
   "execution_count": 52,
   "metadata": {},
   "outputs": [
    {
     "name": "stdout",
     "output_type": "stream",
     "text": [
      "0.65\n"
     ]
    }
   ],
   "source": [
    "## Trial 6: 6 nearest neighbors, Cosine Similarity\n",
    "t6 = accuracy(TFIDFTest, testClasses, 6, 1)\n",
    "print(t6)"
   ]
  },
  {
   "cell_type": "code",
   "execution_count": 53,
   "metadata": {},
   "outputs": [
    {
     "name": "stdout",
     "output_type": "stream",
     "text": [
      "0.635\n"
     ]
    }
   ],
   "source": [
    "## Trial 7: 7 nearest neighbors, Euclidean Distance\n",
    "t7 = accuracy(TFIDFTest, testClasses, 7, 0)\n",
    "print(t7)"
   ]
  },
  {
   "cell_type": "code",
   "execution_count": 54,
   "metadata": {},
   "outputs": [
    {
     "name": "stdout",
     "output_type": "stream",
     "text": [
      "0.61\n"
     ]
    }
   ],
   "source": [
    "## Trial 8: 8 nearest neighbors, Cosine Similarity\n",
    "t8 = accuracy(TFIDFTest, testClasses, 8, 1)\n",
    "print(t8)"
   ]
  },
  {
   "cell_type": "code",
   "execution_count": 55,
   "metadata": {},
   "outputs": [
    {
     "name": "stdout",
     "output_type": "stream",
     "text": [
      "0.615\n"
     ]
    }
   ],
   "source": [
    "## Trial 9: 9 nearest neighbors, Euclidean Distance\n",
    "t9 = accuracy(TFIDFTest, testClasses, 9, 0)\n",
    "print(t9)"
   ]
  },
  {
   "cell_type": "code",
   "execution_count": 56,
   "metadata": {},
   "outputs": [
    {
     "name": "stdout",
     "output_type": "stream",
     "text": [
      "0.585\n"
     ]
    }
   ],
   "source": [
    "## Trial 10: 10 nearest neighbors, Cosine Similarity\n",
    "t10 = accuracy(TFIDFTest, testClasses, 10, 1)\n",
    "print(t10)"
   ]
  },
  {
   "cell_type": "code",
   "execution_count": 57,
   "metadata": {},
   "outputs": [
    {
     "name": "stdout",
     "output_type": "stream",
     "text": [
      "0.58\n"
     ]
    }
   ],
   "source": [
    "## Trial 11: 11 nearest neighbors, Euclidean Distance\n",
    "t11 = accuracy(TFIDFTest, testClasses, 11, 0)\n",
    "print(t11)"
   ]
  },
  {
   "cell_type": "code",
   "execution_count": 58,
   "metadata": {},
   "outputs": [
    {
     "name": "stdout",
     "output_type": "stream",
     "text": [
      "0.595\n"
     ]
    }
   ],
   "source": [
    "## Trial 12: 12 nearest neighbors, Cosine Similarity\n",
    "t12 = accuracy(TFIDFTest, testClasses, 12, 1)\n",
    "print(t12)"
   ]
  },
  {
   "cell_type": "code",
   "execution_count": 59,
   "metadata": {},
   "outputs": [
    {
     "name": "stdout",
     "output_type": "stream",
     "text": [
      "0.555\n"
     ]
    }
   ],
   "source": [
    "## Trial 13: 13 nearest neighbors, Euclidean Distance\n",
    "t13 = accuracy(TFIDFTest, testClasses, 13, 0)\n",
    "print(t13)"
   ]
  },
  {
   "cell_type": "code",
   "execution_count": 60,
   "metadata": {},
   "outputs": [
    {
     "name": "stdout",
     "output_type": "stream",
     "text": [
      "0.6\n"
     ]
    }
   ],
   "source": [
    "## Trial 14: 14 nearest neighbors, Cosine Similarity\n",
    "t14 = accuracy(TFIDFTest, testClasses, 14,  1)\n",
    "print(t14)"
   ]
  },
  {
   "cell_type": "code",
   "execution_count": 61,
   "metadata": {},
   "outputs": [
    {
     "name": "stdout",
     "output_type": "stream",
     "text": [
      "0.535\n"
     ]
    }
   ],
   "source": [
    "## Trial 15: 15 nearest neighbors, Euclidean Distance\n",
    "t15 = accuracy(TFIDFTest, testClasses, 15, 0)\n",
    "print(t15)"
   ]
  },
  {
   "cell_type": "code",
   "execution_count": 62,
   "metadata": {},
   "outputs": [
    {
     "name": "stdout",
     "output_type": "stream",
     "text": [
      "0.6\n"
     ]
    }
   ],
   "source": [
    "## Trial 16: 16 nearest neighbors, Cosine Similarity\n",
    "t16 = accuracy(TFIDFTest, testClasses, 16, 1)\n",
    "print(t16)"
   ]
  },
  {
   "cell_type": "code",
   "execution_count": 63,
   "metadata": {},
   "outputs": [
    {
     "name": "stdout",
     "output_type": "stream",
     "text": [
      "0.57\n"
     ]
    }
   ],
   "source": [
    "## Trial 17: 17 nearest neighbors, Euclidean Distance\n",
    "t17 = accuracy(TFIDFTest, testClasses, 17, 0)\n",
    "print(t17)"
   ]
  },
  {
   "cell_type": "code",
   "execution_count": 64,
   "metadata": {},
   "outputs": [
    {
     "name": "stdout",
     "output_type": "stream",
     "text": [
      "0.585\n"
     ]
    }
   ],
   "source": [
    "## Trial 18: 18 nearest neighbors, Cosine Similarity\n",
    "t18 = accuracy(TFIDFTest, testClasses, 18, 1)\n",
    "print(t18)"
   ]
  },
  {
   "cell_type": "code",
   "execution_count": 65,
   "metadata": {},
   "outputs": [
    {
     "name": "stdout",
     "output_type": "stream",
     "text": [
      "0.565\n"
     ]
    }
   ],
   "source": [
    "## Trial 19: 19, nearest neighbors, Euclidean Distance\n",
    "t19 = accuracy(TFIDFTest, testClasses, 19, 0)\n",
    "print(t19)"
   ]
  },
  {
   "cell_type": "code",
   "execution_count": 66,
   "metadata": {},
   "outputs": [
    {
     "name": "stdout",
     "output_type": "stream",
     "text": [
      "0.585\n"
     ]
    }
   ],
   "source": [
    "## Trial 20: 20 nearest neighbors, Cosine Similarity\n",
    "t20 = accuracy(TFIDFTest, testClasses, 20, 1)\n",
    "print(t20)"
   ]
  },
  {
   "cell_type": "code",
   "execution_count": 67,
   "metadata": {},
   "outputs": [],
   "source": [
    "##Manually adding trials to list again (bad practice, I know.. sorry!)\n",
    "euclideanListTF = [t1, t3, t5, t7, t9, t11, t13, t15, t17, t19]\n",
    "cosineListTF = [t2, t4, t6, t8, t10, t12, t14, t16, t18, t20]"
   ]
  },
  {
   "cell_type": "code",
   "execution_count": 68,
   "metadata": {},
   "outputs": [
    {
     "data": {
      "text/plain": [
       "[<matplotlib.lines.Line2D at 0x25d4d5462e8>]"
      ]
     },
     "execution_count": 68,
     "metadata": {},
     "output_type": "execute_result"
    },
    {
     "data": {
      "image/png": "[encoded data removed]",
      "text/plain": [
       "<Figure size 432x288 with 1 Axes>"
      ]
     },
     "metadata": {},
     "output_type": "display_data"
    }
   ],
   "source": [
    "plt.plot(euclideanListTF)"
   ]
  },
  {
   "cell_type": "code",
   "execution_count": 69,
   "metadata": {},
   "outputs": [
    {
     "data": {
      "text/plain": [
       "[<matplotlib.lines.Line2D at 0x25d4d595dd8>]"
      ]
     },
     "execution_count": 69,
     "metadata": {},
     "output_type": "execute_result"
    },
    {
     "data": {
      "image/png": "[encoded data removed]",
      "text/plain": [
       "<Figure size 432x288 with 1 Axes>"
      ]
     },
     "metadata": {},
     "output_type": "display_data"
    }
   ],
   "source": [
    "plt.plot(cosineListTF)"
   ]
  },
  {
   "cell_type": "code",
   "execution_count": 70,
   "metadata": {},
   "outputs": [],
   "source": [
    "## These results were not what I was expecting. Again, as k increases, \n",
    "## the accuracy goes down. However, the change in accuracy is way more \n",
    "## pronounced on the TFxIDF weighted values..."
   ]
  },
  {
   "cell_type": "code",
   "execution_count": 71,
   "metadata": {},
   "outputs": [],
   "source": [
    "## 2.  CLASSIFICATION USING SCIKIT-LEARN"
   ]
  },
  {
   "cell_type": "code",
   "execution_count": 72,
   "metadata": {},
   "outputs": [],
   "source": [
    "bank_data = pd.read_csv(\"bank_data-Copy1.csv\", sep=',')"
   ]
  },
  {
   "cell_type": "code",
   "execution_count": 73,
   "metadata": {},
   "outputs": [],
   "source": [
    "## a. Load and preprocess the data using Numpy or Pandas and Scikit-learn\n",
    "## 1. Separate 'pep' from data to be used for training and testing.\n",
    "## 2. Convert selected dataset into standard spreadsheet format\n",
    "## 3. Split transformed data into training and testing using (80-20)\n",
    "##    randomized split."
   ]
  },
  {
   "cell_type": "code",
   "execution_count": 74,
   "metadata": {},
   "outputs": [
    {
     "data": {
      "text/plain": [
       "(600, 12)"
      ]
     },
     "execution_count": 74,
     "metadata": {},
     "output_type": "execute_result"
    }
   ],
   "source": [
    "bank_data.shape"
   ]
  },
  {
   "cell_type": "code",
   "execution_count": 75,
   "metadata": {},
   "outputs": [
    {
     "data": {
      "text/html": [
       "<div>\n",
       "<style scoped>\n",
       "    .dataframe tbody tr th:only-of-type {\n",
       "        vertical-align: middle;\n",
       "    }\n",
       "\n",
       "    .dataframe tbody tr th {\n",
       "        vertical-align: top;\n",
       "    }\n",
       "\n",
       "    .dataframe thead th {\n",
       "        text-align: right;\n",
       "    }\n",
       "</style>\n",
       "<table border=\"1\" class=\"dataframe\">\n",
       "  <thead>\n",
       "    <tr style=\"text-align: right;\">\n",
       "      <th></th>\n",
       "      <th>id</th>\n",
       "      <th>age</th>\n",
       "      <th>income</th>\n",
       "      <th>children</th>\n",
       "      <th>gender</th>\n",
       "      <th>region</th>\n",
       "      <th>married</th>\n",
       "      <th>car</th>\n",
       "      <th>savings_acct</th>\n",
       "      <th>current_acct</th>\n",
       "      <th>mortgage</th>\n",
       "      <th>pep</th>\n",
       "    </tr>\n",
       "  </thead>\n",
       "  <tbody>\n",
       "    <tr>\n",
       "      <th>0</th>\n",
       "      <td>ID12101</td>\n",
       "      <td>48</td>\n",
       "      <td>17546.0</td>\n",
       "      <td>1</td>\n",
       "      <td>FEMALE</td>\n",
       "      <td>INNER_CITY</td>\n",
       "      <td>NO</td>\n",
       "      <td>NO</td>\n",
       "      <td>NO</td>\n",
       "      <td>NO</td>\n",
       "      <td>NO</td>\n",
       "      <td>YES</td>\n",
       "    </tr>\n",
       "    <tr>\n",
       "      <th>1</th>\n",
       "      <td>ID12102</td>\n",
       "      <td>40</td>\n",
       "      <td>30085.1</td>\n",
       "      <td>3</td>\n",
       "      <td>MALE</td>\n",
       "      <td>TOWN</td>\n",
       "      <td>YES</td>\n",
       "      <td>YES</td>\n",
       "      <td>NO</td>\n",
       "      <td>YES</td>\n",
       "      <td>YES</td>\n",
       "      <td>NO</td>\n",
       "    </tr>\n",
       "    <tr>\n",
       "      <th>2</th>\n",
       "      <td>ID12103</td>\n",
       "      <td>51</td>\n",
       "      <td>16575.4</td>\n",
       "      <td>0</td>\n",
       "      <td>FEMALE</td>\n",
       "      <td>INNER_CITY</td>\n",
       "      <td>YES</td>\n",
       "      <td>YES</td>\n",
       "      <td>YES</td>\n",
       "      <td>YES</td>\n",
       "      <td>NO</td>\n",
       "      <td>NO</td>\n",
       "    </tr>\n",
       "    <tr>\n",
       "      <th>3</th>\n",
       "      <td>ID12104</td>\n",
       "      <td>23</td>\n",
       "      <td>20375.4</td>\n",
       "      <td>3</td>\n",
       "      <td>FEMALE</td>\n",
       "      <td>TOWN</td>\n",
       "      <td>YES</td>\n",
       "      <td>NO</td>\n",
       "      <td>NO</td>\n",
       "      <td>YES</td>\n",
       "      <td>NO</td>\n",
       "      <td>NO</td>\n",
       "    </tr>\n",
       "    <tr>\n",
       "      <th>4</th>\n",
       "      <td>ID12105</td>\n",
       "      <td>57</td>\n",
       "      <td>50576.3</td>\n",
       "      <td>0</td>\n",
       "      <td>FEMALE</td>\n",
       "      <td>RURAL</td>\n",
       "      <td>YES</td>\n",
       "      <td>NO</td>\n",
       "      <td>YES</td>\n",
       "      <td>NO</td>\n",
       "      <td>NO</td>\n",
       "      <td>NO</td>\n",
       "    </tr>\n",
       "  </tbody>\n",
       "</table>\n",
       "</div>"
      ],
      "text/plain": [
       "        id  age   income  children  gender      region married  car  \\\n",
       "0  ID12101   48  17546.0         1  FEMALE  INNER_CITY      NO   NO   \n",
       "1  ID12102   40  30085.1         3    MALE        TOWN     YES  YES   \n",
       "2  ID12103   51  16575.4         0  FEMALE  INNER_CITY     YES  YES   \n",
       "3  ID12104   23  20375.4         3  FEMALE        TOWN     YES   NO   \n",
       "4  ID12105   57  50576.3         0  FEMALE       RURAL     YES   NO   \n",
       "\n",
       "  savings_acct current_acct mortgage  pep  \n",
       "0           NO           NO       NO  YES  \n",
       "1           NO          YES      YES   NO  \n",
       "2          YES          YES       NO   NO  \n",
       "3           NO          YES       NO   NO  \n",
       "4          YES           NO       NO   NO  "
      ]
     },
     "execution_count": 75,
     "metadata": {},
     "output_type": "execute_result"
    }
   ],
   "source": [
    "bank_data.head()"
   ]
  },
  {
   "cell_type": "code",
   "execution_count": 76,
   "metadata": {},
   "outputs": [
    {
     "data": {
      "text/html": [
       "<div>\n",
       "<style scoped>\n",
       "    .dataframe tbody tr th:only-of-type {\n",
       "        vertical-align: middle;\n",
       "    }\n",
       "\n",
       "    .dataframe tbody tr th {\n",
       "        vertical-align: top;\n",
       "    }\n",
       "\n",
       "    .dataframe thead th {\n",
       "        text-align: right;\n",
       "    }\n",
       "</style>\n",
       "<table border=\"1\" class=\"dataframe\">\n",
       "  <thead>\n",
       "    <tr style=\"text-align: right;\">\n",
       "      <th></th>\n",
       "      <th>id</th>\n",
       "      <th>income</th>\n",
       "      <th>children</th>\n",
       "      <th>gender</th>\n",
       "      <th>region</th>\n",
       "      <th>married</th>\n",
       "      <th>car</th>\n",
       "      <th>savings_acct</th>\n",
       "      <th>current_acct</th>\n",
       "      <th>mortgage</th>\n",
       "    </tr>\n",
       "  </thead>\n",
       "  <tbody>\n",
       "    <tr>\n",
       "      <th>0</th>\n",
       "      <td>ID12101</td>\n",
       "      <td>17546.0</td>\n",
       "      <td>1</td>\n",
       "      <td>FEMALE</td>\n",
       "      <td>INNER_CITY</td>\n",
       "      <td>NO</td>\n",
       "      <td>NO</td>\n",
       "      <td>NO</td>\n",
       "      <td>NO</td>\n",
       "      <td>NO</td>\n",
       "    </tr>\n",
       "    <tr>\n",
       "      <th>1</th>\n",
       "      <td>ID12102</td>\n",
       "      <td>30085.1</td>\n",
       "      <td>3</td>\n",
       "      <td>MALE</td>\n",
       "      <td>TOWN</td>\n",
       "      <td>YES</td>\n",
       "      <td>YES</td>\n",
       "      <td>NO</td>\n",
       "      <td>YES</td>\n",
       "      <td>YES</td>\n",
       "    </tr>\n",
       "    <tr>\n",
       "      <th>2</th>\n",
       "      <td>ID12103</td>\n",
       "      <td>16575.4</td>\n",
       "      <td>0</td>\n",
       "      <td>FEMALE</td>\n",
       "      <td>INNER_CITY</td>\n",
       "      <td>YES</td>\n",
       "      <td>YES</td>\n",
       "      <td>YES</td>\n",
       "      <td>YES</td>\n",
       "      <td>NO</td>\n",
       "    </tr>\n",
       "    <tr>\n",
       "      <th>3</th>\n",
       "      <td>ID12104</td>\n",
       "      <td>20375.4</td>\n",
       "      <td>3</td>\n",
       "      <td>FEMALE</td>\n",
       "      <td>TOWN</td>\n",
       "      <td>YES</td>\n",
       "      <td>NO</td>\n",
       "      <td>NO</td>\n",
       "      <td>YES</td>\n",
       "      <td>NO</td>\n",
       "    </tr>\n",
       "    <tr>\n",
       "      <th>4</th>\n",
       "      <td>ID12105</td>\n",
       "      <td>50576.3</td>\n",
       "      <td>0</td>\n",
       "      <td>FEMALE</td>\n",
       "      <td>RURAL</td>\n",
       "      <td>YES</td>\n",
       "      <td>NO</td>\n",
       "      <td>YES</td>\n",
       "      <td>NO</td>\n",
       "      <td>NO</td>\n",
       "    </tr>\n",
       "  </tbody>\n",
       "</table>\n",
       "</div>"
      ],
      "text/plain": [
       "        id   income  children  gender      region married  car savings_acct  \\\n",
       "0  ID12101  17546.0         1  FEMALE  INNER_CITY      NO   NO           NO   \n",
       "1  ID12102  30085.1         3    MALE        TOWN     YES  YES           NO   \n",
       "2  ID12103  16575.4         0  FEMALE  INNER_CITY     YES  YES          YES   \n",
       "3  ID12104  20375.4         3  FEMALE        TOWN     YES   NO           NO   \n",
       "4  ID12105  50576.3         0  FEMALE       RURAL     YES   NO          YES   \n",
       "\n",
       "  current_acct mortgage  \n",
       "0           NO       NO  \n",
       "1          YES      YES  \n",
       "2          YES       NO  \n",
       "3          YES       NO  \n",
       "4           NO       NO  "
      ]
     },
     "execution_count": 76,
     "metadata": {},
     "output_type": "execute_result"
    }
   ],
   "source": [
    "bank_records = bank_data[['id', 'income', 'children', 'gender', 'region', 'married', 'car', 'savings_acct', 'current_acct', 'mortgage']]\n",
    "bank_records.head()"
   ]
  },
  {
   "cell_type": "code",
   "execution_count": 77,
   "metadata": {},
   "outputs": [
    {
     "data": {
      "text/plain": [
       "0    YES\n",
       "1     NO\n",
       "2     NO\n",
       "3     NO\n",
       "4     NO\n",
       "Name: pep, dtype: object"
      ]
     },
     "execution_count": 77,
     "metadata": {},
     "output_type": "execute_result"
    }
   ],
   "source": [
    "bank_target = bank_data.pep\n",
    "bank_target.head()"
   ]
  },
  {
   "cell_type": "code",
   "execution_count": 78,
   "metadata": {},
   "outputs": [
    {
     "data": {
      "text/html": [
       "<div>\n",
       "<style scoped>\n",
       "    .dataframe tbody tr th:only-of-type {\n",
       "        vertical-align: middle;\n",
       "    }\n",
       "\n",
       "    .dataframe tbody tr th {\n",
       "        vertical-align: top;\n",
       "    }\n",
       "\n",
       "    .dataframe thead th {\n",
       "        text-align: right;\n",
       "    }\n",
       "</style>\n",
       "<table border=\"1\" class=\"dataframe\">\n",
       "  <thead>\n",
       "    <tr style=\"text-align: right;\">\n",
       "      <th></th>\n",
       "      <th>income</th>\n",
       "      <th>children</th>\n",
       "      <th>gender_FEMALE</th>\n",
       "      <th>gender_MALE</th>\n",
       "      <th>region_INNER_CITY</th>\n",
       "      <th>region_RURAL</th>\n",
       "      <th>region_SUBURBAN</th>\n",
       "      <th>region_TOWN</th>\n",
       "      <th>married_NO</th>\n",
       "      <th>married_YES</th>\n",
       "      <th>car_NO</th>\n",
       "      <th>car_YES</th>\n",
       "      <th>savings_acct_NO</th>\n",
       "      <th>savings_acct_YES</th>\n",
       "      <th>current_acct_NO</th>\n",
       "      <th>current_acct_YES</th>\n",
       "      <th>mortgage_NO</th>\n",
       "      <th>mortgage_YES</th>\n",
       "    </tr>\n",
       "  </thead>\n",
       "  <tbody>\n",
       "    <tr>\n",
       "      <th>0</th>\n",
       "      <td>17546.00</td>\n",
       "      <td>1</td>\n",
       "      <td>1</td>\n",
       "      <td>0</td>\n",
       "      <td>1</td>\n",
       "      <td>0</td>\n",
       "      <td>0</td>\n",
       "      <td>0</td>\n",
       "      <td>1</td>\n",
       "      <td>0</td>\n",
       "      <td>1</td>\n",
       "      <td>0</td>\n",
       "      <td>1</td>\n",
       "      <td>0</td>\n",
       "      <td>1</td>\n",
       "      <td>0</td>\n",
       "      <td>1</td>\n",
       "      <td>0</td>\n",
       "    </tr>\n",
       "    <tr>\n",
       "      <th>1</th>\n",
       "      <td>30085.10</td>\n",
       "      <td>3</td>\n",
       "      <td>0</td>\n",
       "      <td>1</td>\n",
       "      <td>0</td>\n",
       "      <td>0</td>\n",
       "      <td>0</td>\n",
       "      <td>1</td>\n",
       "      <td>0</td>\n",
       "      <td>1</td>\n",
       "      <td>0</td>\n",
       "      <td>1</td>\n",
       "      <td>1</td>\n",
       "      <td>0</td>\n",
       "      <td>0</td>\n",
       "      <td>1</td>\n",
       "      <td>0</td>\n",
       "      <td>1</td>\n",
       "    </tr>\n",
       "    <tr>\n",
       "      <th>2</th>\n",
       "      <td>16575.40</td>\n",
       "      <td>0</td>\n",
       "      <td>1</td>\n",
       "      <td>0</td>\n",
       "      <td>1</td>\n",
       "      <td>0</td>\n",
       "      <td>0</td>\n",
       "      <td>0</td>\n",
       "      <td>0</td>\n",
       "      <td>1</td>\n",
       "      <td>0</td>\n",
       "      <td>1</td>\n",
       "      <td>0</td>\n",
       "      <td>1</td>\n",
       "      <td>0</td>\n",
       "      <td>1</td>\n",
       "      <td>1</td>\n",
       "      <td>0</td>\n",
       "    </tr>\n",
       "    <tr>\n",
       "      <th>3</th>\n",
       "      <td>20375.40</td>\n",
       "      <td>3</td>\n",
       "      <td>1</td>\n",
       "      <td>0</td>\n",
       "      <td>0</td>\n",
       "      <td>0</td>\n",
       "      <td>0</td>\n",
       "      <td>1</td>\n",
       "      <td>0</td>\n",
       "      <td>1</td>\n",
       "      <td>1</td>\n",
       "      <td>0</td>\n",
       "      <td>1</td>\n",
       "      <td>0</td>\n",
       "      <td>0</td>\n",
       "      <td>1</td>\n",
       "      <td>1</td>\n",
       "      <td>0</td>\n",
       "    </tr>\n",
       "    <tr>\n",
       "      <th>4</th>\n",
       "      <td>50576.30</td>\n",
       "      <td>0</td>\n",
       "      <td>1</td>\n",
       "      <td>0</td>\n",
       "      <td>0</td>\n",
       "      <td>1</td>\n",
       "      <td>0</td>\n",
       "      <td>0</td>\n",
       "      <td>0</td>\n",
       "      <td>1</td>\n",
       "      <td>1</td>\n",
       "      <td>0</td>\n",
       "      <td>0</td>\n",
       "      <td>1</td>\n",
       "      <td>1</td>\n",
       "      <td>0</td>\n",
       "      <td>1</td>\n",
       "      <td>0</td>\n",
       "    </tr>\n",
       "    <tr>\n",
       "      <th>5</th>\n",
       "      <td>37869.60</td>\n",
       "      <td>2</td>\n",
       "      <td>1</td>\n",
       "      <td>0</td>\n",
       "      <td>0</td>\n",
       "      <td>0</td>\n",
       "      <td>0</td>\n",
       "      <td>1</td>\n",
       "      <td>0</td>\n",
       "      <td>1</td>\n",
       "      <td>1</td>\n",
       "      <td>0</td>\n",
       "      <td>0</td>\n",
       "      <td>1</td>\n",
       "      <td>0</td>\n",
       "      <td>1</td>\n",
       "      <td>1</td>\n",
       "      <td>0</td>\n",
       "    </tr>\n",
       "    <tr>\n",
       "      <th>6</th>\n",
       "      <td>8877.07</td>\n",
       "      <td>0</td>\n",
       "      <td>0</td>\n",
       "      <td>1</td>\n",
       "      <td>0</td>\n",
       "      <td>1</td>\n",
       "      <td>0</td>\n",
       "      <td>0</td>\n",
       "      <td>1</td>\n",
       "      <td>0</td>\n",
       "      <td>1</td>\n",
       "      <td>0</td>\n",
       "      <td>1</td>\n",
       "      <td>0</td>\n",
       "      <td>0</td>\n",
       "      <td>1</td>\n",
       "      <td>1</td>\n",
       "      <td>0</td>\n",
       "    </tr>\n",
       "    <tr>\n",
       "      <th>7</th>\n",
       "      <td>24946.60</td>\n",
       "      <td>0</td>\n",
       "      <td>0</td>\n",
       "      <td>1</td>\n",
       "      <td>0</td>\n",
       "      <td>0</td>\n",
       "      <td>0</td>\n",
       "      <td>1</td>\n",
       "      <td>0</td>\n",
       "      <td>1</td>\n",
       "      <td>0</td>\n",
       "      <td>1</td>\n",
       "      <td>0</td>\n",
       "      <td>1</td>\n",
       "      <td>0</td>\n",
       "      <td>1</td>\n",
       "      <td>1</td>\n",
       "      <td>0</td>\n",
       "    </tr>\n",
       "    <tr>\n",
       "      <th>8</th>\n",
       "      <td>25304.30</td>\n",
       "      <td>2</td>\n",
       "      <td>1</td>\n",
       "      <td>0</td>\n",
       "      <td>0</td>\n",
       "      <td>0</td>\n",
       "      <td>1</td>\n",
       "      <td>0</td>\n",
       "      <td>0</td>\n",
       "      <td>1</td>\n",
       "      <td>0</td>\n",
       "      <td>1</td>\n",
       "      <td>1</td>\n",
       "      <td>0</td>\n",
       "      <td>1</td>\n",
       "      <td>0</td>\n",
       "      <td>1</td>\n",
       "      <td>0</td>\n",
       "    </tr>\n",
       "    <tr>\n",
       "      <th>9</th>\n",
       "      <td>24212.10</td>\n",
       "      <td>2</td>\n",
       "      <td>0</td>\n",
       "      <td>1</td>\n",
       "      <td>0</td>\n",
       "      <td>0</td>\n",
       "      <td>0</td>\n",
       "      <td>1</td>\n",
       "      <td>0</td>\n",
       "      <td>1</td>\n",
       "      <td>0</td>\n",
       "      <td>1</td>\n",
       "      <td>0</td>\n",
       "      <td>1</td>\n",
       "      <td>0</td>\n",
       "      <td>1</td>\n",
       "      <td>1</td>\n",
       "      <td>0</td>\n",
       "    </tr>\n",
       "  </tbody>\n",
       "</table>\n",
       "</div>"
      ],
      "text/plain": [
       "     income  children  gender_FEMALE  gender_MALE  region_INNER_CITY  \\\n",
       "0  17546.00         1              1            0                  1   \n",
       "1  30085.10         3              0            1                  0   \n",
       "2  16575.40         0              1            0                  1   \n",
       "3  20375.40         3              1            0                  0   \n",
       "4  50576.30         0              1            0                  0   \n",
       "5  37869.60         2              1            0                  0   \n",
       "6   8877.07         0              0            1                  0   \n",
       "7  24946.60         0              0            1                  0   \n",
       "8  25304.30         2              1            0                  0   \n",
       "9  24212.10         2              0            1                  0   \n",
       "\n",
       "   region_RURAL  region_SUBURBAN  region_TOWN  married_NO  married_YES  \\\n",
       "0             0                0            0           1            0   \n",
       "1             0                0            1           0            1   \n",
       "2             0                0            0           0            1   \n",
       "3             0                0            1           0            1   \n",
       "4             1                0            0           0            1   \n",
       "5             0                0            1           0            1   \n",
       "6             1                0            0           1            0   \n",
       "7             0                0            1           0            1   \n",
       "8             0                1            0           0            1   \n",
       "9             0                0            1           0            1   \n",
       "\n",
       "   car_NO  car_YES  savings_acct_NO  savings_acct_YES  current_acct_NO  \\\n",
       "0       1        0                1                 0                1   \n",
       "1       0        1                1                 0                0   \n",
       "2       0        1                0                 1                0   \n",
       "3       1        0                1                 0                0   \n",
       "4       1        0                0                 1                1   \n",
       "5       1        0                0                 1                0   \n",
       "6       1        0                1                 0                0   \n",
       "7       0        1                0                 1                0   \n",
       "8       0        1                1                 0                1   \n",
       "9       0        1                0                 1                0   \n",
       "\n",
       "   current_acct_YES  mortgage_NO  mortgage_YES  \n",
       "0                 0            1             0  \n",
       "1                 1            0             1  \n",
       "2                 1            1             0  \n",
       "3                 1            1             0  \n",
       "4                 0            1             0  \n",
       "5                 1            1             0  \n",
       "6                 1            1             0  \n",
       "7                 1            1             0  \n",
       "8                 0            1             0  \n",
       "9                 1            1             0  "
      ]
     },
     "execution_count": 78,
     "metadata": {},
     "output_type": "execute_result"
    }
   ],
   "source": [
    "##Note: Removed ID#'s since they give no value\n",
    "bank_matrix = pd.get_dummies(bank_records[['income', 'children', 'gender', 'region', 'married', 'car', 'savings_acct', 'current_acct', 'mortgage']])\n",
    "bank_matrix.head(10)"
   ]
  },
  {
   "cell_type": "code",
   "execution_count": 79,
   "metadata": {},
   "outputs": [
    {
     "name": "stderr",
     "output_type": "stream",
     "text": [
      "C:\\Users\\khrab\\Anaconda3\\lib\\site-packages\\sklearn\\cross_validation.py:41: DeprecationWarning: This module was deprecated in version 0.18 in favor of the model_selection module into which all the refactored classes and functions are moved. Also note that the interface of the new CV iterators are different from that of this module. This module will be removed in 0.20.\n",
      "  \"This module will be removed in 0.20.\", DeprecationWarning)\n"
     ]
    }
   ],
   "source": [
    "from sklearn.cross_validation import train_test_split\n",
    "bank_train, bank_test, bank_target_train, bank_target_test = train_test_split(bank_matrix, bank_target, test_size=0.2, random_state=33)\n"
   ]
  },
  {
   "cell_type": "code",
   "execution_count": 80,
   "metadata": {},
   "outputs": [
    {
     "name": "stdout",
     "output_type": "stream",
     "text": [
      "(120, 18)\n"
     ]
    }
   ],
   "source": [
    "print(bank_test.shape)"
   ]
  },
  {
   "cell_type": "code",
   "execution_count": 81,
   "metadata": {},
   "outputs": [
    {
     "data": {
      "text/html": [
       "<div>\n",
       "<style scoped>\n",
       "    .dataframe tbody tr th:only-of-type {\n",
       "        vertical-align: middle;\n",
       "    }\n",
       "\n",
       "    .dataframe tbody tr th {\n",
       "        vertical-align: top;\n",
       "    }\n",
       "\n",
       "    .dataframe thead th {\n",
       "        text-align: right;\n",
       "    }\n",
       "</style>\n",
       "<table border=\"1\" class=\"dataframe\">\n",
       "  <thead>\n",
       "    <tr style=\"text-align: right;\">\n",
       "      <th></th>\n",
       "      <th>income</th>\n",
       "      <th>children</th>\n",
       "      <th>gender_FEMALE</th>\n",
       "      <th>gender_MALE</th>\n",
       "      <th>region_INNER_CITY</th>\n",
       "      <th>region_RURAL</th>\n",
       "      <th>region_SUBURBAN</th>\n",
       "      <th>region_TOWN</th>\n",
       "      <th>married_NO</th>\n",
       "      <th>married_YES</th>\n",
       "      <th>car_NO</th>\n",
       "      <th>car_YES</th>\n",
       "      <th>savings_acct_NO</th>\n",
       "      <th>savings_acct_YES</th>\n",
       "      <th>current_acct_NO</th>\n",
       "      <th>current_acct_YES</th>\n",
       "      <th>mortgage_NO</th>\n",
       "      <th>mortgage_YES</th>\n",
       "    </tr>\n",
       "  </thead>\n",
       "  <tbody>\n",
       "    <tr>\n",
       "      <th>456</th>\n",
       "      <td>13267.6</td>\n",
       "      <td>0</td>\n",
       "      <td>1</td>\n",
       "      <td>0</td>\n",
       "      <td>0</td>\n",
       "      <td>0</td>\n",
       "      <td>0</td>\n",
       "      <td>1</td>\n",
       "      <td>0</td>\n",
       "      <td>1</td>\n",
       "      <td>0</td>\n",
       "      <td>1</td>\n",
       "      <td>0</td>\n",
       "      <td>1</td>\n",
       "      <td>0</td>\n",
       "      <td>1</td>\n",
       "      <td>0</td>\n",
       "      <td>1</td>\n",
       "    </tr>\n",
       "    <tr>\n",
       "      <th>366</th>\n",
       "      <td>29866.9</td>\n",
       "      <td>1</td>\n",
       "      <td>1</td>\n",
       "      <td>0</td>\n",
       "      <td>1</td>\n",
       "      <td>0</td>\n",
       "      <td>0</td>\n",
       "      <td>0</td>\n",
       "      <td>1</td>\n",
       "      <td>0</td>\n",
       "      <td>0</td>\n",
       "      <td>1</td>\n",
       "      <td>1</td>\n",
       "      <td>0</td>\n",
       "      <td>0</td>\n",
       "      <td>1</td>\n",
       "      <td>1</td>\n",
       "      <td>0</td>\n",
       "    </tr>\n",
       "    <tr>\n",
       "      <th>131</th>\n",
       "      <td>41609.5</td>\n",
       "      <td>3</td>\n",
       "      <td>0</td>\n",
       "      <td>1</td>\n",
       "      <td>0</td>\n",
       "      <td>1</td>\n",
       "      <td>0</td>\n",
       "      <td>0</td>\n",
       "      <td>0</td>\n",
       "      <td>1</td>\n",
       "      <td>1</td>\n",
       "      <td>0</td>\n",
       "      <td>0</td>\n",
       "      <td>1</td>\n",
       "      <td>0</td>\n",
       "      <td>1</td>\n",
       "      <td>0</td>\n",
       "      <td>1</td>\n",
       "    </tr>\n",
       "    <tr>\n",
       "      <th>448</th>\n",
       "      <td>48971.6</td>\n",
       "      <td>3</td>\n",
       "      <td>0</td>\n",
       "      <td>1</td>\n",
       "      <td>0</td>\n",
       "      <td>1</td>\n",
       "      <td>0</td>\n",
       "      <td>0</td>\n",
       "      <td>0</td>\n",
       "      <td>1</td>\n",
       "      <td>0</td>\n",
       "      <td>1</td>\n",
       "      <td>0</td>\n",
       "      <td>1</td>\n",
       "      <td>1</td>\n",
       "      <td>0</td>\n",
       "      <td>1</td>\n",
       "      <td>0</td>\n",
       "    </tr>\n",
       "    <tr>\n",
       "      <th>337</th>\n",
       "      <td>38080.9</td>\n",
       "      <td>1</td>\n",
       "      <td>0</td>\n",
       "      <td>1</td>\n",
       "      <td>1</td>\n",
       "      <td>0</td>\n",
       "      <td>0</td>\n",
       "      <td>0</td>\n",
       "      <td>0</td>\n",
       "      <td>1</td>\n",
       "      <td>0</td>\n",
       "      <td>1</td>\n",
       "      <td>0</td>\n",
       "      <td>1</td>\n",
       "      <td>1</td>\n",
       "      <td>0</td>\n",
       "      <td>0</td>\n",
       "      <td>1</td>\n",
       "    </tr>\n",
       "  </tbody>\n",
       "</table>\n",
       "</div>"
      ],
      "text/plain": [
       "      income  children  gender_FEMALE  gender_MALE  region_INNER_CITY  \\\n",
       "456  13267.6         0              1            0                  0   \n",
       "366  29866.9         1              1            0                  1   \n",
       "131  41609.5         3              0            1                  0   \n",
       "448  48971.6         3              0            1                  0   \n",
       "337  38080.9         1              0            1                  1   \n",
       "\n",
       "     region_RURAL  region_SUBURBAN  region_TOWN  married_NO  married_YES  \\\n",
       "456             0                0            1           0            1   \n",
       "366             0                0            0           1            0   \n",
       "131             1                0            0           0            1   \n",
       "448             1                0            0           0            1   \n",
       "337             0                0            0           0            1   \n",
       "\n",
       "     car_NO  car_YES  savings_acct_NO  savings_acct_YES  current_acct_NO  \\\n",
       "456       0        1                0                 1                0   \n",
       "366       0        1                1                 0                0   \n",
       "131       1        0                0                 1                0   \n",
       "448       0        1                0                 1                1   \n",
       "337       0        1                0                 1                1   \n",
       "\n",
       "     current_acct_YES  mortgage_NO  mortgage_YES  \n",
       "456                 1            0             1  \n",
       "366                 1            1             0  \n",
       "131                 1            0             1  \n",
       "448                 0            1             0  \n",
       "337                 0            0             1  "
      ]
     },
     "execution_count": 81,
     "metadata": {},
     "output_type": "execute_result"
    }
   ],
   "source": [
    "bank_test[0:5]"
   ]
  },
  {
   "cell_type": "code",
   "execution_count": 82,
   "metadata": {},
   "outputs": [],
   "source": [
    "## (b.) Run scikit-learn's KNN classifier on test set\n",
    "## First, normalize data (values 0 to 1)\n",
    "## Generate confusion matrix (visualize using matplotlib)\n",
    "## Generate classification report\n",
    "## Compute average accuracy score\n",
    "## Experiment with different values of k and weight parameter (with or \n",
    "## without distance weighting) to see if you can improve accuracy\n",
    "## Provide short discussion on what parameters worked best, & final results."
   ]
  },
  {
   "cell_type": "code",
   "execution_count": 83,
   "metadata": {},
   "outputs": [],
   "source": [
    "from sklearn import preprocessing\n",
    "min_max_scaler = preprocessing.MinMaxScaler().fit(bank_train)\n",
    "bank_train_norm = min_max_scaler.transform(bank_train)\n",
    "bank_test_norm = min_max_scaler.transform(bank_test)"
   ]
  },
  {
   "cell_type": "code",
   "execution_count": 84,
   "metadata": {},
   "outputs": [
    {
     "data": {
      "text/plain": [
       "array([[0.46, 0.67, 1.  , 0.  , 1.  , 0.  , 0.  , 0.  , 0.  , 1.  , 0.  , 1.  , 0.  , 1.  , 0.  , 1.  , 1.  , 0.  ],\n",
       "       [0.78, 0.  , 1.  , 0.  , 0.  , 1.  , 0.  , 0.  , 0.  , 1.  , 1.  , 0.  , 0.  , 1.  , 1.  , 0.  , 1.  , 0.  ],\n",
       "       [0.16, 0.  , 1.  , 0.  , 1.  , 0.  , 0.  , 0.  , 0.  , 1.  , 1.  , 0.  , 0.  , 1.  , 0.  , 1.  , 1.  , 0.  ],\n",
       "       [0.18, 0.33, 0.  , 1.  , 1.  , 0.  , 0.  , 0.  , 0.  , 1.  , 1.  , 0.  , 0.  , 1.  , 0.  , 1.  , 1.  , 0.  ],\n",
       "       [0.18, 0.  , 1.  , 0.  , 0.  , 0.  , 0.  , 1.  , 0.  , 1.  , 0.  , 1.  , 0.  , 1.  , 1.  , 0.  , 0.  , 1.  ]])"
      ]
     },
     "execution_count": 84,
     "metadata": {},
     "output_type": "execute_result"
    }
   ],
   "source": [
    "np.set_printoptions(precision=2, linewidth=200, suppress=True)\n",
    "bank_train_norm[0:5]"
   ]
  },
  {
   "cell_type": "code",
   "execution_count": 85,
   "metadata": {},
   "outputs": [],
   "source": [
    "from sklearn import neighbors, tree, naive_bayes"
   ]
  },
  {
   "cell_type": "code",
   "execution_count": 86,
   "metadata": {},
   "outputs": [
    {
     "data": {
      "text/plain": [
       "KNeighborsClassifier(algorithm='auto', leaf_size=30, metric='minkowski',\n",
       "           metric_params=None, n_jobs=1, n_neighbors=5, p=2,\n",
       "           weights='distance')"
      ]
     },
     "execution_count": 86,
     "metadata": {},
     "output_type": "execute_result"
    }
   ],
   "source": [
    "n_neighbors = 5\n",
    "KNN = neighbors.KNeighborsClassifier(n_neighbors, weights = 'distance')\n",
    "KNN.fit(bank_train_norm, bank_target_train)"
   ]
  },
  {
   "cell_type": "code",
   "execution_count": 87,
   "metadata": {},
   "outputs": [],
   "source": [
    "KNN_PRED_TEST = KNN.predict(bank_test_norm)"
   ]
  },
  {
   "cell_type": "code",
   "execution_count": 88,
   "metadata": {},
   "outputs": [
    {
     "name": "stdout",
     "output_type": "stream",
     "text": [
      "['YES' 'YES' 'NO' 'NO' 'YES' 'YES' 'YES' 'NO' 'NO' 'NO' 'NO' 'NO' 'YES' 'NO' 'YES' 'NO' 'YES' 'YES' 'YES' 'NO' 'NO' 'YES' 'NO' 'NO' 'YES' 'NO' 'YES' 'YES' 'NO' 'YES' 'NO' 'NO' 'NO' 'YES' 'YES' 'YES'\n",
      " 'NO' 'YES' 'NO' 'NO' 'YES' 'NO' 'YES' 'NO' 'YES' 'NO' 'YES' 'NO' 'NO' 'YES' 'NO' 'YES' 'YES' 'NO' 'YES' 'NO' 'YES' 'YES' 'NO' 'NO' 'YES' 'NO' 'YES' 'YES' 'YES' 'NO' 'NO' 'NO' 'NO' 'YES' 'YES' 'NO'\n",
      " 'YES' 'YES' 'NO' 'NO' 'YES' 'YES' 'YES' 'NO' 'NO' 'YES' 'YES' 'YES' 'NO' 'NO' 'YES' 'YES' 'NO' 'YES' 'NO' 'NO' 'NO' 'NO' 'NO' 'NO' 'NO' 'NO' 'NO' 'NO' 'NO' 'NO' 'NO' 'NO' 'NO' 'NO' 'NO' 'NO' 'YES'\n",
      " 'YES' 'YES' 'NO' 'NO' 'YES' 'NO' 'YES' 'NO' 'NO' 'NO' 'NO']\n"
     ]
    }
   ],
   "source": [
    "print (KNN_PRED_TEST)"
   ]
  },
  {
   "cell_type": "code",
   "execution_count": 89,
   "metadata": {},
   "outputs": [],
   "source": [
    "from sklearn.metrics import classification_report\n",
    "from sklearn.metrics import confusion_matrix"
   ]
  },
  {
   "cell_type": "code",
   "execution_count": 90,
   "metadata": {},
   "outputs": [
    {
     "name": "stdout",
     "output_type": "stream",
     "text": [
      "             precision    recall  f1-score   support\n",
      "\n",
      "         NO       0.68      0.71      0.70        66\n",
      "        YES       0.63      0.59      0.61        54\n",
      "\n",
      "avg / total       0.66      0.66      0.66       120\n",
      "\n"
     ]
    }
   ],
   "source": [
    "## Classification Report\n",
    "print(classification_report(bank_target_test, KNN_PRED_TEST))"
   ]
  },
  {
   "cell_type": "code",
   "execution_count": 91,
   "metadata": {},
   "outputs": [
    {
     "name": "stdout",
     "output_type": "stream",
     "text": [
      "[[47 19]\n",
      " [22 32]]\n"
     ]
    }
   ],
   "source": [
    "## Confusion Matrix\n",
    "KNN_CONF_MATRIX = confusion_matrix(bank_target_test, KNN_PRED_TEST)\n",
    "print(KNN_CONF_MATRIX)"
   ]
  },
  {
   "cell_type": "code",
   "execution_count": 92,
   "metadata": {},
   "outputs": [
    {
     "name": "stdout",
     "output_type": "stream",
     "text": [
      "0.6583333333333333\n"
     ]
    }
   ],
   "source": [
    "## Accuracy\n",
    "print(KNN.score(bank_test_norm, bank_target_test))"
   ]
  },
  {
   "cell_type": "code",
   "execution_count": 93,
   "metadata": {},
   "outputs": [
    {
     "name": "stdout",
     "output_type": "stream",
     "text": [
      "0.7166666666666667\n"
     ]
    }
   ],
   "source": [
    "##This is one sample run of my experiments\n",
    "##The KNN classifier for this data set seemed to do better with higher values\n",
    "##Of k up to a point. 80 neighbors, though very high, gave me the best\n",
    "##Results for the test data. Removing the weight metric of 'distance'\n",
    "##Tended to make the accuracy worse in all cases.\n",
    "n_neighbors = 80\n",
    "KNN = neighbors.KNeighborsClassifier(n_neighbors, weights = 'distance')\n",
    "KNN.fit(bank_train_norm, bank_target_train)\n",
    "KNN_PRED_TEST2 = KNN.predict(bank_test_norm)\n",
    "print(KNN.score(bank_test_norm, bank_target_test))"
   ]
  },
  {
   "cell_type": "code",
   "execution_count": 94,
   "metadata": {},
   "outputs": [
    {
     "name": "stdout",
     "output_type": "stream",
     "text": [
      "             precision    recall  f1-score   support\n",
      "\n",
      "         NO       0.71      0.82      0.76        66\n",
      "        YES       0.73      0.59      0.65        54\n",
      "\n",
      "avg / total       0.72      0.72      0.71       120\n",
      "\n"
     ]
    }
   ],
   "source": [
    "print(classification_report(bank_target_test, KNN_PRED_TEST2))"
   ]
  },
  {
   "cell_type": "code",
   "execution_count": 95,
   "metadata": {},
   "outputs": [
    {
     "name": "stdout",
     "output_type": "stream",
     "text": [
      "[[54 12]\n",
      " [22 32]]\n"
     ]
    }
   ],
   "source": [
    "KNN_CONF_MATRIX = confusion_matrix(bank_target_test, KNN_PRED_TEST2)\n",
    "print(KNN_CONF_MATRIX)"
   ]
  },
  {
   "cell_type": "code",
   "execution_count": 96,
   "metadata": {},
   "outputs": [],
   "source": [
    "## (c.) Repeat classification using scikit-learn's decision\n",
    "## tree classifier (default params) and naive bayes (gaussian)\n",
    "## classifier. Generate confusion matrix, classification\n",
    "## report, and accuracy scores for each classifier.\n",
    "## For each model, compare the average accuracy scores on\n",
    "## the test and training data sets. What does the comparison\n",
    "## tell you in terms of bias-variance tradeoff?"
   ]
  },
  {
   "cell_type": "code",
   "execution_count": 97,
   "metadata": {},
   "outputs": [],
   "source": [
    "## Decision Tree Classifier\n",
    "TREE = tree.DecisionTreeClassifier(criterion='entropy', min_samples_split = 3)\n",
    "TREE = TREE.fit(bank_train, bank_target_train)"
   ]
  },
  {
   "cell_type": "code",
   "execution_count": 98,
   "metadata": {},
   "outputs": [],
   "source": [
    "TREE_PRED_TRAIN = TREE.predict(bank_train)"
   ]
  },
  {
   "cell_type": "code",
   "execution_count": 99,
   "metadata": {},
   "outputs": [
    {
     "name": "stdout",
     "output_type": "stream",
     "text": [
      "[[213   7]\n",
      " [  0 260]]\n"
     ]
    }
   ],
   "source": [
    "## Decision Tree Confusion Matrix - Training Data\n",
    "TREECM = confusion_matrix(bank_target_train, TREE_PRED_TRAIN, labels=['YES', 'NO'])\n",
    "print(TREECM)"
   ]
  },
  {
   "cell_type": "code",
   "execution_count": 100,
   "metadata": {},
   "outputs": [
    {
     "name": "stdout",
     "output_type": "stream",
     "text": [
      "             precision    recall  f1-score   support\n",
      "\n",
      "         NO       0.97      1.00      0.99       260\n",
      "        YES       1.00      0.97      0.98       220\n",
      "\n",
      "avg / total       0.99      0.99      0.99       480\n",
      "\n"
     ]
    }
   ],
   "source": [
    "## Decision Tree Classification Report - Training Data\n",
    "print(classification_report(bank_target_train, TREE_PRED_TRAIN))"
   ]
  },
  {
   "cell_type": "code",
   "execution_count": 101,
   "metadata": {},
   "outputs": [
    {
     "name": "stdout",
     "output_type": "stream",
     "text": [
      "0.9854166666666667\n"
     ]
    }
   ],
   "source": [
    "## Accuracy score for Tree - Training Data\n",
    "print(TREE.score(bank_train, bank_target_train))"
   ]
  },
  {
   "cell_type": "code",
   "execution_count": 102,
   "metadata": {},
   "outputs": [],
   "source": [
    "TREE_PRED_TEST = TREE.predict(bank_test)"
   ]
  },
  {
   "cell_type": "code",
   "execution_count": 103,
   "metadata": {},
   "outputs": [
    {
     "name": "stdout",
     "output_type": "stream",
     "text": [
      "[[42 12]\n",
      " [10 56]]\n"
     ]
    }
   ],
   "source": [
    "## Decision Tree Confusion Matrix - Test Data\n",
    "TREECM = confusion_matrix(bank_target_test, TREE_PRED_TEST, labels=['YES', 'NO'])\n",
    "print(TREECM)"
   ]
  },
  {
   "cell_type": "code",
   "execution_count": 104,
   "metadata": {},
   "outputs": [
    {
     "name": "stdout",
     "output_type": "stream",
     "text": [
      "             precision    recall  f1-score   support\n",
      "\n",
      "         NO       0.82      0.85      0.84        66\n",
      "        YES       0.81      0.78      0.79        54\n",
      "\n",
      "avg / total       0.82      0.82      0.82       120\n",
      "\n"
     ]
    }
   ],
   "source": [
    "## Decision Tree Classification Report - Test Data\n",
    "print(classification_report(bank_target_test, TREE_PRED_TEST))"
   ]
  },
  {
   "cell_type": "code",
   "execution_count": 105,
   "metadata": {},
   "outputs": [
    {
     "name": "stdout",
     "output_type": "stream",
     "text": [
      "0.8166666666666667\n"
     ]
    }
   ],
   "source": [
    "## Accuracy score for Tree - Training Data\n",
    "print(TREE.score(bank_test, bank_target_test))"
   ]
  },
  {
   "cell_type": "code",
   "execution_count": 106,
   "metadata": {},
   "outputs": [],
   "source": [
    "## **Naive Bayes**\n",
    "NB = naive_bayes.GaussianNB()\n",
    "NB = NB.fit(bank_train, bank_target_train)"
   ]
  },
  {
   "cell_type": "code",
   "execution_count": 107,
   "metadata": {},
   "outputs": [],
   "source": [
    "NB_PRED_TRAIN = NB.predict(bank_train)"
   ]
  },
  {
   "cell_type": "code",
   "execution_count": 108,
   "metadata": {},
   "outputs": [
    {
     "name": "stdout",
     "output_type": "stream",
     "text": [
      "[[121  99]\n",
      " [ 64 196]]\n"
     ]
    }
   ],
   "source": [
    "## Confusion Matrix - Training Data\n",
    "print(confusion_matrix(bank_target_train, NB_PRED_TRAIN, labels=['YES', 'NO']))\n"
   ]
  },
  {
   "cell_type": "code",
   "execution_count": 109,
   "metadata": {},
   "outputs": [
    {
     "name": "stdout",
     "output_type": "stream",
     "text": [
      "             precision    recall  f1-score   support\n",
      "\n",
      "         NO       0.66      0.75      0.71       260\n",
      "        YES       0.65      0.55      0.60       220\n",
      "\n",
      "avg / total       0.66      0.66      0.66       480\n",
      "\n"
     ]
    }
   ],
   "source": [
    "## Classification Matrix - Training Data\n",
    "print(classification_report(bank_target_train, NB_PRED_TRAIN))"
   ]
  },
  {
   "cell_type": "code",
   "execution_count": 110,
   "metadata": {},
   "outputs": [
    {
     "name": "stdout",
     "output_type": "stream",
     "text": [
      "0.6604166666666667\n"
     ]
    }
   ],
   "source": [
    "## Accuracy score for Tree - Training Data\n",
    "print(NB.score(bank_train, bank_target_train))"
   ]
  },
  {
   "cell_type": "code",
   "execution_count": 111,
   "metadata": {},
   "outputs": [],
   "source": [
    "NB_PRED_TEST = NB.predict(bank_test)"
   ]
  },
  {
   "cell_type": "code",
   "execution_count": 112,
   "metadata": {},
   "outputs": [
    {
     "name": "stdout",
     "output_type": "stream",
     "text": [
      "[[23 31]\n",
      " [13 53]]\n"
     ]
    }
   ],
   "source": [
    "## Confusion Matrix - Test Data\n",
    "print(confusion_matrix(bank_target_test, NB_PRED_TEST, labels=['YES', 'NO']))\n"
   ]
  },
  {
   "cell_type": "code",
   "execution_count": 113,
   "metadata": {},
   "outputs": [
    {
     "name": "stdout",
     "output_type": "stream",
     "text": [
      "             precision    recall  f1-score   support\n",
      "\n",
      "         NO       0.63      0.80      0.71        66\n",
      "        YES       0.64      0.43      0.51        54\n",
      "\n",
      "avg / total       0.63      0.63      0.62       120\n",
      "\n"
     ]
    }
   ],
   "source": [
    "## Classification Matrix - Test Data\n",
    "print(classification_report(bank_target_test, NB_PRED_TEST))"
   ]
  },
  {
   "cell_type": "code",
   "execution_count": 114,
   "metadata": {},
   "outputs": [
    {
     "name": "stdout",
     "output_type": "stream",
     "text": [
      "0.6333333333333333\n"
     ]
    }
   ],
   "source": [
    "## Accuracy score for Tree - Test Data\n",
    "print(NB.score(bank_test, bank_target_test))"
   ]
  },
  {
   "cell_type": "code",
   "execution_count": 115,
   "metadata": {},
   "outputs": [],
   "source": [
    "## For both models (Decision Tree and Naive Bayes),\n",
    "## The accuracy was better for the training data than it was\n",
    "## For the test data (as would be epected, especially given\n",
    "## The split).\n",
    "## We know that we want a model that is sensitive to \n",
    "## noise, but also generalizes well. When variance is high,\n",
    "## we might be honing in on the noise too much - and we might\n",
    "## be training on noise. When that happens, the model doesn't \n",
    "## generalize as well. This can make accuracy go down for\n",
    "## the Test Sets in both models.\n",
    "## We can see that both Naive Bayes and Decision Tree have\n",
    "## the same precision, but Decision Tree has much higher \n",
    "## recall. It also looks like for Decision Tree precision vs.\n",
    "## recall is more balanced. This one looks like it generalizes\n",
    "## better on new data."
   ]
  },
  {
   "cell_type": "code",
   "execution_count": 116,
   "metadata": {},
   "outputs": [],
   "source": [
    "## Overall, it looks like Decision Tree was the most valuable\n",
    "## of the three classifiers. \n",
    "## KNN was harder to control, and took a lot of trials. The\n",
    "## highest accuracy I was able to attain was 71%.\n",
    "## With the default parameters, Naive Bayes was even worse with\n",
    "## an accuracy of 63% on test data.\n",
    "## The best option for this particular set of data was a\n",
    "## Decision tree model"
   ]
  },
  {
   "cell_type": "code",
   "execution_count": 117,
   "metadata": {},
   "outputs": [],
   "source": [
    "## (3.) - **ADULT CENSUS DATA SET**"
   ]
  },
  {
   "cell_type": "code",
   "execution_count": 118,
   "metadata": {},
   "outputs": [],
   "source": [
    "##Preprocessing: use attribute mean for numeric attributes, remove instance\n",
    "## for missing categorical attributes"
   ]
  },
  {
   "cell_type": "code",
   "execution_count": 119,
   "metadata": {},
   "outputs": [],
   "source": [
    "adult = pd.read_csv(\"adult-modified.csv\", sep=',')"
   ]
  },
  {
   "cell_type": "code",
   "execution_count": 120,
   "metadata": {},
   "outputs": [],
   "source": [
    "##Removing question marks\n",
    "adult = adult.replace('?', 0)"
   ]
  },
  {
   "cell_type": "code",
   "execution_count": 121,
   "metadata": {},
   "outputs": [],
   "source": [
    "##Fixing formatting\n",
    "adult['age'] = adult['age'].astype(int)"
   ]
  },
  {
   "cell_type": "code",
   "execution_count": 122,
   "metadata": {},
   "outputs": [],
   "source": [
    "age_mean = round(adult['age'].mean())"
   ]
  },
  {
   "cell_type": "code",
   "execution_count": 123,
   "metadata": {},
   "outputs": [],
   "source": [
    "##Replacing missing age values with attribute mean\n",
    "adult['age'] = adult['age'].replace(0, age_mean)"
   ]
  },
  {
   "cell_type": "code",
   "execution_count": 124,
   "metadata": {},
   "outputs": [],
   "source": [
    "##Removing missing workclass values\n",
    "adult = adult[adult.workclass != 0]"
   ]
  },
  {
   "cell_type": "code",
   "execution_count": 125,
   "metadata": {},
   "outputs": [
    {
     "data": {
      "text/html": [
       "<div>\n",
       "<style scoped>\n",
       "    .dataframe tbody tr th:only-of-type {\n",
       "        vertical-align: middle;\n",
       "    }\n",
       "\n",
       "    .dataframe tbody tr th {\n",
       "        vertical-align: top;\n",
       "    }\n",
       "\n",
       "    .dataframe thead th {\n",
       "        text-align: right;\n",
       "    }\n",
       "</style>\n",
       "<table border=\"1\" class=\"dataframe\">\n",
       "  <thead>\n",
       "    <tr style=\"text-align: right;\">\n",
       "      <th></th>\n",
       "      <th>age</th>\n",
       "      <th>education</th>\n",
       "      <th>hours-per-week</th>\n",
       "    </tr>\n",
       "  </thead>\n",
       "  <tbody>\n",
       "    <tr>\n",
       "      <th>count</th>\n",
       "      <td>9412.000000</td>\n",
       "      <td>9412.000000</td>\n",
       "      <td>9412.000000</td>\n",
       "    </tr>\n",
       "    <tr>\n",
       "      <th>mean</th>\n",
       "      <td>38.357310</td>\n",
       "      <td>10.125266</td>\n",
       "      <td>41.080217</td>\n",
       "    </tr>\n",
       "    <tr>\n",
       "      <th>std</th>\n",
       "      <td>12.962135</td>\n",
       "      <td>2.542118</td>\n",
       "      <td>11.884590</td>\n",
       "    </tr>\n",
       "    <tr>\n",
       "      <th>min</th>\n",
       "      <td>17.000000</td>\n",
       "      <td>1.000000</td>\n",
       "      <td>1.000000</td>\n",
       "    </tr>\n",
       "    <tr>\n",
       "      <th>25%</th>\n",
       "      <td>28.000000</td>\n",
       "      <td>9.000000</td>\n",
       "      <td>40.000000</td>\n",
       "    </tr>\n",
       "    <tr>\n",
       "      <th>50%</th>\n",
       "      <td>37.000000</td>\n",
       "      <td>10.000000</td>\n",
       "      <td>40.000000</td>\n",
       "    </tr>\n",
       "    <tr>\n",
       "      <th>75%</th>\n",
       "      <td>47.000000</td>\n",
       "      <td>13.000000</td>\n",
       "      <td>45.000000</td>\n",
       "    </tr>\n",
       "    <tr>\n",
       "      <th>max</th>\n",
       "      <td>90.000000</td>\n",
       "      <td>16.000000</td>\n",
       "      <td>99.000000</td>\n",
       "    </tr>\n",
       "  </tbody>\n",
       "</table>\n",
       "</div>"
      ],
      "text/plain": [
       "               age    education  hours-per-week\n",
       "count  9412.000000  9412.000000     9412.000000\n",
       "mean     38.357310    10.125266       41.080217\n",
       "std      12.962135     2.542118       11.884590\n",
       "min      17.000000     1.000000        1.000000\n",
       "25%      28.000000     9.000000       40.000000\n",
       "50%      37.000000    10.000000       40.000000\n",
       "75%      47.000000    13.000000       45.000000\n",
       "max      90.000000    16.000000       99.000000"
      ]
     },
     "execution_count": 125,
     "metadata": {},
     "output_type": "execute_result"
    }
   ],
   "source": [
    "##Examining characteristics\n",
    "adult.describe()"
   ]
  },
  {
   "cell_type": "code",
   "execution_count": 126,
   "metadata": {},
   "outputs": [],
   "source": [
    "## Examine characteristics of the attribute - illustrate with histograms for\n",
    "## numeric attributes, bar graphs for categorical, etc."
   ]
  },
  {
   "cell_type": "code",
   "execution_count": 127,
   "metadata": {},
   "outputs": [
    {
     "data": {
      "text/plain": [
       "<matplotlib.axes._subplots.AxesSubplot at 0x25d4d6e16d8>"
      ]
     },
     "execution_count": 127,
     "metadata": {},
     "output_type": "execute_result"
    },
    {
     "data": {
      "image/png": "[encoded data removed]",
      "text/plain": [
       "<Figure size 432x288 with 1 Axes>"
      ]
     },
     "metadata": {},
     "output_type": "display_data"
    }
   ],
   "source": [
    "##Male vs. Female Counts\n",
    "adult[\"sex\"].value_counts().plot(kind='bar')"
   ]
  },
  {
   "cell_type": "code",
   "execution_count": 128,
   "metadata": {},
   "outputs": [
    {
     "data": {
      "text/plain": [
       "<matplotlib.axes._subplots.AxesSubplot at 0x25d4d75c2e8>"
      ]
     },
     "execution_count": 128,
     "metadata": {},
     "output_type": "execute_result"
    },
    {
     "data": {
      "image/png": "[encoded data removed]",
      "text/plain": [
       "<Figure size 432x288 with 1 Axes>"
      ]
     },
     "metadata": {},
     "output_type": "display_data"
    }
   ],
   "source": [
    "##Race counts\n",
    "adult[\"race\"].value_counts().plot(kind='bar')"
   ]
  },
  {
   "cell_type": "code",
   "execution_count": 129,
   "metadata": {},
   "outputs": [
    {
     "data": {
      "image/png": "[encoded data removed]",
      "text/plain": [
       "<Figure size 432x288 with 1 Axes>"
      ]
     },
     "metadata": {},
     "output_type": "display_data"
    }
   ],
   "source": [
    "## Education histogram, using 10 bins\n",
    "plt.hist(adult[\"education\"], bins = 10, alpha=0.8)\n",
    "plt.xlabel(\"education\")\n",
    "plt.ylabel(\"count\")\n",
    "plt.title(\"Histogram for Education Distribution\")\n",
    "plt.axis([0, 20, 0, 4000])\n",
    "plt.grid(True)"
   ]
  },
  {
   "cell_type": "code",
   "execution_count": 130,
   "metadata": {},
   "outputs": [
    {
     "data": {
      "image/png": "[encoded data removed]",
      "text/plain": [
       "<Figure size 432x288 with 1 Axes>"
      ]
     },
     "metadata": {},
     "output_type": "display_data"
    }
   ],
   "source": [
    "## Age histogram, using 10 bins\n",
    "plt.hist(adult[\"age\"], bins = 10, alpha=0.8)\n",
    "plt.xlabel(\"age\")\n",
    "plt.ylabel(\"count\")\n",
    "plt.title(\"Histogram for Age Distribution\")\n",
    "plt.axis([10, 100, 0, 2200])\n",
    "plt.grid(True)"
   ]
  },
  {
   "cell_type": "code",
   "execution_count": 131,
   "metadata": {},
   "outputs": [
    {
     "data": {
      "image/png": "[encoded data removed]",
      "text/plain": [
       "<Figure size 432x288 with 1 Axes>"
      ]
     },
     "metadata": {},
     "output_type": "display_data"
    }
   ],
   "source": [
    "## Hours Per Week Histogram, using 10 bins\n",
    "plt.hist(adult[\"hours-per-week\"], bins = 10, alpha=0.8)\n",
    "plt.xlabel(\"hours per week\")\n",
    "plt.ylabel(\"count\")\n",
    "plt.title(\"Histogram for Hours Distribution\")\n",
    "plt.axis([0,100,0,6000])\n",
    "plt.grid(True)"
   ]
  },
  {
   "cell_type": "code",
   "execution_count": 132,
   "metadata": {},
   "outputs": [
    {
     "data": {
      "text/html": [
       "<div>\n",
       "<style scoped>\n",
       "    .dataframe tbody tr th:only-of-type {\n",
       "        vertical-align: middle;\n",
       "    }\n",
       "\n",
       "    .dataframe tbody tr th {\n",
       "        vertical-align: top;\n",
       "    }\n",
       "\n",
       "    .dataframe thead th {\n",
       "        text-align: right;\n",
       "    }\n",
       "</style>\n",
       "<table border=\"1\" class=\"dataframe\">\n",
       "  <thead>\n",
       "    <tr style=\"text-align: right;\">\n",
       "      <th>race</th>\n",
       "      <th>Amer-Indian</th>\n",
       "      <th>Asian</th>\n",
       "      <th>Black</th>\n",
       "      <th>Hispanic</th>\n",
       "      <th>White</th>\n",
       "      <th>All</th>\n",
       "    </tr>\n",
       "    <tr>\n",
       "      <th>education</th>\n",
       "      <th></th>\n",
       "      <th></th>\n",
       "      <th></th>\n",
       "      <th></th>\n",
       "      <th></th>\n",
       "      <th></th>\n",
       "    </tr>\n",
       "  </thead>\n",
       "  <tbody>\n",
       "    <tr>\n",
       "      <th>1</th>\n",
       "      <td>0</td>\n",
       "      <td>0</td>\n",
       "      <td>1</td>\n",
       "      <td>0</td>\n",
       "      <td>11</td>\n",
       "      <td>12</td>\n",
       "    </tr>\n",
       "    <tr>\n",
       "      <th>2</th>\n",
       "      <td>0</td>\n",
       "      <td>1</td>\n",
       "      <td>4</td>\n",
       "      <td>3</td>\n",
       "      <td>38</td>\n",
       "      <td>46</td>\n",
       "    </tr>\n",
       "    <tr>\n",
       "      <th>3</th>\n",
       "      <td>0</td>\n",
       "      <td>4</td>\n",
       "      <td>5</td>\n",
       "      <td>1</td>\n",
       "      <td>71</td>\n",
       "      <td>81</td>\n",
       "    </tr>\n",
       "    <tr>\n",
       "      <th>4</th>\n",
       "      <td>5</td>\n",
       "      <td>5</td>\n",
       "      <td>14</td>\n",
       "      <td>6</td>\n",
       "      <td>150</td>\n",
       "      <td>180</td>\n",
       "    </tr>\n",
       "    <tr>\n",
       "      <th>5</th>\n",
       "      <td>0</td>\n",
       "      <td>3</td>\n",
       "      <td>19</td>\n",
       "      <td>2</td>\n",
       "      <td>118</td>\n",
       "      <td>142</td>\n",
       "    </tr>\n",
       "    <tr>\n",
       "      <th>6</th>\n",
       "      <td>8</td>\n",
       "      <td>3</td>\n",
       "      <td>30</td>\n",
       "      <td>4</td>\n",
       "      <td>223</td>\n",
       "      <td>268</td>\n",
       "    </tr>\n",
       "    <tr>\n",
       "      <th>7</th>\n",
       "      <td>4</td>\n",
       "      <td>6</td>\n",
       "      <td>49</td>\n",
       "      <td>4</td>\n",
       "      <td>261</td>\n",
       "      <td>324</td>\n",
       "    </tr>\n",
       "    <tr>\n",
       "      <th>8</th>\n",
       "      <td>0</td>\n",
       "      <td>2</td>\n",
       "      <td>17</td>\n",
       "      <td>3</td>\n",
       "      <td>78</td>\n",
       "      <td>100</td>\n",
       "    </tr>\n",
       "    <tr>\n",
       "      <th>9</th>\n",
       "      <td>35</td>\n",
       "      <td>67</td>\n",
       "      <td>350</td>\n",
       "      <td>23</td>\n",
       "      <td>2590</td>\n",
       "      <td>3065</td>\n",
       "    </tr>\n",
       "    <tr>\n",
       "      <th>10</th>\n",
       "      <td>26</td>\n",
       "      <td>64</td>\n",
       "      <td>206</td>\n",
       "      <td>11</td>\n",
       "      <td>1818</td>\n",
       "      <td>2125</td>\n",
       "    </tr>\n",
       "    <tr>\n",
       "      <th>11</th>\n",
       "      <td>5</td>\n",
       "      <td>10</td>\n",
       "      <td>33</td>\n",
       "      <td>4</td>\n",
       "      <td>337</td>\n",
       "      <td>389</td>\n",
       "    </tr>\n",
       "    <tr>\n",
       "      <th>12</th>\n",
       "      <td>4</td>\n",
       "      <td>5</td>\n",
       "      <td>33</td>\n",
       "      <td>3</td>\n",
       "      <td>259</td>\n",
       "      <td>304</td>\n",
       "    </tr>\n",
       "    <tr>\n",
       "      <th>13</th>\n",
       "      <td>5</td>\n",
       "      <td>75</td>\n",
       "      <td>102</td>\n",
       "      <td>8</td>\n",
       "      <td>1387</td>\n",
       "      <td>1577</td>\n",
       "    </tr>\n",
       "    <tr>\n",
       "      <th>14</th>\n",
       "      <td>0</td>\n",
       "      <td>27</td>\n",
       "      <td>20</td>\n",
       "      <td>1</td>\n",
       "      <td>467</td>\n",
       "      <td>515</td>\n",
       "    </tr>\n",
       "    <tr>\n",
       "      <th>15</th>\n",
       "      <td>0</td>\n",
       "      <td>11</td>\n",
       "      <td>5</td>\n",
       "      <td>2</td>\n",
       "      <td>153</td>\n",
       "      <td>171</td>\n",
       "    </tr>\n",
       "    <tr>\n",
       "      <th>16</th>\n",
       "      <td>0</td>\n",
       "      <td>8</td>\n",
       "      <td>4</td>\n",
       "      <td>0</td>\n",
       "      <td>101</td>\n",
       "      <td>113</td>\n",
       "    </tr>\n",
       "    <tr>\n",
       "      <th>All</th>\n",
       "      <td>92</td>\n",
       "      <td>291</td>\n",
       "      <td>892</td>\n",
       "      <td>75</td>\n",
       "      <td>8062</td>\n",
       "      <td>9412</td>\n",
       "    </tr>\n",
       "  </tbody>\n",
       "</table>\n",
       "</div>"
      ],
      "text/plain": [
       "race       Amer-Indian  Asian  Black  Hispanic  White   All\n",
       "education                                                  \n",
       "1                    0      0      1         0     11    12\n",
       "2                    0      1      4         3     38    46\n",
       "3                    0      4      5         1     71    81\n",
       "4                    5      5     14         6    150   180\n",
       "5                    0      3     19         2    118   142\n",
       "6                    8      3     30         4    223   268\n",
       "7                    4      6     49         4    261   324\n",
       "8                    0      2     17         3     78   100\n",
       "9                   35     67    350        23   2590  3065\n",
       "10                  26     64    206        11   1818  2125\n",
       "11                   5     10     33         4    337   389\n",
       "12                   4      5     33         3    259   304\n",
       "13                   5     75    102         8   1387  1577\n",
       "14                   0     27     20         1    467   515\n",
       "15                   0     11      5         2    153   171\n",
       "16                   0      8      4         0    101   113\n",
       "All                 92    291    892        75   8062  9412"
      ]
     },
     "execution_count": 132,
     "metadata": {},
     "output_type": "execute_result"
    }
   ],
   "source": [
    "## Cross Tab for Education + Race\n",
    "edu_race = pd.crosstab([adult.education], [adult.race], margins=True)\n",
    "edu_race"
   ]
  },
  {
   "cell_type": "code",
   "execution_count": 133,
   "metadata": {},
   "outputs": [
    {
     "data": {
      "text/html": [
       "<div>\n",
       "<style scoped>\n",
       "    .dataframe tbody tr th:only-of-type {\n",
       "        vertical-align: middle;\n",
       "    }\n",
       "\n",
       "    .dataframe tbody tr th {\n",
       "        vertical-align: top;\n",
       "    }\n",
       "\n",
       "    .dataframe thead th {\n",
       "        text-align: right;\n",
       "    }\n",
       "</style>\n",
       "<table border=\"1\" class=\"dataframe\">\n",
       "  <thead>\n",
       "    <tr style=\"text-align: right;\">\n",
       "      <th>income</th>\n",
       "      <th>&lt;=50K</th>\n",
       "      <th>&gt;50K</th>\n",
       "      <th>All</th>\n",
       "    </tr>\n",
       "    <tr>\n",
       "      <th>workclass</th>\n",
       "      <th></th>\n",
       "      <th></th>\n",
       "      <th></th>\n",
       "    </tr>\n",
       "  </thead>\n",
       "  <tbody>\n",
       "    <tr>\n",
       "      <th>Private</th>\n",
       "      <td>5443</td>\n",
       "      <td>1504</td>\n",
       "      <td>6947</td>\n",
       "    </tr>\n",
       "    <tr>\n",
       "      <th>Public</th>\n",
       "      <td>925</td>\n",
       "      <td>392</td>\n",
       "      <td>1317</td>\n",
       "    </tr>\n",
       "    <tr>\n",
       "      <th>Self-emp</th>\n",
       "      <td>725</td>\n",
       "      <td>423</td>\n",
       "      <td>1148</td>\n",
       "    </tr>\n",
       "    <tr>\n",
       "      <th>All</th>\n",
       "      <td>7093</td>\n",
       "      <td>2319</td>\n",
       "      <td>9412</td>\n",
       "    </tr>\n",
       "  </tbody>\n",
       "</table>\n",
       "</div>"
      ],
      "text/plain": [
       "income     <=50K  >50K   All\n",
       "workclass                   \n",
       "Private     5443  1504  6947\n",
       "Public       925   392  1317\n",
       "Self-emp     725   423  1148\n",
       "All         7093  2319  9412"
      ]
     },
     "execution_count": 133,
     "metadata": {},
     "output_type": "execute_result"
    }
   ],
   "source": [
    "## Cross Tab of workclass + income\n",
    "class_income = pd.crosstab([adult.workclass], [adult.income], margins=True)\n",
    "class_income"
   ]
  },
  {
   "cell_type": "code",
   "execution_count": 134,
   "metadata": {},
   "outputs": [
    {
     "data": {
      "text/html": [
       "<div>\n",
       "<style scoped>\n",
       "    .dataframe tbody tr th:only-of-type {\n",
       "        vertical-align: middle;\n",
       "    }\n",
       "\n",
       "    .dataframe tbody tr th {\n",
       "        vertical-align: top;\n",
       "    }\n",
       "\n",
       "    .dataframe thead th {\n",
       "        text-align: right;\n",
       "    }\n",
       "</style>\n",
       "<table border=\"1\" class=\"dataframe\">\n",
       "  <thead>\n",
       "    <tr style=\"text-align: right;\">\n",
       "      <th>race</th>\n",
       "      <th>Amer-Indian</th>\n",
       "      <th>Asian</th>\n",
       "      <th>Black</th>\n",
       "      <th>Hispanic</th>\n",
       "      <th>White</th>\n",
       "      <th>All</th>\n",
       "    </tr>\n",
       "    <tr>\n",
       "      <th>workclass</th>\n",
       "      <th></th>\n",
       "      <th></th>\n",
       "      <th></th>\n",
       "      <th></th>\n",
       "      <th></th>\n",
       "      <th></th>\n",
       "    </tr>\n",
       "  </thead>\n",
       "  <tbody>\n",
       "    <tr>\n",
       "      <th>Private</th>\n",
       "      <td>65</td>\n",
       "      <td>204</td>\n",
       "      <td>664</td>\n",
       "      <td>64</td>\n",
       "      <td>5950</td>\n",
       "      <td>6947</td>\n",
       "    </tr>\n",
       "    <tr>\n",
       "      <th>Public</th>\n",
       "      <td>20</td>\n",
       "      <td>48</td>\n",
       "      <td>192</td>\n",
       "      <td>5</td>\n",
       "      <td>1052</td>\n",
       "      <td>1317</td>\n",
       "    </tr>\n",
       "    <tr>\n",
       "      <th>Self-emp</th>\n",
       "      <td>7</td>\n",
       "      <td>39</td>\n",
       "      <td>36</td>\n",
       "      <td>6</td>\n",
       "      <td>1060</td>\n",
       "      <td>1148</td>\n",
       "    </tr>\n",
       "    <tr>\n",
       "      <th>All</th>\n",
       "      <td>92</td>\n",
       "      <td>291</td>\n",
       "      <td>892</td>\n",
       "      <td>75</td>\n",
       "      <td>8062</td>\n",
       "      <td>9412</td>\n",
       "    </tr>\n",
       "  </tbody>\n",
       "</table>\n",
       "</div>"
      ],
      "text/plain": [
       "race       Amer-Indian  Asian  Black  Hispanic  White   All\n",
       "workclass                                                  \n",
       "Private             65    204    664        64   5950  6947\n",
       "Public              20     48    192         5   1052  1317\n",
       "Self-emp             7     39     36         6   1060  1148\n",
       "All                 92    291    892        75   8062  9412"
      ]
     },
     "execution_count": 134,
     "metadata": {},
     "output_type": "execute_result"
    }
   ],
   "source": [
    "## Cross Tab of workclass + race\n",
    "class_race = pd.crosstab([adult.workclass], [adult.race], margins=True)\n",
    "class_race"
   ]
  },
  {
   "cell_type": "code",
   "execution_count": 135,
   "metadata": {},
   "outputs": [
    {
     "data": {
      "text/html": [
       "<div>\n",
       "<style scoped>\n",
       "    .dataframe tbody tr th:only-of-type {\n",
       "        vertical-align: middle;\n",
       "    }\n",
       "\n",
       "    .dataframe tbody tr th {\n",
       "        vertical-align: top;\n",
       "    }\n",
       "\n",
       "    .dataframe thead th {\n",
       "        text-align: right;\n",
       "    }\n",
       "</style>\n",
       "<table border=\"1\" class=\"dataframe\">\n",
       "  <thead>\n",
       "    <tr style=\"text-align: right;\">\n",
       "      <th>income</th>\n",
       "      <th>&lt;=50K</th>\n",
       "      <th>&gt;50K</th>\n",
       "      <th>All</th>\n",
       "    </tr>\n",
       "    <tr>\n",
       "      <th>race</th>\n",
       "      <th></th>\n",
       "      <th></th>\n",
       "      <th></th>\n",
       "    </tr>\n",
       "  </thead>\n",
       "  <tbody>\n",
       "    <tr>\n",
       "      <th>Amer-Indian</th>\n",
       "      <td>83</td>\n",
       "      <td>9</td>\n",
       "      <td>92</td>\n",
       "    </tr>\n",
       "    <tr>\n",
       "      <th>Asian</th>\n",
       "      <td>224</td>\n",
       "      <td>67</td>\n",
       "      <td>291</td>\n",
       "    </tr>\n",
       "    <tr>\n",
       "      <th>Black</th>\n",
       "      <td>773</td>\n",
       "      <td>119</td>\n",
       "      <td>892</td>\n",
       "    </tr>\n",
       "    <tr>\n",
       "      <th>Hispanic</th>\n",
       "      <td>69</td>\n",
       "      <td>6</td>\n",
       "      <td>75</td>\n",
       "    </tr>\n",
       "    <tr>\n",
       "      <th>White</th>\n",
       "      <td>5944</td>\n",
       "      <td>2118</td>\n",
       "      <td>8062</td>\n",
       "    </tr>\n",
       "    <tr>\n",
       "      <th>All</th>\n",
       "      <td>7093</td>\n",
       "      <td>2319</td>\n",
       "      <td>9412</td>\n",
       "    </tr>\n",
       "  </tbody>\n",
       "</table>\n",
       "</div>"
      ],
      "text/plain": [
       "income       <=50K  >50K   All\n",
       "race                          \n",
       "Amer-Indian     83     9    92\n",
       "Asian          224    67   291\n",
       "Black          773   119   892\n",
       "Hispanic        69     6    75\n",
       "White         5944  2118  8062\n",
       "All           7093  2319  9412"
      ]
     },
     "execution_count": 135,
     "metadata": {},
     "output_type": "execute_result"
    }
   ],
   "source": [
    "## Cross Tab of race + income\n",
    "race_income = pd.crosstab([adult.race], [adult.income], margins=True)\n",
    "race_income"
   ]
  },
  {
   "cell_type": "code",
   "execution_count": 136,
   "metadata": {},
   "outputs": [
    {
     "data": {
      "text/html": [
       "<div>\n",
       "<style scoped>\n",
       "    .dataframe tbody tr th:only-of-type {\n",
       "        vertical-align: middle;\n",
       "    }\n",
       "\n",
       "    .dataframe tbody tr th {\n",
       "        vertical-align: top;\n",
       "    }\n",
       "\n",
       "    .dataframe thead th {\n",
       "        text-align: right;\n",
       "    }\n",
       "</style>\n",
       "<table border=\"1\" class=\"dataframe\">\n",
       "  <thead>\n",
       "    <tr style=\"text-align: right;\">\n",
       "      <th>income</th>\n",
       "      <th>&lt;=50K</th>\n",
       "      <th>&gt;50K</th>\n",
       "    </tr>\n",
       "    <tr>\n",
       "      <th>race</th>\n",
       "      <th></th>\n",
       "      <th></th>\n",
       "    </tr>\n",
       "  </thead>\n",
       "  <tbody>\n",
       "    <tr>\n",
       "      <th>Amer-Indian</th>\n",
       "      <td>0.902174</td>\n",
       "      <td>0.097826</td>\n",
       "    </tr>\n",
       "    <tr>\n",
       "      <th>Asian</th>\n",
       "      <td>0.769759</td>\n",
       "      <td>0.230241</td>\n",
       "    </tr>\n",
       "    <tr>\n",
       "      <th>Black</th>\n",
       "      <td>0.866592</td>\n",
       "      <td>0.133408</td>\n",
       "    </tr>\n",
       "    <tr>\n",
       "      <th>Hispanic</th>\n",
       "      <td>0.920000</td>\n",
       "      <td>0.080000</td>\n",
       "    </tr>\n",
       "    <tr>\n",
       "      <th>White</th>\n",
       "      <td>0.737286</td>\n",
       "      <td>0.262714</td>\n",
       "    </tr>\n",
       "    <tr>\n",
       "      <th>All</th>\n",
       "      <td>0.753612</td>\n",
       "      <td>0.246388</td>\n",
       "    </tr>\n",
       "  </tbody>\n",
       "</table>\n",
       "</div>"
      ],
      "text/plain": [
       "income          <=50K      >50K\n",
       "race                           \n",
       "Amer-Indian  0.902174  0.097826\n",
       "Asian        0.769759  0.230241\n",
       "Black        0.866592  0.133408\n",
       "Hispanic     0.920000  0.080000\n",
       "White        0.737286  0.262714\n",
       "All          0.753612  0.246388"
      ]
     },
     "execution_count": 136,
     "metadata": {},
     "output_type": "execute_result"
    }
   ],
   "source": [
    "## Cross tab for race + income, represented as percentages.\n",
    "race_income = pd.crosstab([adult.race], [adult.income], margins=True, normalize='index')\n",
    "race_income"
   ]
  },
  {
   "cell_type": "code",
   "execution_count": 137,
   "metadata": {},
   "outputs": [
    {
     "data": {
      "text/plain": [
       "<matplotlib.axes._subplots.AxesSubplot at 0x25d4d80e278>"
      ]
     },
     "execution_count": 137,
     "metadata": {},
     "output_type": "execute_result"
    },
    {
     "data": {
      "image/png": "[encoded data removed]",
      "text/plain": [
       "<Figure size 432x288 with 1 Axes>"
      ]
     },
     "metadata": {},
     "output_type": "display_data"
    }
   ],
   "source": [
    "race_income.plot(kind='bar', stacked=True)"
   ]
  },
  {
   "cell_type": "code",
   "execution_count": 138,
   "metadata": {},
   "outputs": [],
   "source": [
    "##This visualization of race vs. income (shown as percentages, thus adding\n",
    "##up to total 1) allows me to see that the majority of all participants of all\n",
    "##races made less than 50k. A greater percentage of white and asian participants\n",
    "##made over 50k, while a much smaller-than-average amount of hispanic and \n",
    "##american indian participants made over 50k."
   ]
  },
  {
   "cell_type": "code",
   "execution_count": 139,
   "metadata": {},
   "outputs": [
    {
     "data": {
      "text/html": [
       "<div>\n",
       "<style scoped>\n",
       "    .dataframe tbody tr th:only-of-type {\n",
       "        vertical-align: middle;\n",
       "    }\n",
       "\n",
       "    .dataframe tbody tr th {\n",
       "        vertical-align: top;\n",
       "    }\n",
       "\n",
       "    .dataframe thead th {\n",
       "        text-align: right;\n",
       "    }\n",
       "</style>\n",
       "<table border=\"1\" class=\"dataframe\">\n",
       "  <thead>\n",
       "    <tr style=\"text-align: right;\">\n",
       "      <th>income</th>\n",
       "      <th>&lt;=50K</th>\n",
       "      <th>&gt;50K</th>\n",
       "    </tr>\n",
       "    <tr>\n",
       "      <th>workclass</th>\n",
       "      <th></th>\n",
       "      <th></th>\n",
       "    </tr>\n",
       "  </thead>\n",
       "  <tbody>\n",
       "    <tr>\n",
       "      <th>Private</th>\n",
       "      <td>0.783504</td>\n",
       "      <td>0.216496</td>\n",
       "    </tr>\n",
       "    <tr>\n",
       "      <th>Public</th>\n",
       "      <td>0.702354</td>\n",
       "      <td>0.297646</td>\n",
       "    </tr>\n",
       "    <tr>\n",
       "      <th>Self-emp</th>\n",
       "      <td>0.631533</td>\n",
       "      <td>0.368467</td>\n",
       "    </tr>\n",
       "    <tr>\n",
       "      <th>All</th>\n",
       "      <td>0.753612</td>\n",
       "      <td>0.246388</td>\n",
       "    </tr>\n",
       "  </tbody>\n",
       "</table>\n",
       "</div>"
      ],
      "text/plain": [
       "income        <=50K      >50K\n",
       "workclass                    \n",
       "Private    0.783504  0.216496\n",
       "Public     0.702354  0.297646\n",
       "Self-emp   0.631533  0.368467\n",
       "All        0.753612  0.246388"
      ]
     },
     "execution_count": 139,
     "metadata": {},
     "output_type": "execute_result"
    }
   ],
   "source": [
    "##class vs. income, represented as percentages\n",
    "class_income = pd.crosstab([adult.workclass], [adult.income], margins=True, normalize='index')\n",
    "class_income"
   ]
  },
  {
   "cell_type": "code",
   "execution_count": 140,
   "metadata": {},
   "outputs": [
    {
     "data": {
      "text/html": [
       "<div>\n",
       "<style scoped>\n",
       "    .dataframe tbody tr th:only-of-type {\n",
       "        vertical-align: middle;\n",
       "    }\n",
       "\n",
       "    .dataframe tbody tr th {\n",
       "        vertical-align: top;\n",
       "    }\n",
       "\n",
       "    .dataframe thead th {\n",
       "        text-align: right;\n",
       "    }\n",
       "</style>\n",
       "<table border=\"1\" class=\"dataframe\">\n",
       "  <thead>\n",
       "    <tr style=\"text-align: right;\">\n",
       "      <th>income</th>\n",
       "      <th>&lt;=50K</th>\n",
       "      <th>&gt;50K</th>\n",
       "    </tr>\n",
       "    <tr>\n",
       "      <th>sex</th>\n",
       "      <th></th>\n",
       "      <th></th>\n",
       "    </tr>\n",
       "  </thead>\n",
       "  <tbody>\n",
       "    <tr>\n",
       "      <th>Female</th>\n",
       "      <td>0.881149</td>\n",
       "      <td>0.118851</td>\n",
       "    </tr>\n",
       "    <tr>\n",
       "      <th>Male</th>\n",
       "      <td>0.693091</td>\n",
       "      <td>0.306909</td>\n",
       "    </tr>\n",
       "    <tr>\n",
       "      <th>All</th>\n",
       "      <td>0.753612</td>\n",
       "      <td>0.246388</td>\n",
       "    </tr>\n",
       "  </tbody>\n",
       "</table>\n",
       "</div>"
      ],
      "text/plain": [
       "income     <=50K      >50K\n",
       "sex                       \n",
       "Female  0.881149  0.118851\n",
       "Male    0.693091  0.306909\n",
       "All     0.753612  0.246388"
      ]
     },
     "execution_count": 140,
     "metadata": {},
     "output_type": "execute_result"
    }
   ],
   "source": [
    "##sex vs. income, represented as percentages\n",
    "sex_income = pd.crosstab([adult.sex], [adult.income], margins=True, normalize='index')\n",
    "sex_income"
   ]
  },
  {
   "cell_type": "code",
   "execution_count": 141,
   "metadata": {},
   "outputs": [],
   "source": [
    "##Some observations...\n",
    "##People who were self employed have a higher percentage of >50k earners than\n",
    "##the other two groups.\n",
    "##Private sector has least amount of +50k earners\n",
    "##Disturbingly, 30% of males made over 50k, while only 11% of females did.\n",
    "##Hours worked per week didn't seem to be an accurate predictor of wealth."
   ]
  },
  {
   "cell_type": "code",
   "execution_count": 142,
   "metadata": {},
   "outputs": [],
   "source": [
    "## (b.) Predictive Modeling and Model Evaluation\n",
    "## Create dummy variables for the categorical attrib.\n",
    "## Separate target attribute >50k from attributes used for\n",
    "## training ((Note: also drop <=50k))\n",
    "## Use scikit-learn to build classifiers using Naive Bayes,\n",
    "## Decision tree (\"entropy\" as selection criteria), and \n",
    "## LDA. For each of these perform 10-fold cross-validation \n",
    "## (using cross-validation module in scikit-learn) and\n",
    "## report the overall average accuracy.\n",
    "## For the decision tree model, generate visualization"
   ]
  },
  {
   "cell_type": "code",
   "execution_count": 143,
   "metadata": {},
   "outputs": [
    {
     "data": {
      "text/html": [
       "<div>\n",
       "<style scoped>\n",
       "    .dataframe tbody tr th:only-of-type {\n",
       "        vertical-align: middle;\n",
       "    }\n",
       "\n",
       "    .dataframe tbody tr th {\n",
       "        vertical-align: top;\n",
       "    }\n",
       "\n",
       "    .dataframe thead th {\n",
       "        text-align: right;\n",
       "    }\n",
       "</style>\n",
       "<table border=\"1\" class=\"dataframe\">\n",
       "  <thead>\n",
       "    <tr style=\"text-align: right;\">\n",
       "      <th></th>\n",
       "      <th>age</th>\n",
       "      <th>education</th>\n",
       "      <th>hours-per-week</th>\n",
       "      <th>workclass_Private</th>\n",
       "      <th>workclass_Public</th>\n",
       "      <th>workclass_Self-emp</th>\n",
       "      <th>marital-status_Married</th>\n",
       "      <th>marital-status_Single</th>\n",
       "      <th>race_Amer-Indian</th>\n",
       "      <th>race_Asian</th>\n",
       "      <th>race_Black</th>\n",
       "      <th>race_Hispanic</th>\n",
       "      <th>race_White</th>\n",
       "      <th>sex_Female</th>\n",
       "      <th>sex_Male</th>\n",
       "    </tr>\n",
       "  </thead>\n",
       "  <tbody>\n",
       "    <tr>\n",
       "      <th>0</th>\n",
       "      <td>39</td>\n",
       "      <td>13</td>\n",
       "      <td>40</td>\n",
       "      <td>0</td>\n",
       "      <td>1</td>\n",
       "      <td>0</td>\n",
       "      <td>0</td>\n",
       "      <td>1</td>\n",
       "      <td>0</td>\n",
       "      <td>0</td>\n",
       "      <td>0</td>\n",
       "      <td>0</td>\n",
       "      <td>1</td>\n",
       "      <td>0</td>\n",
       "      <td>1</td>\n",
       "    </tr>\n",
       "    <tr>\n",
       "      <th>1</th>\n",
       "      <td>50</td>\n",
       "      <td>13</td>\n",
       "      <td>13</td>\n",
       "      <td>0</td>\n",
       "      <td>0</td>\n",
       "      <td>1</td>\n",
       "      <td>1</td>\n",
       "      <td>0</td>\n",
       "      <td>0</td>\n",
       "      <td>0</td>\n",
       "      <td>0</td>\n",
       "      <td>0</td>\n",
       "      <td>1</td>\n",
       "      <td>0</td>\n",
       "      <td>1</td>\n",
       "    </tr>\n",
       "    <tr>\n",
       "      <th>2</th>\n",
       "      <td>38</td>\n",
       "      <td>9</td>\n",
       "      <td>40</td>\n",
       "      <td>1</td>\n",
       "      <td>0</td>\n",
       "      <td>0</td>\n",
       "      <td>0</td>\n",
       "      <td>1</td>\n",
       "      <td>0</td>\n",
       "      <td>0</td>\n",
       "      <td>0</td>\n",
       "      <td>0</td>\n",
       "      <td>1</td>\n",
       "      <td>0</td>\n",
       "      <td>1</td>\n",
       "    </tr>\n",
       "    <tr>\n",
       "      <th>3</th>\n",
       "      <td>53</td>\n",
       "      <td>7</td>\n",
       "      <td>40</td>\n",
       "      <td>1</td>\n",
       "      <td>0</td>\n",
       "      <td>0</td>\n",
       "      <td>1</td>\n",
       "      <td>0</td>\n",
       "      <td>0</td>\n",
       "      <td>0</td>\n",
       "      <td>1</td>\n",
       "      <td>0</td>\n",
       "      <td>0</td>\n",
       "      <td>0</td>\n",
       "      <td>1</td>\n",
       "    </tr>\n",
       "    <tr>\n",
       "      <th>4</th>\n",
       "      <td>28</td>\n",
       "      <td>13</td>\n",
       "      <td>40</td>\n",
       "      <td>1</td>\n",
       "      <td>0</td>\n",
       "      <td>0</td>\n",
       "      <td>1</td>\n",
       "      <td>0</td>\n",
       "      <td>0</td>\n",
       "      <td>0</td>\n",
       "      <td>1</td>\n",
       "      <td>0</td>\n",
       "      <td>0</td>\n",
       "      <td>1</td>\n",
       "      <td>0</td>\n",
       "    </tr>\n",
       "  </tbody>\n",
       "</table>\n",
       "</div>"
      ],
      "text/plain": [
       "   age  education  hours-per-week  workclass_Private  workclass_Public  \\\n",
       "0   39         13              40                  0                 1   \n",
       "1   50         13              13                  0                 0   \n",
       "2   38          9              40                  1                 0   \n",
       "3   53          7              40                  1                 0   \n",
       "4   28         13              40                  1                 0   \n",
       "\n",
       "   workclass_Self-emp  marital-status_Married  marital-status_Single  \\\n",
       "0                   0                       0                      1   \n",
       "1                   1                       1                      0   \n",
       "2                   0                       0                      1   \n",
       "3                   0                       1                      0   \n",
       "4                   0                       1                      0   \n",
       "\n",
       "   race_Amer-Indian  race_Asian  race_Black  race_Hispanic  race_White  \\\n",
       "0                 0           0           0              0           1   \n",
       "1                 0           0           0              0           1   \n",
       "2                 0           0           0              0           1   \n",
       "3                 0           0           1              0           0   \n",
       "4                 0           0           1              0           0   \n",
       "\n",
       "   sex_Female  sex_Male  \n",
       "0           0         1  \n",
       "1           0         1  \n",
       "2           0         1  \n",
       "3           0         1  \n",
       "4           1         0  "
      ]
     },
     "execution_count": 143,
     "metadata": {},
     "output_type": "execute_result"
    }
   ],
   "source": [
    "adult_matrix = pd.get_dummies(adult[['age', 'workclass', 'education', 'marital-status', 'race', 'sex', 'hours-per-week']])\n",
    "adult_matrix.head()"
   ]
  },
  {
   "cell_type": "code",
   "execution_count": 144,
   "metadata": {},
   "outputs": [],
   "source": [
    "adult_target = pd.get_dummies(adult[['income']])"
   ]
  },
  {
   "cell_type": "code",
   "execution_count": 145,
   "metadata": {},
   "outputs": [],
   "source": [
    "adult_target = adult_target.drop(columns = 'income_<=50K')\n"
   ]
  },
  {
   "cell_type": "code",
   "execution_count": 146,
   "metadata": {},
   "outputs": [
    {
     "data": {
      "text/plain": [
       "(9412, 1)"
      ]
     },
     "execution_count": 146,
     "metadata": {},
     "output_type": "execute_result"
    }
   ],
   "source": [
    "adult_target.shape"
   ]
  },
  {
   "cell_type": "code",
   "execution_count": 151,
   "metadata": {},
   "outputs": [],
   "source": [
    "##Reshaping\n",
    "adult_target = np.array(adult_target)\n",
    "adult_target = adult_target.reshape(9412,)"
   ]
  },
  {
   "cell_type": "code",
   "execution_count": 152,
   "metadata": {},
   "outputs": [
    {
     "data": {
      "text/plain": [
       "(9412,)"
      ]
     },
     "execution_count": 152,
     "metadata": {},
     "output_type": "execute_result"
    }
   ],
   "source": [
    "adult_target.shape"
   ]
  },
  {
   "cell_type": "code",
   "execution_count": 153,
   "metadata": {},
   "outputs": [],
   "source": [
    "##Splitting into test and train\n",
    "adult_train, adult_test, adult_target_train, adult_target_test = train_test_split(adult_matrix, adult_target, test_size=0.2, random_state=33)\n"
   ]
  },
  {
   "cell_type": "code",
   "execution_count": 391,
   "metadata": {},
   "outputs": [],
   "source": [
    "## Decision Tree\n",
    "## Please note: I added a much larger minimum sample split and also a max depth to make the\n",
    "## Tree visualization stop looking so insane (overfit?)\n",
    "## Accuracy went down ever so slightly but I still find this preferable for visualization\n",
    "TREE = tree.DecisionTreeClassifier(criterion='entropy', min_samples_split=120, max_depth = 8)"
   ]
  },
  {
   "cell_type": "code",
   "execution_count": 392,
   "metadata": {},
   "outputs": [],
   "source": [
    "TREE = TREE.fit(adult_train, adult_target_train)"
   ]
  },
  {
   "cell_type": "code",
   "execution_count": 393,
   "metadata": {},
   "outputs": [],
   "source": [
    "tree_pred_test = TREE.predict(adult_test)"
   ]
  },
  {
   "cell_type": "code",
   "execution_count": 394,
   "metadata": {},
   "outputs": [
    {
     "name": "stdout",
     "output_type": "stream",
     "text": [
      "0.8098778544875199\n"
     ]
    }
   ],
   "source": [
    "print(TREE.score(adult_test, adult_target_test))"
   ]
  },
  {
   "cell_type": "code",
   "execution_count": 395,
   "metadata": {},
   "outputs": [
    {
     "name": "stdout",
     "output_type": "stream",
     "text": [
      "0.8238809934918316\n"
     ]
    }
   ],
   "source": [
    "print(TREE.score(adult_train, adult_target_train))"
   ]
  },
  {
   "cell_type": "code",
   "execution_count": 396,
   "metadata": {},
   "outputs": [
    {
     "data": {
      "text/plain": [
       "array([0.8 , 0.8 , 0.81, 0.82, 0.82, 0.8 , 0.81, 0.82, 0.83, 0.82])"
      ]
     },
     "execution_count": 396,
     "metadata": {},
     "output_type": "execute_result"
    }
   ],
   "source": [
    "##Cross validation\n",
    "from sklearn import cross_validation\n",
    "cv_scores = cross_validation.cross_val_score(TREE, adult_matrix, adult_target, cv=10 )\n",
    "cv_scores"
   ]
  },
  {
   "cell_type": "code",
   "execution_count": 397,
   "metadata": {},
   "outputs": [],
   "source": [
    "##Naive Bayes\n",
    "nb = naive_bayes.GaussianNB()\n",
    "nb = nb.fit(adult_train, adult_target_train)"
   ]
  },
  {
   "cell_type": "code",
   "execution_count": 398,
   "metadata": {},
   "outputs": [
    {
     "name": "stdout",
     "output_type": "stream",
     "text": [
      "0.7190653212958046\n"
     ]
    }
   ],
   "source": [
    "print(nb.score(adult_test, adult_target_test))"
   ]
  },
  {
   "cell_type": "code",
   "execution_count": 399,
   "metadata": {},
   "outputs": [
    {
     "name": "stdout",
     "output_type": "stream",
     "text": [
      "0.720547217425953\n"
     ]
    }
   ],
   "source": [
    "print(nb.score(adult_train, adult_target_train))"
   ]
  },
  {
   "cell_type": "code",
   "execution_count": 400,
   "metadata": {},
   "outputs": [
    {
     "data": {
      "text/plain": [
       "array([0.73, 0.7 , 0.73, 0.7 , 0.73, 0.71, 0.71, 0.72, 0.73, 0.71])"
      ]
     },
     "execution_count": 400,
     "metadata": {},
     "output_type": "execute_result"
    }
   ],
   "source": [
    "##Naive Bayes Cross Validation\n",
    "cv_nb_scores = cross_validation.cross_val_score(nb, adult_matrix, adult_target, cv=10 )\n",
    "cv_nb_scores"
   ]
  },
  {
   "cell_type": "code",
   "execution_count": 401,
   "metadata": {},
   "outputs": [],
   "source": [
    "import warnings"
   ]
  },
  {
   "cell_type": "code",
   "execution_count": 402,
   "metadata": {},
   "outputs": [],
   "source": [
    "##LDA\n",
    "from sklearn.discriminant_analysis import LinearDiscriminantAnalysis\n",
    "with warnings.catch_warnings():\n",
    "    warnings.simplefilter(\"ignore\")\n",
    "    lda = LinearDiscriminantAnalysis()\n",
    "    lda = lda.fit(adult_train, adult_target_train)"
   ]
  },
  {
   "cell_type": "code",
   "execution_count": 403,
   "metadata": {},
   "outputs": [
    {
     "name": "stdout",
     "output_type": "stream",
     "text": [
      "0.8104089219330854\n"
     ]
    }
   ],
   "source": [
    "print(lda.score(adult_test, adult_target_test))"
   ]
  },
  {
   "cell_type": "code",
   "execution_count": 404,
   "metadata": {},
   "outputs": [
    {
     "name": "stdout",
     "output_type": "stream",
     "text": [
      "0.8063487846991633\n"
     ]
    }
   ],
   "source": [
    "print(lda.score(adult_train, adult_target_train))"
   ]
  },
  {
   "cell_type": "code",
   "execution_count": 405,
   "metadata": {},
   "outputs": [
    {
     "data": {
      "text/plain": [
       "array([0.81, 0.81, 0.79, 0.82, 0.81, 0.79, 0.8 , 0.81, 0.82, 0.82])"
      ]
     },
     "execution_count": 405,
     "metadata": {},
     "output_type": "execute_result"
    }
   ],
   "source": [
    "##LDA Cross Validation\n",
    "with warnings.catch_warnings():\n",
    "    warnings.simplefilter(\"ignore\")\n",
    "    cv_lda_scores = cross_validation.cross_val_score(lda, adult_matrix, adult_target, cv=10 )\n",
    "cv_lda_scores"
   ]
  },
  {
   "cell_type": "code",
   "execution_count": 406,
   "metadata": {},
   "outputs": [
    {
     "data": {
      "text/plain": [
       "array([0.8 , 0.8 , 0.81, 0.82, 0.82, 0.8 , 0.81, 0.82, 0.83, 0.82])"
      ]
     },
     "execution_count": 406,
     "metadata": {},
     "output_type": "execute_result"
    }
   ],
   "source": [
    "cv_scores = cross_validation.cross_val_score(TREE, adult_matrix, adult_target, cv=10 )\n",
    "cv_scores"
   ]
  },
  {
   "cell_type": "code",
   "execution_count": 407,
   "metadata": {},
   "outputs": [
    {
     "name": "stdout",
     "output_type": "stream",
     "text": [
      "Overall Accuracy: 0.81 (+/- 0.02)\n"
     ]
    }
   ],
   "source": [
    "print(\"Overall Accuracy: %0.2f (+/- %0.2f)\" % (cv_scores.mean(), cv_scores.std() * 2))"
   ]
  },
  {
   "cell_type": "code",
   "execution_count": 408,
   "metadata": {},
   "outputs": [],
   "source": [
    "from sklearn.tree import export_graphviz\n",
    "export_graphviz(TREE, out_file='newtree.dot', feature_names=adult_train.columns)"
   ]
  },
  {
   "cell_type": "code",
   "execution_count": 409,
   "metadata": {
    "scrolled": false
   },
   "outputs": [
    {
     "data": {
      "image/svg+xml": [
       "<?xml version=\"1.0\" encoding=\"UTF-8\" standalone=\"no\"?>\r\n",
       "<!DOCTYPE svg PUBLIC \"-//W3C//DTD SVG 1.1//EN\"\r\n",
       " \"http://www.w3.org/Graphics/SVG/1.1/DTD/svg11.dtd\">\r\n",
       "<!-- Generated by graphviz version 2.38.0 (20140413.2041)\r\n",
       " -->\r\n",
       "<!-- Title: Tree Pages: 1 -->\r\n",
       "<svg width=\"4330pt\" height=\"893pt\"\r\n",
       " viewBox=\"0.00 0.00 4330.00 893.00\" xmlns=\"http://www.w3.org/2000/svg\" xmlns:xlink=\"http://www.w3.org/1999/xlink\">\r\n",
       "<g id=\"graph0\" class=\"graph\" transform=\"scale(1 1) rotate(0) translate(4 889)\">\r\n",
       "<title>Tree</title>\r\n",
       "<polygon fill=\"white\" stroke=\"none\" points=\"-4,4 -4,-889 4326,-889 4326,4 -4,4\"/>\r\n",
       "<!-- 0 -->\r\n",
       "<g id=\"node1\" class=\"node\"><title>0</title>\r\n",
       "<polygon fill=\"none\" stroke=\"black\" points=\"2191.5,-885 2018.5,-885 2018.5,-817 2191.5,-817 2191.5,-885\"/>\r\n",
       "<text text-anchor=\"middle\" x=\"2105\" y=\"-869.8\" font-family=\"Times New Roman,serif\" font-size=\"14.00\">marital&#45;status_Single &lt;= 0.5</text>\r\n",
       "<text text-anchor=\"middle\" x=\"2105\" y=\"-854.8\" font-family=\"Times New Roman,serif\" font-size=\"14.00\">entropy = 0.811</text>\r\n",
       "<text text-anchor=\"middle\" x=\"2105\" y=\"-839.8\" font-family=\"Times New Roman,serif\" font-size=\"14.00\">samples = 7529</text>\r\n",
       "<text text-anchor=\"middle\" x=\"2105\" y=\"-824.8\" font-family=\"Times New Roman,serif\" font-size=\"14.00\">value = [5650, 1879]</text>\r\n",
       "</g>\r\n",
       "<!-- 1 -->\r\n",
       "<g id=\"node2\" class=\"node\"><title>1</title>\r\n",
       "<polygon fill=\"none\" stroke=\"black\" points=\"1529.5,-781 1398.5,-781 1398.5,-713 1529.5,-713 1529.5,-781\"/>\r\n",
       "<text text-anchor=\"middle\" x=\"1464\" y=\"-765.8\" font-family=\"Times New Roman,serif\" font-size=\"14.00\">education &lt;= 11.5</text>\r\n",
       "<text text-anchor=\"middle\" x=\"1464\" y=\"-750.8\" font-family=\"Times New Roman,serif\" font-size=\"14.00\">entropy = 0.984</text>\r\n",
       "<text text-anchor=\"middle\" x=\"1464\" y=\"-735.8\" font-family=\"Times New Roman,serif\" font-size=\"14.00\">samples = 3824</text>\r\n",
       "<text text-anchor=\"middle\" x=\"1464\" y=\"-720.8\" font-family=\"Times New Roman,serif\" font-size=\"14.00\">value = [2192, 1632]</text>\r\n",
       "</g>\r\n",
       "<!-- 0&#45;&gt;1 -->\r\n",
       "<g id=\"edge1\" class=\"edge\"><title>0&#45;&gt;1</title>\r\n",
       "<path fill=\"none\" stroke=\"black\" d=\"M2018.22,-836.191C1891.93,-816.095 1659.55,-779.118 1539.78,-760.059\"/>\r\n",
       "<polygon fill=\"black\" stroke=\"black\" points=\"1540.03,-756.554 1529.6,-758.439 1538.93,-763.467 1540.03,-756.554\"/>\r\n",
       "<text text-anchor=\"middle\" x=\"1544.28\" y=\"-774.975\" font-family=\"Times New Roman,serif\" font-size=\"14.00\">True</text>\r\n",
       "</g>\r\n",
       "<!-- 62 -->\r\n",
       "<g id=\"node63\" class=\"node\"><title>62</title>\r\n",
       "<polygon fill=\"none\" stroke=\"black\" points=\"2812.5,-781 2687.5,-781 2687.5,-713 2812.5,-713 2812.5,-781\"/>\r\n",
       "<text text-anchor=\"middle\" x=\"2750\" y=\"-765.8\" font-family=\"Times New Roman,serif\" font-size=\"14.00\">education &lt;= 12.5</text>\r\n",
       "<text text-anchor=\"middle\" x=\"2750\" y=\"-750.8\" font-family=\"Times New Roman,serif\" font-size=\"14.00\">entropy = 0.353</text>\r\n",
       "<text text-anchor=\"middle\" x=\"2750\" y=\"-735.8\" font-family=\"Times New Roman,serif\" font-size=\"14.00\">samples = 3705</text>\r\n",
       "<text text-anchor=\"middle\" x=\"2750\" y=\"-720.8\" font-family=\"Times New Roman,serif\" font-size=\"14.00\">value = [3458, 247]</text>\r\n",
       "</g>\r\n",
       "<!-- 0&#45;&gt;62 -->\r\n",
       "<g id=\"edge62\" class=\"edge\"><title>0&#45;&gt;62</title>\r\n",
       "<path fill=\"none\" stroke=\"black\" d=\"M2191.65,-836.297C2319.85,-816.024 2557.73,-778.406 2677.34,-759.49\"/>\r\n",
       "<polygon fill=\"black\" stroke=\"black\" points=\"2678.16,-762.904 2687.5,-757.884 2677.07,-755.99 2678.16,-762.904\"/>\r\n",
       "<text text-anchor=\"middle\" x=\"2672.8\" y=\"-774.406\" font-family=\"Times New Roman,serif\" font-size=\"14.00\">False</text>\r\n",
       "</g>\r\n",
       "<!-- 2 -->\r\n",
       "<g id=\"node3\" class=\"node\"><title>2</title>\r\n",
       "<polygon fill=\"none\" stroke=\"black\" points=\"882.5,-677 757.5,-677 757.5,-609 882.5,-609 882.5,-677\"/>\r\n",
       "<text text-anchor=\"middle\" x=\"820\" y=\"-661.8\" font-family=\"Times New Roman,serif\" font-size=\"14.00\">education &lt;= 8.5</text>\r\n",
       "<text text-anchor=\"middle\" x=\"820\" y=\"-646.8\" font-family=\"Times New Roman,serif\" font-size=\"14.00\">entropy = 0.893</text>\r\n",
       "<text text-anchor=\"middle\" x=\"820\" y=\"-631.8\" font-family=\"Times New Roman,serif\" font-size=\"14.00\">samples = 2608</text>\r\n",
       "<text text-anchor=\"middle\" x=\"820\" y=\"-616.8\" font-family=\"Times New Roman,serif\" font-size=\"14.00\">value = [1800, 808]</text>\r\n",
       "</g>\r\n",
       "<!-- 1&#45;&gt;2 -->\r\n",
       "<g id=\"edge2\" class=\"edge\"><title>1&#45;&gt;2</title>\r\n",
       "<path fill=\"none\" stroke=\"black\" d=\"M1398.41,-735.611C1277.14,-716.405 1018.78,-675.483 892.504,-655.484\"/>\r\n",
       "<polygon fill=\"black\" stroke=\"black\" points=\"892.966,-652.013 882.541,-653.906 891.871,-658.927 892.966,-652.013\"/>\r\n",
       "</g>\r\n",
       "<!-- 39 -->\r\n",
       "<g id=\"node40\" class=\"node\"><title>39</title>\r\n",
       "<polygon fill=\"none\" stroke=\"black\" points=\"1523,-677 1405,-677 1405,-609 1523,-609 1523,-677\"/>\r\n",
       "<text text-anchor=\"middle\" x=\"1464\" y=\"-661.8\" font-family=\"Times New Roman,serif\" font-size=\"14.00\">age &lt;= 30.5</text>\r\n",
       "<text text-anchor=\"middle\" x=\"1464\" y=\"-646.8\" font-family=\"Times New Roman,serif\" font-size=\"14.00\">entropy = 0.907</text>\r\n",
       "<text text-anchor=\"middle\" x=\"1464\" y=\"-631.8\" font-family=\"Times New Roman,serif\" font-size=\"14.00\">samples = 1216</text>\r\n",
       "<text text-anchor=\"middle\" x=\"1464\" y=\"-616.8\" font-family=\"Times New Roman,serif\" font-size=\"14.00\">value = [392, 824]</text>\r\n",
       "</g>\r\n",
       "<!-- 1&#45;&gt;39 -->\r\n",
       "<g id=\"edge39\" class=\"edge\"><title>1&#45;&gt;39</title>\r\n",
       "<path fill=\"none\" stroke=\"black\" d=\"M1464,-712.884C1464,-704.778 1464,-695.982 1464,-687.472\"/>\r\n",
       "<polygon fill=\"black\" stroke=\"black\" points=\"1467.5,-687.299 1464,-677.299 1460.5,-687.299 1467.5,-687.299\"/>\r\n",
       "</g>\r\n",
       "<!-- 3 -->\r\n",
       "<g id=\"node4\" class=\"node\"><title>3</title>\r\n",
       "<polygon fill=\"none\" stroke=\"black\" points=\"472,-573 320,-573 320,-505 472,-505 472,-573\"/>\r\n",
       "<text text-anchor=\"middle\" x=\"396\" y=\"-557.8\" font-family=\"Times New Roman,serif\" font-size=\"14.00\">hours&#45;per&#45;week &lt;= 39.0</text>\r\n",
       "<text text-anchor=\"middle\" x=\"396\" y=\"-542.8\" font-family=\"Times New Roman,serif\" font-size=\"14.00\">entropy = 0.496</text>\r\n",
       "<text text-anchor=\"middle\" x=\"396\" y=\"-527.8\" font-family=\"Times New Roman,serif\" font-size=\"14.00\">samples = 441</text>\r\n",
       "<text text-anchor=\"middle\" x=\"396\" y=\"-512.8\" font-family=\"Times New Roman,serif\" font-size=\"14.00\">value = [393, 48]</text>\r\n",
       "</g>\r\n",
       "<!-- 2&#45;&gt;3 -->\r\n",
       "<g id=\"edge3\" class=\"edge\"><title>2&#45;&gt;3</title>\r\n",
       "<path fill=\"none\" stroke=\"black\" d=\"M757.437,-626.95C684.5,-609.403 563.546,-580.306 481.859,-560.655\"/>\r\n",
       "<polygon fill=\"black\" stroke=\"black\" points=\"482.638,-557.242 472.097,-558.306 481.001,-564.048 482.638,-557.242\"/>\r\n",
       "</g>\r\n",
       "<!-- 16 -->\r\n",
       "<g id=\"node17\" class=\"node\"><title>16</title>\r\n",
       "<polygon fill=\"none\" stroke=\"black\" points=\"882.5,-573 757.5,-573 757.5,-505 882.5,-505 882.5,-573\"/>\r\n",
       "<text text-anchor=\"middle\" x=\"820\" y=\"-557.8\" font-family=\"Times New Roman,serif\" font-size=\"14.00\">age &lt;= 32.5</text>\r\n",
       "<text text-anchor=\"middle\" x=\"820\" y=\"-542.8\" font-family=\"Times New Roman,serif\" font-size=\"14.00\">entropy = 0.935</text>\r\n",
       "<text text-anchor=\"middle\" x=\"820\" y=\"-527.8\" font-family=\"Times New Roman,serif\" font-size=\"14.00\">samples = 2167</text>\r\n",
       "<text text-anchor=\"middle\" x=\"820\" y=\"-512.8\" font-family=\"Times New Roman,serif\" font-size=\"14.00\">value = [1407, 760]</text>\r\n",
       "</g>\r\n",
       "<!-- 2&#45;&gt;16 -->\r\n",
       "<g id=\"edge16\" class=\"edge\"><title>2&#45;&gt;16</title>\r\n",
       "<path fill=\"none\" stroke=\"black\" d=\"M820,-608.884C820,-600.778 820,-591.982 820,-583.472\"/>\r\n",
       "<polygon fill=\"black\" stroke=\"black\" points=\"823.5,-583.299 820,-573.299 816.5,-583.299 823.5,-583.299\"/>\r\n",
       "</g>\r\n",
       "<!-- 4 -->\r\n",
       "<g id=\"node5\" class=\"node\"><title>4</title>\r\n",
       "<polygon fill=\"none\" stroke=\"black\" points=\"322,-461.5 216,-461.5 216,-408.5 322,-408.5 322,-461.5\"/>\r\n",
       "<text text-anchor=\"middle\" x=\"269\" y=\"-446.3\" font-family=\"Times New Roman,serif\" font-size=\"14.00\">entropy = 0.152</text>\r\n",
       "<text text-anchor=\"middle\" x=\"269\" y=\"-431.3\" font-family=\"Times New Roman,serif\" font-size=\"14.00\">samples = 91</text>\r\n",
       "<text text-anchor=\"middle\" x=\"269\" y=\"-416.3\" font-family=\"Times New Roman,serif\" font-size=\"14.00\">value = [89, 2]</text>\r\n",
       "</g>\r\n",
       "<!-- 3&#45;&gt;4 -->\r\n",
       "<g id=\"edge4\" class=\"edge\"><title>3&#45;&gt;4</title>\r\n",
       "<path fill=\"none\" stroke=\"black\" d=\"M354.767,-504.884C339.978,-493.006 323.344,-479.646 308.689,-467.876\"/>\r\n",
       "<polygon fill=\"black\" stroke=\"black\" points=\"310.763,-465.053 300.775,-461.52 306.38,-470.511 310.763,-465.053\"/>\r\n",
       "</g>\r\n",
       "<!-- 5 -->\r\n",
       "<g id=\"node6\" class=\"node\"><title>5</title>\r\n",
       "<polygon fill=\"none\" stroke=\"black\" points=\"451.5,-469 340.5,-469 340.5,-401 451.5,-401 451.5,-469\"/>\r\n",
       "<text text-anchor=\"middle\" x=\"396\" y=\"-453.8\" font-family=\"Times New Roman,serif\" font-size=\"14.00\">age &lt;= 37.5</text>\r\n",
       "<text text-anchor=\"middle\" x=\"396\" y=\"-438.8\" font-family=\"Times New Roman,serif\" font-size=\"14.00\">entropy = 0.561</text>\r\n",
       "<text text-anchor=\"middle\" x=\"396\" y=\"-423.8\" font-family=\"Times New Roman,serif\" font-size=\"14.00\">samples = 350</text>\r\n",
       "<text text-anchor=\"middle\" x=\"396\" y=\"-408.8\" font-family=\"Times New Roman,serif\" font-size=\"14.00\">value = [304, 46]</text>\r\n",
       "</g>\r\n",
       "<!-- 3&#45;&gt;5 -->\r\n",
       "<g id=\"edge5\" class=\"edge\"><title>3&#45;&gt;5</title>\r\n",
       "<path fill=\"none\" stroke=\"black\" d=\"M396,-504.884C396,-496.778 396,-487.982 396,-479.472\"/>\r\n",
       "<polygon fill=\"black\" stroke=\"black\" points=\"399.5,-479.299 396,-469.299 392.5,-479.299 399.5,-479.299\"/>\r\n",
       "</g>\r\n",
       "<!-- 6 -->\r\n",
       "<g id=\"node7\" class=\"node\"><title>6</title>\r\n",
       "<polygon fill=\"none\" stroke=\"black\" points=\"263,-365 91,-365 91,-297 263,-297 263,-365\"/>\r\n",
       "<text text-anchor=\"middle\" x=\"177\" y=\"-349.8\" font-family=\"Times New Roman,serif\" font-size=\"14.00\">workclass_Self&#45;emp &lt;= 0.5</text>\r\n",
       "<text text-anchor=\"middle\" x=\"177\" y=\"-334.8\" font-family=\"Times New Roman,serif\" font-size=\"14.00\">entropy = 0.375</text>\r\n",
       "<text text-anchor=\"middle\" x=\"177\" y=\"-319.8\" font-family=\"Times New Roman,serif\" font-size=\"14.00\">samples = 124</text>\r\n",
       "<text text-anchor=\"middle\" x=\"177\" y=\"-304.8\" font-family=\"Times New Roman,serif\" font-size=\"14.00\">value = [115, 9]</text>\r\n",
       "</g>\r\n",
       "<!-- 5&#45;&gt;6 -->\r\n",
       "<g id=\"edge6\" class=\"edge\"><title>5&#45;&gt;6</title>\r\n",
       "<path fill=\"none\" stroke=\"black\" d=\"M340.419,-405.559C337.24,-404.001 334.084,-402.472 331,-401 308.81,-390.403 284.615,-379.338 262.117,-369.25\"/>\r\n",
       "<polygon fill=\"black\" stroke=\"black\" points=\"263.481,-366.027 252.924,-365.14 260.624,-372.417 263.481,-366.027\"/>\r\n",
       "</g>\r\n",
       "<!-- 9 -->\r\n",
       "<g id=\"node10\" class=\"node\"><title>9</title>\r\n",
       "<polygon fill=\"none\" stroke=\"black\" points=\"472,-365 320,-365 320,-297 472,-297 472,-365\"/>\r\n",
       "<text text-anchor=\"middle\" x=\"396\" y=\"-349.8\" font-family=\"Times New Roman,serif\" font-size=\"14.00\">hours&#45;per&#45;week &lt;= 71.0</text>\r\n",
       "<text text-anchor=\"middle\" x=\"396\" y=\"-334.8\" font-family=\"Times New Roman,serif\" font-size=\"14.00\">entropy = 0.643</text>\r\n",
       "<text text-anchor=\"middle\" x=\"396\" y=\"-319.8\" font-family=\"Times New Roman,serif\" font-size=\"14.00\">samples = 226</text>\r\n",
       "<text text-anchor=\"middle\" x=\"396\" y=\"-304.8\" font-family=\"Times New Roman,serif\" font-size=\"14.00\">value = [189, 37]</text>\r\n",
       "</g>\r\n",
       "<!-- 5&#45;&gt;9 -->\r\n",
       "<g id=\"edge9\" class=\"edge\"><title>5&#45;&gt;9</title>\r\n",
       "<path fill=\"none\" stroke=\"black\" d=\"M396,-400.884C396,-392.778 396,-383.982 396,-375.472\"/>\r\n",
       "<polygon fill=\"black\" stroke=\"black\" points=\"399.5,-375.299 396,-365.299 392.5,-375.299 399.5,-375.299\"/>\r\n",
       "</g>\r\n",
       "<!-- 7 -->\r\n",
       "<g id=\"node8\" class=\"node\"><title>7</title>\r\n",
       "<polygon fill=\"none\" stroke=\"black\" points=\"106,-253.5 0,-253.5 0,-200.5 106,-200.5 106,-253.5\"/>\r\n",
       "<text text-anchor=\"middle\" x=\"53\" y=\"-238.3\" font-family=\"Times New Roman,serif\" font-size=\"14.00\">entropy = 0.307</text>\r\n",
       "<text text-anchor=\"middle\" x=\"53\" y=\"-223.3\" font-family=\"Times New Roman,serif\" font-size=\"14.00\">samples = 109</text>\r\n",
       "<text text-anchor=\"middle\" x=\"53\" y=\"-208.3\" font-family=\"Times New Roman,serif\" font-size=\"14.00\">value = [103, 6]</text>\r\n",
       "</g>\r\n",
       "<!-- 6&#45;&gt;7 -->\r\n",
       "<g id=\"edge7\" class=\"edge\"><title>6&#45;&gt;7</title>\r\n",
       "<path fill=\"none\" stroke=\"black\" d=\"M136.741,-296.884C122.301,-285.006 106.06,-271.646 91.7512,-259.876\"/>\r\n",
       "<polygon fill=\"black\" stroke=\"black\" points=\"93.9706,-257.17 84.0242,-253.52 89.5237,-262.576 93.9706,-257.17\"/>\r\n",
       "</g>\r\n",
       "<!-- 8 -->\r\n",
       "<g id=\"node9\" class=\"node\"><title>8</title>\r\n",
       "<polygon fill=\"none\" stroke=\"black\" points=\"230,-253.5 124,-253.5 124,-200.5 230,-200.5 230,-253.5\"/>\r\n",
       "<text text-anchor=\"middle\" x=\"177\" y=\"-238.3\" font-family=\"Times New Roman,serif\" font-size=\"14.00\">entropy = 0.722</text>\r\n",
       "<text text-anchor=\"middle\" x=\"177\" y=\"-223.3\" font-family=\"Times New Roman,serif\" font-size=\"14.00\">samples = 15</text>\r\n",
       "<text text-anchor=\"middle\" x=\"177\" y=\"-208.3\" font-family=\"Times New Roman,serif\" font-size=\"14.00\">value = [12, 3]</text>\r\n",
       "</g>\r\n",
       "<!-- 6&#45;&gt;8 -->\r\n",
       "<g id=\"edge8\" class=\"edge\"><title>6&#45;&gt;8</title>\r\n",
       "<path fill=\"none\" stroke=\"black\" d=\"M177,-296.884C177,-286.326 177,-274.597 177,-263.854\"/>\r\n",
       "<polygon fill=\"black\" stroke=\"black\" points=\"180.5,-263.52 177,-253.52 173.5,-263.52 180.5,-263.52\"/>\r\n",
       "</g>\r\n",
       "<!-- 10 -->\r\n",
       "<g id=\"node11\" class=\"node\"><title>10</title>\r\n",
       "<polygon fill=\"none\" stroke=\"black\" points=\"400,-261 248,-261 248,-193 400,-193 400,-261\"/>\r\n",
       "<text text-anchor=\"middle\" x=\"324\" y=\"-245.8\" font-family=\"Times New Roman,serif\" font-size=\"14.00\">hours&#45;per&#45;week &lt;= 46.0</text>\r\n",
       "<text text-anchor=\"middle\" x=\"324\" y=\"-230.8\" font-family=\"Times New Roman,serif\" font-size=\"14.00\">entropy = 0.657</text>\r\n",
       "<text text-anchor=\"middle\" x=\"324\" y=\"-215.8\" font-family=\"Times New Roman,serif\" font-size=\"14.00\">samples = 218</text>\r\n",
       "<text text-anchor=\"middle\" x=\"324\" y=\"-200.8\" font-family=\"Times New Roman,serif\" font-size=\"14.00\">value = [181, 37]</text>\r\n",
       "</g>\r\n",
       "<!-- 9&#45;&gt;10 -->\r\n",
       "<g id=\"edge10\" class=\"edge\"><title>9&#45;&gt;10</title>\r\n",
       "<path fill=\"none\" stroke=\"black\" d=\"M372.624,-296.884C366.462,-288.154 359.735,-278.625 353.304,-269.514\"/>\r\n",
       "<polygon fill=\"black\" stroke=\"black\" points=\"356.132,-267.451 347.505,-261.299 350.413,-271.487 356.132,-267.451\"/>\r\n",
       "</g>\r\n",
       "<!-- 15 -->\r\n",
       "<g id=\"node16\" class=\"node\"><title>15</title>\r\n",
       "<polygon fill=\"none\" stroke=\"black\" points=\"510,-253.5 418,-253.5 418,-200.5 510,-200.5 510,-253.5\"/>\r\n",
       "<text text-anchor=\"middle\" x=\"464\" y=\"-238.3\" font-family=\"Times New Roman,serif\" font-size=\"14.00\">entropy = 0.0</text>\r\n",
       "<text text-anchor=\"middle\" x=\"464\" y=\"-223.3\" font-family=\"Times New Roman,serif\" font-size=\"14.00\">samples = 8</text>\r\n",
       "<text text-anchor=\"middle\" x=\"464\" y=\"-208.3\" font-family=\"Times New Roman,serif\" font-size=\"14.00\">value = [8, 0]</text>\r\n",
       "</g>\r\n",
       "<!-- 9&#45;&gt;15 -->\r\n",
       "<g id=\"edge15\" class=\"edge\"><title>9&#45;&gt;15</title>\r\n",
       "<path fill=\"none\" stroke=\"black\" d=\"M418.078,-296.884C425.556,-285.666 433.916,-273.126 441.432,-261.852\"/>\r\n",
       "<polygon fill=\"black\" stroke=\"black\" points=\"444.352,-263.782 446.987,-253.52 438.527,-259.899 444.352,-263.782\"/>\r\n",
       "</g>\r\n",
       "<!-- 11 -->\r\n",
       "<g id=\"node12\" class=\"node\"><title>11</title>\r\n",
       "<polygon fill=\"none\" stroke=\"black\" points=\"260,-157 140,-157 140,-89 260,-89 260,-157\"/>\r\n",
       "<text text-anchor=\"middle\" x=\"200\" y=\"-141.8\" font-family=\"Times New Roman,serif\" font-size=\"14.00\">race_Black &lt;= 0.5</text>\r\n",
       "<text text-anchor=\"middle\" x=\"200\" y=\"-126.8\" font-family=\"Times New Roman,serif\" font-size=\"14.00\">entropy = 0.606</text>\r\n",
       "<text text-anchor=\"middle\" x=\"200\" y=\"-111.8\" font-family=\"Times New Roman,serif\" font-size=\"14.00\">samples = 175</text>\r\n",
       "<text text-anchor=\"middle\" x=\"200\" y=\"-96.8\" font-family=\"Times New Roman,serif\" font-size=\"14.00\">value = [149, 26]</text>\r\n",
       "</g>\r\n",
       "<!-- 10&#45;&gt;11 -->\r\n",
       "<g id=\"edge11\" class=\"edge\"><title>10&#45;&gt;11</title>\r\n",
       "<path fill=\"none\" stroke=\"black\" d=\"M283.741,-192.884C272.479,-183.62 260.122,-173.455 248.44,-163.845\"/>\r\n",
       "<polygon fill=\"black\" stroke=\"black\" points=\"250.428,-160.949 240.482,-157.299 245.981,-166.355 250.428,-160.949\"/>\r\n",
       "</g>\r\n",
       "<!-- 14 -->\r\n",
       "<g id=\"node15\" class=\"node\"><title>14</title>\r\n",
       "<polygon fill=\"none\" stroke=\"black\" points=\"382,-149.5 278,-149.5 278,-96.5 382,-96.5 382,-149.5\"/>\r\n",
       "<text text-anchor=\"middle\" x=\"330\" y=\"-134.3\" font-family=\"Times New Roman,serif\" font-size=\"14.00\">entropy = 0.82</text>\r\n",
       "<text text-anchor=\"middle\" x=\"330\" y=\"-119.3\" font-family=\"Times New Roman,serif\" font-size=\"14.00\">samples = 43</text>\r\n",
       "<text text-anchor=\"middle\" x=\"330\" y=\"-104.3\" font-family=\"Times New Roman,serif\" font-size=\"14.00\">value = [32, 11]</text>\r\n",
       "</g>\r\n",
       "<!-- 10&#45;&gt;14 -->\r\n",
       "<g id=\"edge14\" class=\"edge\"><title>10&#45;&gt;14</title>\r\n",
       "<path fill=\"none\" stroke=\"black\" d=\"M325.948,-192.884C326.576,-182.216 327.273,-170.352 327.911,-159.519\"/>\r\n",
       "<polygon fill=\"black\" stroke=\"black\" points=\"331.405,-159.708 328.499,-149.52 324.418,-159.297 331.405,-159.708\"/>\r\n",
       "</g>\r\n",
       "<!-- 12 -->\r\n",
       "<g id=\"node13\" class=\"node\"><title>12</title>\r\n",
       "<polygon fill=\"none\" stroke=\"black\" points=\"194.5,-53 83.5,-53 83.5,-0 194.5,-0 194.5,-53\"/>\r\n",
       "<text text-anchor=\"middle\" x=\"139\" y=\"-37.8\" font-family=\"Times New Roman,serif\" font-size=\"14.00\">entropy = 0.552</text>\r\n",
       "<text text-anchor=\"middle\" x=\"139\" y=\"-22.8\" font-family=\"Times New Roman,serif\" font-size=\"14.00\">samples = 156</text>\r\n",
       "<text text-anchor=\"middle\" x=\"139\" y=\"-7.8\" font-family=\"Times New Roman,serif\" font-size=\"14.00\">value = [136, 20]</text>\r\n",
       "</g>\r\n",
       "<!-- 11&#45;&gt;12 -->\r\n",
       "<g id=\"edge12\" class=\"edge\"><title>11&#45;&gt;12</title>\r\n",
       "<path fill=\"none\" stroke=\"black\" d=\"M178.665,-88.9485C172.996,-80.1664 166.862,-70.6629 161.15,-61.815\"/>\r\n",
       "<polygon fill=\"black\" stroke=\"black\" points=\"163.977,-59.7402 155.613,-53.2367 158.096,-63.5365 163.977,-59.7402\"/>\r\n",
       "</g>\r\n",
       "<!-- 13 -->\r\n",
       "<g id=\"node14\" class=\"node\"><title>13</title>\r\n",
       "<polygon fill=\"none\" stroke=\"black\" points=\"311,-53 213,-53 213,-0 311,-0 311,-53\"/>\r\n",
       "<text text-anchor=\"middle\" x=\"262\" y=\"-37.8\" font-family=\"Times New Roman,serif\" font-size=\"14.00\">entropy = 0.9</text>\r\n",
       "<text text-anchor=\"middle\" x=\"262\" y=\"-22.8\" font-family=\"Times New Roman,serif\" font-size=\"14.00\">samples = 19</text>\r\n",
       "<text text-anchor=\"middle\" x=\"262\" y=\"-7.8\" font-family=\"Times New Roman,serif\" font-size=\"14.00\">value = [13, 6]</text>\r\n",
       "</g>\r\n",
       "<!-- 11&#45;&gt;13 -->\r\n",
       "<g id=\"edge13\" class=\"edge\"><title>11&#45;&gt;13</title>\r\n",
       "<path fill=\"none\" stroke=\"black\" d=\"M221.685,-88.9485C227.446,-80.1664 233.681,-70.6629 239.486,-61.815\"/>\r\n",
       "<polygon fill=\"black\" stroke=\"black\" points=\"242.555,-63.5178 245.115,-53.2367 236.703,-59.6779 242.555,-63.5178\"/>\r\n",
       "</g>\r\n",
       "<!-- 17 -->\r\n",
       "<g id=\"node18\" class=\"node\"><title>17</title>\r\n",
       "<polygon fill=\"none\" stroke=\"black\" points=\"776.5,-469 665.5,-469 665.5,-401 776.5,-401 776.5,-469\"/>\r\n",
       "<text text-anchor=\"middle\" x=\"721\" y=\"-453.8\" font-family=\"Times New Roman,serif\" font-size=\"14.00\">age &lt;= 23.5</text>\r\n",
       "<text text-anchor=\"middle\" x=\"721\" y=\"-438.8\" font-family=\"Times New Roman,serif\" font-size=\"14.00\">entropy = 0.706</text>\r\n",
       "<text text-anchor=\"middle\" x=\"721\" y=\"-423.8\" font-family=\"Times New Roman,serif\" font-size=\"14.00\">samples = 474</text>\r\n",
       "<text text-anchor=\"middle\" x=\"721\" y=\"-408.8\" font-family=\"Times New Roman,serif\" font-size=\"14.00\">value = [383, 91]</text>\r\n",
       "</g>\r\n",
       "<!-- 16&#45;&gt;17 -->\r\n",
       "<g id=\"edge17\" class=\"edge\"><title>16&#45;&gt;17</title>\r\n",
       "<path fill=\"none\" stroke=\"black\" d=\"M787.858,-504.884C779.126,-495.887 769.569,-486.041 760.482,-476.678\"/>\r\n",
       "<polygon fill=\"black\" stroke=\"black\" points=\"762.796,-474.038 753.32,-469.299 757.773,-478.913 762.796,-474.038\"/>\r\n",
       "</g>\r\n",
       "<!-- 26 -->\r\n",
       "<g id=\"node27\" class=\"node\"><title>26</title>\r\n",
       "<polygon fill=\"none\" stroke=\"black\" points=\"995,-469 843,-469 843,-401 995,-401 995,-469\"/>\r\n",
       "<text text-anchor=\"middle\" x=\"919\" y=\"-453.8\" font-family=\"Times New Roman,serif\" font-size=\"14.00\">hours&#45;per&#45;week &lt;= 34.5</text>\r\n",
       "<text text-anchor=\"middle\" x=\"919\" y=\"-438.8\" font-family=\"Times New Roman,serif\" font-size=\"14.00\">entropy = 0.968</text>\r\n",
       "<text text-anchor=\"middle\" x=\"919\" y=\"-423.8\" font-family=\"Times New Roman,serif\" font-size=\"14.00\">samples = 1693</text>\r\n",
       "<text text-anchor=\"middle\" x=\"919\" y=\"-408.8\" font-family=\"Times New Roman,serif\" font-size=\"14.00\">value = [1024, 669]</text>\r\n",
       "</g>\r\n",
       "<!-- 16&#45;&gt;26 -->\r\n",
       "<g id=\"edge26\" class=\"edge\"><title>16&#45;&gt;26</title>\r\n",
       "<path fill=\"none\" stroke=\"black\" d=\"M852.142,-504.884C860.874,-495.887 870.431,-486.041 879.518,-476.678\"/>\r\n",
       "<polygon fill=\"black\" stroke=\"black\" points=\"882.227,-478.913 886.68,-469.299 877.204,-474.038 882.227,-478.913\"/>\r\n",
       "</g>\r\n",
       "<!-- 18 -->\r\n",
       "<g id=\"node19\" class=\"node\"><title>18</title>\r\n",
       "<polygon fill=\"none\" stroke=\"black\" points=\"627,-357.5 529,-357.5 529,-304.5 627,-304.5 627,-357.5\"/>\r\n",
       "<text text-anchor=\"middle\" x=\"578\" y=\"-342.3\" font-family=\"Times New Roman,serif\" font-size=\"14.00\">entropy = 0.0</text>\r\n",
       "<text text-anchor=\"middle\" x=\"578\" y=\"-327.3\" font-family=\"Times New Roman,serif\" font-size=\"14.00\">samples = 55</text>\r\n",
       "<text text-anchor=\"middle\" x=\"578\" y=\"-312.3\" font-family=\"Times New Roman,serif\" font-size=\"14.00\">value = [55, 0]</text>\r\n",
       "</g>\r\n",
       "<!-- 17&#45;&gt;18 -->\r\n",
       "<g id=\"edge18\" class=\"edge\"><title>17&#45;&gt;18</title>\r\n",
       "<path fill=\"none\" stroke=\"black\" d=\"M674.572,-400.884C657.766,-388.896 638.843,-375.399 622.231,-363.549\"/>\r\n",
       "<polygon fill=\"black\" stroke=\"black\" points=\"623.952,-360.478 613.778,-357.52 619.887,-366.176 623.952,-360.478\"/>\r\n",
       "</g>\r\n",
       "<!-- 19 -->\r\n",
       "<g id=\"node20\" class=\"node\"><title>19</title>\r\n",
       "<polygon fill=\"none\" stroke=\"black\" points=\"797,-365 645,-365 645,-297 797,-297 797,-365\"/>\r\n",
       "<text text-anchor=\"middle\" x=\"721\" y=\"-349.8\" font-family=\"Times New Roman,serif\" font-size=\"14.00\">hours&#45;per&#45;week &lt;= 54.5</text>\r\n",
       "<text text-anchor=\"middle\" x=\"721\" y=\"-334.8\" font-family=\"Times New Roman,serif\" font-size=\"14.00\">entropy = 0.755</text>\r\n",
       "<text text-anchor=\"middle\" x=\"721\" y=\"-319.8\" font-family=\"Times New Roman,serif\" font-size=\"14.00\">samples = 419</text>\r\n",
       "<text text-anchor=\"middle\" x=\"721\" y=\"-304.8\" font-family=\"Times New Roman,serif\" font-size=\"14.00\">value = [328, 91]</text>\r\n",
       "</g>\r\n",
       "<!-- 17&#45;&gt;19 -->\r\n",
       "<g id=\"edge19\" class=\"edge\"><title>17&#45;&gt;19</title>\r\n",
       "<path fill=\"none\" stroke=\"black\" d=\"M721,-400.884C721,-392.778 721,-383.982 721,-375.472\"/>\r\n",
       "<polygon fill=\"black\" stroke=\"black\" points=\"724.5,-375.299 721,-365.299 717.5,-375.299 724.5,-375.299\"/>\r\n",
       "</g>\r\n",
       "<!-- 20 -->\r\n",
       "<g id=\"node21\" class=\"node\"><title>20</title>\r\n",
       "<polygon fill=\"none\" stroke=\"black\" points=\"650,-261 528,-261 528,-193 650,-193 650,-261\"/>\r\n",
       "<text text-anchor=\"middle\" x=\"589\" y=\"-245.8\" font-family=\"Times New Roman,serif\" font-size=\"14.00\">race_White &lt;= 0.5</text>\r\n",
       "<text text-anchor=\"middle\" x=\"589\" y=\"-230.8\" font-family=\"Times New Roman,serif\" font-size=\"14.00\">entropy = 0.701</text>\r\n",
       "<text text-anchor=\"middle\" x=\"589\" y=\"-215.8\" font-family=\"Times New Roman,serif\" font-size=\"14.00\">samples = 358</text>\r\n",
       "<text text-anchor=\"middle\" x=\"589\" y=\"-200.8\" font-family=\"Times New Roman,serif\" font-size=\"14.00\">value = [290, 68]</text>\r\n",
       "</g>\r\n",
       "<!-- 19&#45;&gt;20 -->\r\n",
       "<g id=\"edge20\" class=\"edge\"><title>19&#45;&gt;20</title>\r\n",
       "<path fill=\"none\" stroke=\"black\" d=\"M678.143,-296.884C666.04,-287.531 652.747,-277.259 640.206,-267.568\"/>\r\n",
       "<polygon fill=\"black\" stroke=\"black\" points=\"642.146,-264.644 632.093,-261.299 637.866,-270.183 642.146,-264.644\"/>\r\n",
       "</g>\r\n",
       "<!-- 25 -->\r\n",
       "<g id=\"node26\" class=\"node\"><title>25</title>\r\n",
       "<polygon fill=\"none\" stroke=\"black\" points=\"774,-253.5 668,-253.5 668,-200.5 774,-200.5 774,-253.5\"/>\r\n",
       "<text text-anchor=\"middle\" x=\"721\" y=\"-238.3\" font-family=\"Times New Roman,serif\" font-size=\"14.00\">entropy = 0.956</text>\r\n",
       "<text text-anchor=\"middle\" x=\"721\" y=\"-223.3\" font-family=\"Times New Roman,serif\" font-size=\"14.00\">samples = 61</text>\r\n",
       "<text text-anchor=\"middle\" x=\"721\" y=\"-208.3\" font-family=\"Times New Roman,serif\" font-size=\"14.00\">value = [38, 23]</text>\r\n",
       "</g>\r\n",
       "<!-- 19&#45;&gt;25 -->\r\n",
       "<g id=\"edge25\" class=\"edge\"><title>19&#45;&gt;25</title>\r\n",
       "<path fill=\"none\" stroke=\"black\" d=\"M721,-296.884C721,-286.326 721,-274.597 721,-263.854\"/>\r\n",
       "<polygon fill=\"black\" stroke=\"black\" points=\"724.5,-263.52 721,-253.52 717.5,-263.52 724.5,-263.52\"/>\r\n",
       "</g>\r\n",
       "<!-- 21 -->\r\n",
       "<g id=\"node22\" class=\"node\"><title>21</title>\r\n",
       "<polygon fill=\"none\" stroke=\"black\" points=\"556,-149.5 450,-149.5 450,-96.5 556,-96.5 556,-149.5\"/>\r\n",
       "<text text-anchor=\"middle\" x=\"503\" y=\"-134.3\" font-family=\"Times New Roman,serif\" font-size=\"14.00\">entropy = 0.323</text>\r\n",
       "<text text-anchor=\"middle\" x=\"503\" y=\"-119.3\" font-family=\"Times New Roman,serif\" font-size=\"14.00\">samples = 51</text>\r\n",
       "<text text-anchor=\"middle\" x=\"503\" y=\"-104.3\" font-family=\"Times New Roman,serif\" font-size=\"14.00\">value = [48, 3]</text>\r\n",
       "</g>\r\n",
       "<!-- 20&#45;&gt;21 -->\r\n",
       "<g id=\"edge21\" class=\"edge\"><title>20&#45;&gt;21</title>\r\n",
       "<path fill=\"none\" stroke=\"black\" d=\"M561.078,-192.884C551.435,-181.446 540.632,-168.634 530.984,-157.19\"/>\r\n",
       "<polygon fill=\"black\" stroke=\"black\" points=\"533.639,-154.909 524.517,-149.52 528.287,-159.421 533.639,-154.909\"/>\r\n",
       "</g>\r\n",
       "<!-- 22 -->\r\n",
       "<g id=\"node23\" class=\"node\"><title>22</title>\r\n",
       "<polygon fill=\"none\" stroke=\"black\" points=\"731.5,-157 574.5,-157 574.5,-89 731.5,-89 731.5,-157\"/>\r\n",
       "<text text-anchor=\"middle\" x=\"653\" y=\"-141.8\" font-family=\"Times New Roman,serif\" font-size=\"14.00\">workclass_Public &lt;= 0.5</text>\r\n",
       "<text text-anchor=\"middle\" x=\"653\" y=\"-126.8\" font-family=\"Times New Roman,serif\" font-size=\"14.00\">entropy = 0.745</text>\r\n",
       "<text text-anchor=\"middle\" x=\"653\" y=\"-111.8\" font-family=\"Times New Roman,serif\" font-size=\"14.00\">samples = 307</text>\r\n",
       "<text text-anchor=\"middle\" x=\"653\" y=\"-96.8\" font-family=\"Times New Roman,serif\" font-size=\"14.00\">value = [242, 65]</text>\r\n",
       "</g>\r\n",
       "<!-- 20&#45;&gt;22 -->\r\n",
       "<g id=\"edge22\" class=\"edge\"><title>20&#45;&gt;22</title>\r\n",
       "<path fill=\"none\" stroke=\"black\" d=\"M609.779,-192.884C615.2,-184.243 621.113,-174.819 626.777,-165.793\"/>\r\n",
       "<polygon fill=\"black\" stroke=\"black\" points=\"629.756,-167.63 632.106,-157.299 623.827,-163.91 629.756,-167.63\"/>\r\n",
       "</g>\r\n",
       "<!-- 23 -->\r\n",
       "<g id=\"node24\" class=\"node\"><title>23</title>\r\n",
       "<polygon fill=\"none\" stroke=\"black\" points=\"593.5,-53 482.5,-53 482.5,-0 593.5,-0 593.5,-53\"/>\r\n",
       "<text text-anchor=\"middle\" x=\"538\" y=\"-37.8\" font-family=\"Times New Roman,serif\" font-size=\"14.00\">entropy = 0.766</text>\r\n",
       "<text text-anchor=\"middle\" x=\"538\" y=\"-22.8\" font-family=\"Times New Roman,serif\" font-size=\"14.00\">samples = 282</text>\r\n",
       "<text text-anchor=\"middle\" x=\"538\" y=\"-7.8\" font-family=\"Times New Roman,serif\" font-size=\"14.00\">value = [219, 63]</text>\r\n",
       "</g>\r\n",
       "<!-- 22&#45;&gt;23 -->\r\n",
       "<g id=\"edge23\" class=\"edge\"><title>22&#45;&gt;23</title>\r\n",
       "<path fill=\"none\" stroke=\"black\" d=\"M612.779,-88.9485C601.201,-79.4346 588.593,-69.074 577.085,-59.6175\"/>\r\n",
       "<polygon fill=\"black\" stroke=\"black\" points=\"579.268,-56.8814 569.32,-53.2367 574.824,-62.2897 579.268,-56.8814\"/>\r\n",
       "</g>\r\n",
       "<!-- 24 -->\r\n",
       "<g id=\"node25\" class=\"node\"><title>24</title>\r\n",
       "<polygon fill=\"none\" stroke=\"black\" points=\"718,-53 612,-53 612,-0 718,-0 718,-53\"/>\r\n",
       "<text text-anchor=\"middle\" x=\"665\" y=\"-37.8\" font-family=\"Times New Roman,serif\" font-size=\"14.00\">entropy = 0.402</text>\r\n",
       "<text text-anchor=\"middle\" x=\"665\" y=\"-22.8\" font-family=\"Times New Roman,serif\" font-size=\"14.00\">samples = 25</text>\r\n",
       "<text text-anchor=\"middle\" x=\"665\" y=\"-7.8\" font-family=\"Times New Roman,serif\" font-size=\"14.00\">value = [23, 2]</text>\r\n",
       "</g>\r\n",
       "<!-- 22&#45;&gt;24 -->\r\n",
       "<g id=\"edge24\" class=\"edge\"><title>22&#45;&gt;24</title>\r\n",
       "<path fill=\"none\" stroke=\"black\" d=\"M657.197,-88.9485C658.254,-80.6238 659.394,-71.6509 660.466,-63.2027\"/>\r\n",
       "<polygon fill=\"black\" stroke=\"black\" points=\"663.944,-63.598 661.732,-53.2367 657,-62.7161 663.944,-63.598\"/>\r\n",
       "</g>\r\n",
       "<!-- 27 -->\r\n",
       "<g id=\"node28\" class=\"node\"><title>27</title>\r\n",
       "<polygon fill=\"none\" stroke=\"black\" points=\"975,-365 863,-365 863,-297 975,-297 975,-365\"/>\r\n",
       "<text text-anchor=\"middle\" x=\"919\" y=\"-349.8\" font-family=\"Times New Roman,serif\" font-size=\"14.00\">education &lt;= 9.5</text>\r\n",
       "<text text-anchor=\"middle\" x=\"919\" y=\"-334.8\" font-family=\"Times New Roman,serif\" font-size=\"14.00\">entropy = 0.552</text>\r\n",
       "<text text-anchor=\"middle\" x=\"919\" y=\"-319.8\" font-family=\"Times New Roman,serif\" font-size=\"14.00\">samples = 172</text>\r\n",
       "<text text-anchor=\"middle\" x=\"919\" y=\"-304.8\" font-family=\"Times New Roman,serif\" font-size=\"14.00\">value = [150, 22]</text>\r\n",
       "</g>\r\n",
       "<!-- 26&#45;&gt;27 -->\r\n",
       "<g id=\"edge27\" class=\"edge\"><title>26&#45;&gt;27</title>\r\n",
       "<path fill=\"none\" stroke=\"black\" d=\"M919,-400.884C919,-392.778 919,-383.982 919,-375.472\"/>\r\n",
       "<polygon fill=\"black\" stroke=\"black\" points=\"922.5,-375.299 919,-365.299 915.5,-375.299 922.5,-375.299\"/>\r\n",
       "</g>\r\n",
       "<!-- 30 -->\r\n",
       "<g id=\"node31\" class=\"node\"><title>30</title>\r\n",
       "<polygon fill=\"none\" stroke=\"black\" points=\"1158,-365 1040,-365 1040,-297 1158,-297 1158,-365\"/>\r\n",
       "<text text-anchor=\"middle\" x=\"1099\" y=\"-349.8\" font-family=\"Times New Roman,serif\" font-size=\"14.00\">age &lt;= 63.5</text>\r\n",
       "<text text-anchor=\"middle\" x=\"1099\" y=\"-334.8\" font-family=\"Times New Roman,serif\" font-size=\"14.00\">entropy = 0.984</text>\r\n",
       "<text text-anchor=\"middle\" x=\"1099\" y=\"-319.8\" font-family=\"Times New Roman,serif\" font-size=\"14.00\">samples = 1521</text>\r\n",
       "<text text-anchor=\"middle\" x=\"1099\" y=\"-304.8\" font-family=\"Times New Roman,serif\" font-size=\"14.00\">value = [874, 647]</text>\r\n",
       "</g>\r\n",
       "<!-- 26&#45;&gt;30 -->\r\n",
       "<g id=\"edge30\" class=\"edge\"><title>26&#45;&gt;30</title>\r\n",
       "<path fill=\"none\" stroke=\"black\" d=\"M977.441,-400.884C994.662,-391.125 1013.65,-380.366 1031.39,-370.31\"/>\r\n",
       "<polygon fill=\"black\" stroke=\"black\" points=\"1033.57,-373.1 1040.54,-365.125 1030.12,-367.01 1033.57,-373.1\"/>\r\n",
       "</g>\r\n",
       "<!-- 28 -->\r\n",
       "<g id=\"node29\" class=\"node\"><title>28</title>\r\n",
       "<polygon fill=\"none\" stroke=\"black\" points=\"898,-253.5 792,-253.5 792,-200.5 898,-200.5 898,-253.5\"/>\r\n",
       "<text text-anchor=\"middle\" x=\"845\" y=\"-238.3\" font-family=\"Times New Roman,serif\" font-size=\"14.00\">entropy = 0.346</text>\r\n",
       "<text text-anchor=\"middle\" x=\"845\" y=\"-223.3\" font-family=\"Times New Roman,serif\" font-size=\"14.00\">samples = 108</text>\r\n",
       "<text text-anchor=\"middle\" x=\"845\" y=\"-208.3\" font-family=\"Times New Roman,serif\" font-size=\"14.00\">value = [101, 7]</text>\r\n",
       "</g>\r\n",
       "<!-- 27&#45;&gt;28 -->\r\n",
       "<g id=\"edge28\" class=\"edge\"><title>27&#45;&gt;28</title>\r\n",
       "<path fill=\"none\" stroke=\"black\" d=\"M894.974,-296.884C886.836,-285.666 877.739,-273.126 869.559,-261.852\"/>\r\n",
       "<polygon fill=\"black\" stroke=\"black\" points=\"872.22,-259.559 863.514,-253.52 866.554,-263.669 872.22,-259.559\"/>\r\n",
       "</g>\r\n",
       "<!-- 29 -->\r\n",
       "<g id=\"node30\" class=\"node\"><title>29</title>\r\n",
       "<polygon fill=\"none\" stroke=\"black\" points=\"1022,-253.5 916,-253.5 916,-200.5 1022,-200.5 1022,-253.5\"/>\r\n",
       "<text text-anchor=\"middle\" x=\"969\" y=\"-238.3\" font-family=\"Times New Roman,serif\" font-size=\"14.00\">entropy = 0.786</text>\r\n",
       "<text text-anchor=\"middle\" x=\"969\" y=\"-223.3\" font-family=\"Times New Roman,serif\" font-size=\"14.00\">samples = 64</text>\r\n",
       "<text text-anchor=\"middle\" x=\"969\" y=\"-208.3\" font-family=\"Times New Roman,serif\" font-size=\"14.00\">value = [49, 15]</text>\r\n",
       "</g>\r\n",
       "<!-- 27&#45;&gt;29 -->\r\n",
       "<g id=\"edge29\" class=\"edge\"><title>27&#45;&gt;29</title>\r\n",
       "<path fill=\"none\" stroke=\"black\" d=\"M935.234,-296.884C940.625,-285.886 946.639,-273.617 952.08,-262.517\"/>\r\n",
       "<polygon fill=\"black\" stroke=\"black\" points=\"955.231,-264.04 956.49,-253.52 948.946,-260.959 955.231,-264.04\"/>\r\n",
       "</g>\r\n",
       "<!-- 31 -->\r\n",
       "<g id=\"node32\" class=\"node\"><title>31</title>\r\n",
       "<polygon fill=\"none\" stroke=\"black\" points=\"1158,-261 1040,-261 1040,-193 1158,-193 1158,-261\"/>\r\n",
       "<text text-anchor=\"middle\" x=\"1099\" y=\"-245.8\" font-family=\"Times New Roman,serif\" font-size=\"14.00\">age &lt;= 42.5</text>\r\n",
       "<text text-anchor=\"middle\" x=\"1099\" y=\"-230.8\" font-family=\"Times New Roman,serif\" font-size=\"14.00\">entropy = 0.988</text>\r\n",
       "<text text-anchor=\"middle\" x=\"1099\" y=\"-215.8\" font-family=\"Times New Roman,serif\" font-size=\"14.00\">samples = 1459</text>\r\n",
       "<text text-anchor=\"middle\" x=\"1099\" y=\"-200.8\" font-family=\"Times New Roman,serif\" font-size=\"14.00\">value = [824, 635]</text>\r\n",
       "</g>\r\n",
       "<!-- 30&#45;&gt;31 -->\r\n",
       "<g id=\"edge31\" class=\"edge\"><title>30&#45;&gt;31</title>\r\n",
       "<path fill=\"none\" stroke=\"black\" d=\"M1099,-296.884C1099,-288.778 1099,-279.982 1099,-271.472\"/>\r\n",
       "<polygon fill=\"black\" stroke=\"black\" points=\"1102.5,-271.299 1099,-261.299 1095.5,-271.299 1102.5,-271.299\"/>\r\n",
       "</g>\r\n",
       "<!-- 38 -->\r\n",
       "<g id=\"node39\" class=\"node\"><title>38</title>\r\n",
       "<polygon fill=\"none\" stroke=\"black\" points=\"1282,-253.5 1176,-253.5 1176,-200.5 1282,-200.5 1282,-253.5\"/>\r\n",
       "<text text-anchor=\"middle\" x=\"1229\" y=\"-238.3\" font-family=\"Times New Roman,serif\" font-size=\"14.00\">entropy = 0.709</text>\r\n",
       "<text text-anchor=\"middle\" x=\"1229\" y=\"-223.3\" font-family=\"Times New Roman,serif\" font-size=\"14.00\">samples = 62</text>\r\n",
       "<text text-anchor=\"middle\" x=\"1229\" y=\"-208.3\" font-family=\"Times New Roman,serif\" font-size=\"14.00\">value = [50, 12]</text>\r\n",
       "</g>\r\n",
       "<!-- 30&#45;&gt;38 -->\r\n",
       "<g id=\"edge38\" class=\"edge\"><title>30&#45;&gt;38</title>\r\n",
       "<path fill=\"none\" stroke=\"black\" d=\"M1141.21,-296.884C1156.35,-285.006 1173.37,-271.646 1188.37,-259.876\"/>\r\n",
       "<polygon fill=\"black\" stroke=\"black\" points=\"1190.77,-262.446 1196.47,-253.52 1186.45,-256.939 1190.77,-262.446\"/>\r\n",
       "</g>\r\n",
       "<!-- 32 -->\r\n",
       "<g id=\"node33\" class=\"node\"><title>32</title>\r\n",
       "<polygon fill=\"none\" stroke=\"black\" points=\"1015,-157 897,-157 897,-89 1015,-89 1015,-157\"/>\r\n",
       "<text text-anchor=\"middle\" x=\"956\" y=\"-141.8\" font-family=\"Times New Roman,serif\" font-size=\"14.00\">education &lt;= 9.5</text>\r\n",
       "<text text-anchor=\"middle\" x=\"956\" y=\"-126.8\" font-family=\"Times New Roman,serif\" font-size=\"14.00\">entropy = 0.955</text>\r\n",
       "<text text-anchor=\"middle\" x=\"956\" y=\"-111.8\" font-family=\"Times New Roman,serif\" font-size=\"14.00\">samples = 652</text>\r\n",
       "<text text-anchor=\"middle\" x=\"956\" y=\"-96.8\" font-family=\"Times New Roman,serif\" font-size=\"14.00\">value = [407, 245]</text>\r\n",
       "</g>\r\n",
       "<!-- 31&#45;&gt;32 -->\r\n",
       "<g id=\"edge32\" class=\"edge\"><title>31&#45;&gt;32</title>\r\n",
       "<path fill=\"none\" stroke=\"black\" d=\"M1052.57,-192.884C1039.33,-183.442 1024.79,-173.064 1011.09,-163.292\"/>\r\n",
       "<polygon fill=\"black\" stroke=\"black\" points=\"1012.86,-160.257 1002.68,-157.299 1008.79,-165.956 1012.86,-160.257\"/>\r\n",
       "</g>\r\n",
       "<!-- 35 -->\r\n",
       "<g id=\"node36\" class=\"node\"><title>35</title>\r\n",
       "<polygon fill=\"none\" stroke=\"black\" points=\"1158,-157 1040,-157 1040,-89 1158,-89 1158,-157\"/>\r\n",
       "<text text-anchor=\"middle\" x=\"1099\" y=\"-141.8\" font-family=\"Times New Roman,serif\" font-size=\"14.00\">education &lt;= 9.5</text>\r\n",
       "<text text-anchor=\"middle\" x=\"1099\" y=\"-126.8\" font-family=\"Times New Roman,serif\" font-size=\"14.00\">entropy = 0.999</text>\r\n",
       "<text text-anchor=\"middle\" x=\"1099\" y=\"-111.8\" font-family=\"Times New Roman,serif\" font-size=\"14.00\">samples = 807</text>\r\n",
       "<text text-anchor=\"middle\" x=\"1099\" y=\"-96.8\" font-family=\"Times New Roman,serif\" font-size=\"14.00\">value = [417, 390]</text>\r\n",
       "</g>\r\n",
       "<!-- 31&#45;&gt;35 -->\r\n",
       "<g id=\"edge35\" class=\"edge\"><title>31&#45;&gt;35</title>\r\n",
       "<path fill=\"none\" stroke=\"black\" d=\"M1099,-192.884C1099,-184.778 1099,-175.982 1099,-167.472\"/>\r\n",
       "<polygon fill=\"black\" stroke=\"black\" points=\"1102.5,-167.299 1099,-157.299 1095.5,-167.299 1102.5,-167.299\"/>\r\n",
       "</g>\r\n",
       "<!-- 33 -->\r\n",
       "<g id=\"node34\" class=\"node\"><title>33</title>\r\n",
       "<polygon fill=\"none\" stroke=\"black\" points=\"879,-53 761,-53 761,-0 879,-0 879,-53\"/>\r\n",
       "<text text-anchor=\"middle\" x=\"820\" y=\"-37.8\" font-family=\"Times New Roman,serif\" font-size=\"14.00\">entropy = 0.924</text>\r\n",
       "<text text-anchor=\"middle\" x=\"820\" y=\"-22.8\" font-family=\"Times New Roman,serif\" font-size=\"14.00\">samples = 383</text>\r\n",
       "<text text-anchor=\"middle\" x=\"820\" y=\"-7.8\" font-family=\"Times New Roman,serif\" font-size=\"14.00\">value = [253, 130]</text>\r\n",
       "</g>\r\n",
       "<!-- 32&#45;&gt;33 -->\r\n",
       "<g id=\"edge33\" class=\"edge\"><title>32&#45;&gt;33</title>\r\n",
       "<path fill=\"none\" stroke=\"black\" d=\"M908.434,-88.9485C894.478,-79.2516 879.257,-68.6752 865.438,-59.073\"/>\r\n",
       "<polygon fill=\"black\" stroke=\"black\" points=\"867.248,-56.0687 857.039,-53.2367 863.254,-61.8172 867.248,-56.0687\"/>\r\n",
       "</g>\r\n",
       "<!-- 34 -->\r\n",
       "<g id=\"node35\" class=\"node\"><title>34</title>\r\n",
       "<polygon fill=\"none\" stroke=\"black\" points=\"1015,-53 897,-53 897,-0 1015,-0 1015,-53\"/>\r\n",
       "<text text-anchor=\"middle\" x=\"956\" y=\"-37.8\" font-family=\"Times New Roman,serif\" font-size=\"14.00\">entropy = 0.985</text>\r\n",
       "<text text-anchor=\"middle\" x=\"956\" y=\"-22.8\" font-family=\"Times New Roman,serif\" font-size=\"14.00\">samples = 269</text>\r\n",
       "<text text-anchor=\"middle\" x=\"956\" y=\"-7.8\" font-family=\"Times New Roman,serif\" font-size=\"14.00\">value = [154, 115]</text>\r\n",
       "</g>\r\n",
       "<!-- 32&#45;&gt;34 -->\r\n",
       "<g id=\"edge34\" class=\"edge\"><title>32&#45;&gt;34</title>\r\n",
       "<path fill=\"none\" stroke=\"black\" d=\"M956,-88.9485C956,-80.7153 956,-71.848 956,-63.4814\"/>\r\n",
       "<polygon fill=\"black\" stroke=\"black\" points=\"959.5,-63.2367 956,-53.2367 952.5,-63.2367 959.5,-63.2367\"/>\r\n",
       "</g>\r\n",
       "<!-- 36 -->\r\n",
       "<g id=\"node37\" class=\"node\"><title>36</title>\r\n",
       "<polygon fill=\"none\" stroke=\"black\" points=\"1151,-53 1033,-53 1033,-0 1151,-0 1151,-53\"/>\r\n",
       "<text text-anchor=\"middle\" x=\"1092\" y=\"-37.8\" font-family=\"Times New Roman,serif\" font-size=\"14.00\">entropy = 0.989</text>\r\n",
       "<text text-anchor=\"middle\" x=\"1092\" y=\"-22.8\" font-family=\"Times New Roman,serif\" font-size=\"14.00\">samples = 485</text>\r\n",
       "<text text-anchor=\"middle\" x=\"1092\" y=\"-7.8\" font-family=\"Times New Roman,serif\" font-size=\"14.00\">value = [272, 213]</text>\r\n",
       "</g>\r\n",
       "<!-- 35&#45;&gt;36 -->\r\n",
       "<g id=\"edge36\" class=\"edge\"><title>35&#45;&gt;36</title>\r\n",
       "<path fill=\"none\" stroke=\"black\" d=\"M1096.55,-88.9485C1095.94,-80.7153 1095.29,-71.848 1094.67,-63.4814\"/>\r\n",
       "<polygon fill=\"black\" stroke=\"black\" points=\"1098.14,-62.9508 1093.91,-53.2367 1091.15,-63.468 1098.14,-62.9508\"/>\r\n",
       "</g>\r\n",
       "<!-- 37 -->\r\n",
       "<g id=\"node38\" class=\"node\"><title>37</title>\r\n",
       "<polygon fill=\"none\" stroke=\"black\" points=\"1287,-53 1169,-53 1169,-0 1287,-0 1287,-53\"/>\r\n",
       "<text text-anchor=\"middle\" x=\"1228\" y=\"-37.8\" font-family=\"Times New Roman,serif\" font-size=\"14.00\">entropy = 0.993</text>\r\n",
       "<text text-anchor=\"middle\" x=\"1228\" y=\"-22.8\" font-family=\"Times New Roman,serif\" font-size=\"14.00\">samples = 322</text>\r\n",
       "<text text-anchor=\"middle\" x=\"1228\" y=\"-7.8\" font-family=\"Times New Roman,serif\" font-size=\"14.00\">value = [145, 177]</text>\r\n",
       "</g>\r\n",
       "<!-- 35&#45;&gt;37 -->\r\n",
       "<g id=\"edge37\" class=\"edge\"><title>35&#45;&gt;37</title>\r\n",
       "<path fill=\"none\" stroke=\"black\" d=\"M1144.12,-88.9485C1157.23,-79.3431 1171.52,-68.8747 1184.53,-59.345\"/>\r\n",
       "<polygon fill=\"black\" stroke=\"black\" points=\"1186.87,-61.9698 1192.87,-53.2367 1182.73,-56.3228 1186.87,-61.9698\"/>\r\n",
       "</g>\r\n",
       "<!-- 40 -->\r\n",
       "<g id=\"node41\" class=\"node\"><title>40</title>\r\n",
       "<polygon fill=\"none\" stroke=\"black\" points=\"1455,-573 1303,-573 1303,-505 1455,-505 1455,-573\"/>\r\n",
       "<text text-anchor=\"middle\" x=\"1379\" y=\"-557.8\" font-family=\"Times New Roman,serif\" font-size=\"14.00\">hours&#45;per&#45;week &lt;= 41.5</text>\r\n",
       "<text text-anchor=\"middle\" x=\"1379\" y=\"-542.8\" font-family=\"Times New Roman,serif\" font-size=\"14.00\">entropy = 0.971</text>\r\n",
       "<text text-anchor=\"middle\" x=\"1379\" y=\"-527.8\" font-family=\"Times New Roman,serif\" font-size=\"14.00\">samples = 140</text>\r\n",
       "<text text-anchor=\"middle\" x=\"1379\" y=\"-512.8\" font-family=\"Times New Roman,serif\" font-size=\"14.00\">value = [84, 56]</text>\r\n",
       "</g>\r\n",
       "<!-- 39&#45;&gt;40 -->\r\n",
       "<g id=\"edge40\" class=\"edge\"><title>39&#45;&gt;40</title>\r\n",
       "<path fill=\"none\" stroke=\"black\" d=\"M1436.4,-608.884C1429.05,-600.065 1421.03,-590.43 1413.36,-581.235\"/>\r\n",
       "<polygon fill=\"black\" stroke=\"black\" points=\"1415.84,-578.741 1406.75,-573.299 1410.46,-583.222 1415.84,-578.741\"/>\r\n",
       "</g>\r\n",
       "<!-- 43 -->\r\n",
       "<g id=\"node44\" class=\"node\"><title>43</title>\r\n",
       "<polygon fill=\"none\" stroke=\"black\" points=\"1625,-573 1473,-573 1473,-505 1625,-505 1625,-573\"/>\r\n",
       "<text text-anchor=\"middle\" x=\"1549\" y=\"-557.8\" font-family=\"Times New Roman,serif\" font-size=\"14.00\">hours&#45;per&#45;week &lt;= 31.0</text>\r\n",
       "<text text-anchor=\"middle\" x=\"1549\" y=\"-542.8\" font-family=\"Times New Roman,serif\" font-size=\"14.00\">entropy = 0.864</text>\r\n",
       "<text text-anchor=\"middle\" x=\"1549\" y=\"-527.8\" font-family=\"Times New Roman,serif\" font-size=\"14.00\">samples = 1076</text>\r\n",
       "<text text-anchor=\"middle\" x=\"1549\" y=\"-512.8\" font-family=\"Times New Roman,serif\" font-size=\"14.00\">value = [308, 768]</text>\r\n",
       "</g>\r\n",
       "<!-- 39&#45;&gt;43 -->\r\n",
       "<g id=\"edge43\" class=\"edge\"><title>39&#45;&gt;43</title>\r\n",
       "<path fill=\"none\" stroke=\"black\" d=\"M1491.6,-608.884C1498.95,-600.065 1506.97,-590.43 1514.64,-581.235\"/>\r\n",
       "<polygon fill=\"black\" stroke=\"black\" points=\"1517.54,-583.222 1521.25,-573.299 1512.16,-578.741 1517.54,-583.222\"/>\r\n",
       "</g>\r\n",
       "<!-- 41 -->\r\n",
       "<g id=\"node42\" class=\"node\"><title>41</title>\r\n",
       "<polygon fill=\"none\" stroke=\"black\" points=\"1319,-461.5 1213,-461.5 1213,-408.5 1319,-408.5 1319,-461.5\"/>\r\n",
       "<text text-anchor=\"middle\" x=\"1266\" y=\"-446.3\" font-family=\"Times New Roman,serif\" font-size=\"14.00\">entropy = 0.877</text>\r\n",
       "<text text-anchor=\"middle\" x=\"1266\" y=\"-431.3\" font-family=\"Times New Roman,serif\" font-size=\"14.00\">samples = 81</text>\r\n",
       "<text text-anchor=\"middle\" x=\"1266\" y=\"-416.3\" font-family=\"Times New Roman,serif\" font-size=\"14.00\">value = [57, 24]</text>\r\n",
       "</g>\r\n",
       "<!-- 40&#45;&gt;41 -->\r\n",
       "<g id=\"edge41\" class=\"edge\"><title>40&#45;&gt;41</title>\r\n",
       "<path fill=\"none\" stroke=\"black\" d=\"M1342.31,-504.884C1329.4,-493.226 1314.9,-480.141 1302.04,-468.532\"/>\r\n",
       "<polygon fill=\"black\" stroke=\"black\" points=\"1304.04,-465.622 1294.27,-461.52 1299.35,-470.819 1304.04,-465.622\"/>\r\n",
       "</g>\r\n",
       "<!-- 42 -->\r\n",
       "<g id=\"node43\" class=\"node\"><title>42</title>\r\n",
       "<polygon fill=\"none\" stroke=\"black\" points=\"1443,-461.5 1337,-461.5 1337,-408.5 1443,-408.5 1443,-461.5\"/>\r\n",
       "<text text-anchor=\"middle\" x=\"1390\" y=\"-446.3\" font-family=\"Times New Roman,serif\" font-size=\"14.00\">entropy = 0.995</text>\r\n",
       "<text text-anchor=\"middle\" x=\"1390\" y=\"-431.3\" font-family=\"Times New Roman,serif\" font-size=\"14.00\">samples = 59</text>\r\n",
       "<text text-anchor=\"middle\" x=\"1390\" y=\"-416.3\" font-family=\"Times New Roman,serif\" font-size=\"14.00\">value = [27, 32]</text>\r\n",
       "</g>\r\n",
       "<!-- 40&#45;&gt;42 -->\r\n",
       "<g id=\"edge42\" class=\"edge\"><title>40&#45;&gt;42</title>\r\n",
       "<path fill=\"none\" stroke=\"black\" d=\"M1382.57,-504.884C1383.72,-494.216 1385,-482.352 1386.17,-471.519\"/>\r\n",
       "<polygon fill=\"black\" stroke=\"black\" points=\"1389.66,-471.838 1387.25,-461.52 1382.7,-471.087 1389.66,-471.838\"/>\r\n",
       "</g>\r\n",
       "<!-- 44 -->\r\n",
       "<g id=\"node45\" class=\"node\"><title>44</title>\r\n",
       "<polygon fill=\"none\" stroke=\"black\" points=\"1590,-461.5 1484,-461.5 1484,-408.5 1590,-408.5 1590,-461.5\"/>\r\n",
       "<text text-anchor=\"middle\" x=\"1537\" y=\"-446.3\" font-family=\"Times New Roman,serif\" font-size=\"14.00\">entropy = 0.934</text>\r\n",
       "<text text-anchor=\"middle\" x=\"1537\" y=\"-431.3\" font-family=\"Times New Roman,serif\" font-size=\"14.00\">samples = 80</text>\r\n",
       "<text text-anchor=\"middle\" x=\"1537\" y=\"-416.3\" font-family=\"Times New Roman,serif\" font-size=\"14.00\">value = [52, 28]</text>\r\n",
       "</g>\r\n",
       "<!-- 43&#45;&gt;44 -->\r\n",
       "<g id=\"edge44\" class=\"edge\"><title>43&#45;&gt;44</title>\r\n",
       "<path fill=\"none\" stroke=\"black\" d=\"M1545.1,-504.884C1543.85,-494.216 1542.45,-482.352 1541.18,-471.519\"/>\r\n",
       "<polygon fill=\"black\" stroke=\"black\" points=\"1544.65,-471.042 1540,-461.52 1537.69,-471.86 1544.65,-471.042\"/>\r\n",
       "</g>\r\n",
       "<!-- 45 -->\r\n",
       "<g id=\"node46\" class=\"node\"><title>45</title>\r\n",
       "<polygon fill=\"none\" stroke=\"black\" points=\"1760,-469 1608,-469 1608,-401 1760,-401 1760,-469\"/>\r\n",
       "<text text-anchor=\"middle\" x=\"1684\" y=\"-453.8\" font-family=\"Times New Roman,serif\" font-size=\"14.00\">hours&#45;per&#45;week &lt;= 40.5</text>\r\n",
       "<text text-anchor=\"middle\" x=\"1684\" y=\"-438.8\" font-family=\"Times New Roman,serif\" font-size=\"14.00\">entropy = 0.822</text>\r\n",
       "<text text-anchor=\"middle\" x=\"1684\" y=\"-423.8\" font-family=\"Times New Roman,serif\" font-size=\"14.00\">samples = 996</text>\r\n",
       "<text text-anchor=\"middle\" x=\"1684\" y=\"-408.8\" font-family=\"Times New Roman,serif\" font-size=\"14.00\">value = [256, 740]</text>\r\n",
       "</g>\r\n",
       "<!-- 43&#45;&gt;45 -->\r\n",
       "<g id=\"edge45\" class=\"edge\"><title>43&#45;&gt;45</title>\r\n",
       "<path fill=\"none\" stroke=\"black\" d=\"M1592.83,-504.884C1605.21,-495.531 1618.8,-485.259 1631.63,-475.568\"/>\r\n",
       "<polygon fill=\"black\" stroke=\"black\" points=\"1634.06,-478.12 1639.93,-469.299 1629.84,-472.535 1634.06,-478.12\"/>\r\n",
       "</g>\r\n",
       "<!-- 46 -->\r\n",
       "<g id=\"node47\" class=\"node\"><title>46</title>\r\n",
       "<polygon fill=\"none\" stroke=\"black\" points=\"1674,-365 1556,-365 1556,-297 1674,-297 1674,-365\"/>\r\n",
       "<text text-anchor=\"middle\" x=\"1615\" y=\"-349.8\" font-family=\"Times New Roman,serif\" font-size=\"14.00\">age &lt;= 36.5</text>\r\n",
       "<text text-anchor=\"middle\" x=\"1615\" y=\"-334.8\" font-family=\"Times New Roman,serif\" font-size=\"14.00\">entropy = 0.91</text>\r\n",
       "<text text-anchor=\"middle\" x=\"1615\" y=\"-319.8\" font-family=\"Times New Roman,serif\" font-size=\"14.00\">samples = 468</text>\r\n",
       "<text text-anchor=\"middle\" x=\"1615\" y=\"-304.8\" font-family=\"Times New Roman,serif\" font-size=\"14.00\">value = [152, 316]</text>\r\n",
       "</g>\r\n",
       "<!-- 45&#45;&gt;46 -->\r\n",
       "<g id=\"edge46\" class=\"edge\"><title>45&#45;&gt;46</title>\r\n",
       "<path fill=\"none\" stroke=\"black\" d=\"M1661.6,-400.884C1655.75,-392.243 1649.38,-382.819 1643.27,-373.793\"/>\r\n",
       "<polygon fill=\"black\" stroke=\"black\" points=\"1646.03,-371.621 1637.53,-365.299 1640.23,-375.543 1646.03,-371.621\"/>\r\n",
       "</g>\r\n",
       "<!-- 55 -->\r\n",
       "<g id=\"node56\" class=\"node\"><title>55</title>\r\n",
       "<polygon fill=\"none\" stroke=\"black\" points=\"1811.5,-365 1692.5,-365 1692.5,-297 1811.5,-297 1811.5,-365\"/>\r\n",
       "<text text-anchor=\"middle\" x=\"1752\" y=\"-349.8\" font-family=\"Times New Roman,serif\" font-size=\"14.00\">education &lt;= 14.5</text>\r\n",
       "<text text-anchor=\"middle\" x=\"1752\" y=\"-334.8\" font-family=\"Times New Roman,serif\" font-size=\"14.00\">entropy = 0.716</text>\r\n",
       "<text text-anchor=\"middle\" x=\"1752\" y=\"-319.8\" font-family=\"Times New Roman,serif\" font-size=\"14.00\">samples = 528</text>\r\n",
       "<text text-anchor=\"middle\" x=\"1752\" y=\"-304.8\" font-family=\"Times New Roman,serif\" font-size=\"14.00\">value = [104, 424]</text>\r\n",
       "</g>\r\n",
       "<!-- 45&#45;&gt;55 -->\r\n",
       "<g id=\"edge55\" class=\"edge\"><title>45&#45;&gt;55</title>\r\n",
       "<path fill=\"none\" stroke=\"black\" d=\"M1706.08,-400.884C1711.84,-392.243 1718.12,-382.819 1724.14,-373.793\"/>\r\n",
       "<polygon fill=\"black\" stroke=\"black\" points=\"1727.17,-375.561 1729.8,-365.299 1721.34,-371.678 1727.17,-375.561\"/>\r\n",
       "</g>\r\n",
       "<!-- 47 -->\r\n",
       "<g id=\"node48\" class=\"node\"><title>47</title>\r\n",
       "<polygon fill=\"none\" stroke=\"black\" points=\"1539,-253.5 1433,-253.5 1433,-200.5 1539,-200.5 1539,-253.5\"/>\r\n",
       "<text text-anchor=\"middle\" x=\"1486\" y=\"-238.3\" font-family=\"Times New Roman,serif\" font-size=\"14.00\">entropy = 0.993</text>\r\n",
       "<text text-anchor=\"middle\" x=\"1486\" y=\"-223.3\" font-family=\"Times New Roman,serif\" font-size=\"14.00\">samples = 100</text>\r\n",
       "<text text-anchor=\"middle\" x=\"1486\" y=\"-208.3\" font-family=\"Times New Roman,serif\" font-size=\"14.00\">value = [45, 55]</text>\r\n",
       "</g>\r\n",
       "<!-- 46&#45;&gt;47 -->\r\n",
       "<g id=\"edge47\" class=\"edge\"><title>46&#45;&gt;47</title>\r\n",
       "<path fill=\"none\" stroke=\"black\" d=\"M1573.12,-296.884C1558.1,-285.006 1541.2,-271.646 1526.31,-259.876\"/>\r\n",
       "<polygon fill=\"black\" stroke=\"black\" points=\"1528.29,-256.977 1518.28,-253.52 1523.95,-262.468 1528.29,-256.977\"/>\r\n",
       "</g>\r\n",
       "<!-- 48 -->\r\n",
       "<g id=\"node49\" class=\"node\"><title>48</title>\r\n",
       "<polygon fill=\"none\" stroke=\"black\" points=\"1676.5,-261 1557.5,-261 1557.5,-193 1676.5,-193 1676.5,-261\"/>\r\n",
       "<text text-anchor=\"middle\" x=\"1617\" y=\"-245.8\" font-family=\"Times New Roman,serif\" font-size=\"14.00\">education &lt;= 13.5</text>\r\n",
       "<text text-anchor=\"middle\" x=\"1617\" y=\"-230.8\" font-family=\"Times New Roman,serif\" font-size=\"14.00\">entropy = 0.87</text>\r\n",
       "<text text-anchor=\"middle\" x=\"1617\" y=\"-215.8\" font-family=\"Times New Roman,serif\" font-size=\"14.00\">samples = 368</text>\r\n",
       "<text text-anchor=\"middle\" x=\"1617\" y=\"-200.8\" font-family=\"Times New Roman,serif\" font-size=\"14.00\">value = [107, 261]</text>\r\n",
       "</g>\r\n",
       "<!-- 46&#45;&gt;48 -->\r\n",
       "<g id=\"edge48\" class=\"edge\"><title>46&#45;&gt;48</title>\r\n",
       "<path fill=\"none\" stroke=\"black\" d=\"M1615.65,-296.884C1615.81,-288.778 1615.98,-279.982 1616.15,-271.472\"/>\r\n",
       "<polygon fill=\"black\" stroke=\"black\" points=\"1619.65,-271.366 1616.35,-261.299 1612.65,-271.229 1619.65,-271.366\"/>\r\n",
       "</g>\r\n",
       "<!-- 49 -->\r\n",
       "<g id=\"node50\" class=\"node\"><title>49</title>\r\n",
       "<polygon fill=\"none\" stroke=\"black\" points=\"1544,-157 1424,-157 1424,-89 1544,-89 1544,-157\"/>\r\n",
       "<text text-anchor=\"middle\" x=\"1484\" y=\"-141.8\" font-family=\"Times New Roman,serif\" font-size=\"14.00\">race_Asian &lt;= 0.5</text>\r\n",
       "<text text-anchor=\"middle\" x=\"1484\" y=\"-126.8\" font-family=\"Times New Roman,serif\" font-size=\"14.00\">entropy = 0.924</text>\r\n",
       "<text text-anchor=\"middle\" x=\"1484\" y=\"-111.8\" font-family=\"Times New Roman,serif\" font-size=\"14.00\">samples = 242</text>\r\n",
       "<text text-anchor=\"middle\" x=\"1484\" y=\"-96.8\" font-family=\"Times New Roman,serif\" font-size=\"14.00\">value = [82, 160]</text>\r\n",
       "</g>\r\n",
       "<!-- 48&#45;&gt;49 -->\r\n",
       "<g id=\"edge49\" class=\"edge\"><title>48&#45;&gt;49</title>\r\n",
       "<path fill=\"none\" stroke=\"black\" d=\"M1573.82,-192.884C1561.62,-183.531 1548.23,-173.259 1535.59,-163.568\"/>\r\n",
       "<polygon fill=\"black\" stroke=\"black\" points=\"1537.48,-160.608 1527.42,-157.299 1533.22,-166.162 1537.48,-160.608\"/>\r\n",
       "</g>\r\n",
       "<!-- 52 -->\r\n",
       "<g id=\"node53\" class=\"node\"><title>52</title>\r\n",
       "<polygon fill=\"none\" stroke=\"black\" points=\"1673.5,-157 1562.5,-157 1562.5,-89 1673.5,-89 1673.5,-157\"/>\r\n",
       "<text text-anchor=\"middle\" x=\"1618\" y=\"-141.8\" font-family=\"Times New Roman,serif\" font-size=\"14.00\">age &lt;= 37.5</text>\r\n",
       "<text text-anchor=\"middle\" x=\"1618\" y=\"-126.8\" font-family=\"Times New Roman,serif\" font-size=\"14.00\">entropy = 0.719</text>\r\n",
       "<text text-anchor=\"middle\" x=\"1618\" y=\"-111.8\" font-family=\"Times New Roman,serif\" font-size=\"14.00\">samples = 126</text>\r\n",
       "<text text-anchor=\"middle\" x=\"1618\" y=\"-96.8\" font-family=\"Times New Roman,serif\" font-size=\"14.00\">value = [25, 101]</text>\r\n",
       "</g>\r\n",
       "<!-- 48&#45;&gt;52 -->\r\n",
       "<g id=\"edge52\" class=\"edge\"><title>48&#45;&gt;52</title>\r\n",
       "<path fill=\"none\" stroke=\"black\" d=\"M1617.32,-192.884C1617.4,-184.778 1617.49,-175.982 1617.57,-167.472\"/>\r\n",
       "<polygon fill=\"black\" stroke=\"black\" points=\"1621.08,-167.333 1617.67,-157.299 1614.08,-167.265 1621.08,-167.333\"/>\r\n",
       "</g>\r\n",
       "<!-- 50 -->\r\n",
       "<g id=\"node51\" class=\"node\"><title>50</title>\r\n",
       "<polygon fill=\"none\" stroke=\"black\" points=\"1416.5,-53 1305.5,-53 1305.5,-0 1416.5,-0 1416.5,-53\"/>\r\n",
       "<text text-anchor=\"middle\" x=\"1361\" y=\"-37.8\" font-family=\"Times New Roman,serif\" font-size=\"14.00\">entropy = 0.909</text>\r\n",
       "<text text-anchor=\"middle\" x=\"1361\" y=\"-22.8\" font-family=\"Times New Roman,serif\" font-size=\"14.00\">samples = 228</text>\r\n",
       "<text text-anchor=\"middle\" x=\"1361\" y=\"-7.8\" font-family=\"Times New Roman,serif\" font-size=\"14.00\">value = [74, 154]</text>\r\n",
       "</g>\r\n",
       "<!-- 49&#45;&gt;50 -->\r\n",
       "<g id=\"edge50\" class=\"edge\"><title>49&#45;&gt;50</title>\r\n",
       "<path fill=\"none\" stroke=\"black\" d=\"M1440.98,-88.9485C1428.48,-79.3431 1414.85,-68.8747 1402.45,-59.345\"/>\r\n",
       "<polygon fill=\"black\" stroke=\"black\" points=\"1404.56,-56.5537 1394.5,-53.2367 1400.3,-62.1046 1404.56,-56.5537\"/>\r\n",
       "</g>\r\n",
       "<!-- 51 -->\r\n",
       "<g id=\"node52\" class=\"node\"><title>51</title>\r\n",
       "<polygon fill=\"none\" stroke=\"black\" points=\"1541,-53 1435,-53 1435,-0 1541,-0 1541,-53\"/>\r\n",
       "<text text-anchor=\"middle\" x=\"1488\" y=\"-37.8\" font-family=\"Times New Roman,serif\" font-size=\"14.00\">entropy = 0.985</text>\r\n",
       "<text text-anchor=\"middle\" x=\"1488\" y=\"-22.8\" font-family=\"Times New Roman,serif\" font-size=\"14.00\">samples = 14</text>\r\n",
       "<text text-anchor=\"middle\" x=\"1488\" y=\"-7.8\" font-family=\"Times New Roman,serif\" font-size=\"14.00\">value = [8, 6]</text>\r\n",
       "</g>\r\n",
       "<!-- 49&#45;&gt;51 -->\r\n",
       "<g id=\"edge51\" class=\"edge\"><title>49&#45;&gt;51</title>\r\n",
       "<path fill=\"none\" stroke=\"black\" d=\"M1485.4,-88.9485C1485.75,-80.7153 1486.12,-71.848 1486.48,-63.4814\"/>\r\n",
       "<polygon fill=\"black\" stroke=\"black\" points=\"1489.98,-63.3758 1486.91,-53.2367 1482.99,-63.0797 1489.98,-63.3758\"/>\r\n",
       "</g>\r\n",
       "<!-- 53 -->\r\n",
       "<g id=\"node54\" class=\"node\"><title>53</title>\r\n",
       "<polygon fill=\"none\" stroke=\"black\" points=\"1665,-53 1559,-53 1559,-0 1665,-0 1665,-53\"/>\r\n",
       "<text text-anchor=\"middle\" x=\"1612\" y=\"-37.8\" font-family=\"Times New Roman,serif\" font-size=\"14.00\">entropy = 0.811</text>\r\n",
       "<text text-anchor=\"middle\" x=\"1612\" y=\"-22.8\" font-family=\"Times New Roman,serif\" font-size=\"14.00\">samples = 4</text>\r\n",
       "<text text-anchor=\"middle\" x=\"1612\" y=\"-7.8\" font-family=\"Times New Roman,serif\" font-size=\"14.00\">value = [3, 1]</text>\r\n",
       "</g>\r\n",
       "<!-- 52&#45;&gt;53 -->\r\n",
       "<g id=\"edge53\" class=\"edge\"><title>52&#45;&gt;53</title>\r\n",
       "<path fill=\"none\" stroke=\"black\" d=\"M1615.9,-88.9485C1615.38,-80.7153 1614.82,-71.848 1614.28,-63.4814\"/>\r\n",
       "<polygon fill=\"black\" stroke=\"black\" points=\"1617.76,-62.9948 1613.63,-53.2367 1610.77,-63.4384 1617.76,-62.9948\"/>\r\n",
       "</g>\r\n",
       "<!-- 54 -->\r\n",
       "<g id=\"node55\" class=\"node\"><title>54</title>\r\n",
       "<polygon fill=\"none\" stroke=\"black\" points=\"1794.5,-53 1683.5,-53 1683.5,-0 1794.5,-0 1794.5,-53\"/>\r\n",
       "<text text-anchor=\"middle\" x=\"1739\" y=\"-37.8\" font-family=\"Times New Roman,serif\" font-size=\"14.00\">entropy = 0.681</text>\r\n",
       "<text text-anchor=\"middle\" x=\"1739\" y=\"-22.8\" font-family=\"Times New Roman,serif\" font-size=\"14.00\">samples = 122</text>\r\n",
       "<text text-anchor=\"middle\" x=\"1739\" y=\"-7.8\" font-family=\"Times New Roman,serif\" font-size=\"14.00\">value = [22, 100]</text>\r\n",
       "</g>\r\n",
       "<!-- 52&#45;&gt;54 -->\r\n",
       "<g id=\"edge54\" class=\"edge\"><title>52&#45;&gt;54</title>\r\n",
       "<path fill=\"none\" stroke=\"black\" d=\"M1660.32,-88.9485C1672.5,-79.4346 1685.77,-69.074 1697.88,-59.6175\"/>\r\n",
       "<polygon fill=\"black\" stroke=\"black\" points=\"1700.32,-62.1504 1706.05,-53.2367 1696.01,-56.6335 1700.32,-62.1504\"/>\r\n",
       "</g>\r\n",
       "<!-- 56 -->\r\n",
       "<g id=\"node57\" class=\"node\"><title>56</title>\r\n",
       "<polygon fill=\"none\" stroke=\"black\" points=\"1806.5,-261 1695.5,-261 1695.5,-193 1806.5,-193 1806.5,-261\"/>\r\n",
       "<text text-anchor=\"middle\" x=\"1751\" y=\"-245.8\" font-family=\"Times New Roman,serif\" font-size=\"14.00\">age &lt;= 33.5</text>\r\n",
       "<text text-anchor=\"middle\" x=\"1751\" y=\"-230.8\" font-family=\"Times New Roman,serif\" font-size=\"14.00\">entropy = 0.773</text>\r\n",
       "<text text-anchor=\"middle\" x=\"1751\" y=\"-215.8\" font-family=\"Times New Roman,serif\" font-size=\"14.00\">samples = 423</text>\r\n",
       "<text text-anchor=\"middle\" x=\"1751\" y=\"-200.8\" font-family=\"Times New Roman,serif\" font-size=\"14.00\">value = [96, 327]</text>\r\n",
       "</g>\r\n",
       "<!-- 55&#45;&gt;56 -->\r\n",
       "<g id=\"edge56\" class=\"edge\"><title>55&#45;&gt;56</title>\r\n",
       "<path fill=\"none\" stroke=\"black\" d=\"M1751.68,-296.884C1751.6,-288.778 1751.51,-279.982 1751.43,-271.472\"/>\r\n",
       "<polygon fill=\"black\" stroke=\"black\" points=\"1754.92,-271.265 1751.33,-261.299 1747.92,-271.333 1754.92,-271.265\"/>\r\n",
       "</g>\r\n",
       "<!-- 61 -->\r\n",
       "<g id=\"node62\" class=\"node\"><title>61</title>\r\n",
       "<polygon fill=\"none\" stroke=\"black\" points=\"1931,-253.5 1825,-253.5 1825,-200.5 1931,-200.5 1931,-253.5\"/>\r\n",
       "<text text-anchor=\"middle\" x=\"1878\" y=\"-238.3\" font-family=\"Times New Roman,serif\" font-size=\"14.00\">entropy = 0.389</text>\r\n",
       "<text text-anchor=\"middle\" x=\"1878\" y=\"-223.3\" font-family=\"Times New Roman,serif\" font-size=\"14.00\">samples = 105</text>\r\n",
       "<text text-anchor=\"middle\" x=\"1878\" y=\"-208.3\" font-family=\"Times New Roman,serif\" font-size=\"14.00\">value = [8, 97]</text>\r\n",
       "</g>\r\n",
       "<!-- 55&#45;&gt;61 -->\r\n",
       "<g id=\"edge61\" class=\"edge\"><title>55&#45;&gt;61</title>\r\n",
       "<path fill=\"none\" stroke=\"black\" d=\"M1792.91,-296.884C1807.58,-285.006 1824.08,-271.646 1838.62,-259.876\"/>\r\n",
       "<polygon fill=\"black\" stroke=\"black\" points=\"1840.91,-262.532 1846.48,-253.52 1836.5,-257.092 1840.91,-262.532\"/>\r\n",
       "</g>\r\n",
       "<!-- 57 -->\r\n",
       "<g id=\"node58\" class=\"node\"><title>57</title>\r\n",
       "<polygon fill=\"none\" stroke=\"black\" points=\"1803,-149.5 1697,-149.5 1697,-96.5 1803,-96.5 1803,-149.5\"/>\r\n",
       "<text text-anchor=\"middle\" x=\"1750\" y=\"-134.3\" font-family=\"Times New Roman,serif\" font-size=\"14.00\">entropy = 0.946</text>\r\n",
       "<text text-anchor=\"middle\" x=\"1750\" y=\"-119.3\" font-family=\"Times New Roman,serif\" font-size=\"14.00\">samples = 44</text>\r\n",
       "<text text-anchor=\"middle\" x=\"1750\" y=\"-104.3\" font-family=\"Times New Roman,serif\" font-size=\"14.00\">value = [16, 28]</text>\r\n",
       "</g>\r\n",
       "<!-- 56&#45;&gt;57 -->\r\n",
       "<g id=\"edge57\" class=\"edge\"><title>56&#45;&gt;57</title>\r\n",
       "<path fill=\"none\" stroke=\"black\" d=\"M1750.68,-192.884C1750.57,-182.326 1750.46,-170.597 1750.35,-159.854\"/>\r\n",
       "<polygon fill=\"black\" stroke=\"black\" points=\"1753.85,-159.485 1750.25,-149.52 1746.85,-159.554 1753.85,-159.485\"/>\r\n",
       "</g>\r\n",
       "<!-- 58 -->\r\n",
       "<g id=\"node59\" class=\"node\"><title>58</title>\r\n",
       "<polygon fill=\"none\" stroke=\"black\" points=\"1932.5,-157 1821.5,-157 1821.5,-89 1932.5,-89 1932.5,-157\"/>\r\n",
       "<text text-anchor=\"middle\" x=\"1877\" y=\"-141.8\" font-family=\"Times New Roman,serif\" font-size=\"14.00\">age &lt;= 42.5</text>\r\n",
       "<text text-anchor=\"middle\" x=\"1877\" y=\"-126.8\" font-family=\"Times New Roman,serif\" font-size=\"14.00\">entropy = 0.744</text>\r\n",
       "<text text-anchor=\"middle\" x=\"1877\" y=\"-111.8\" font-family=\"Times New Roman,serif\" font-size=\"14.00\">samples = 379</text>\r\n",
       "<text text-anchor=\"middle\" x=\"1877\" y=\"-96.8\" font-family=\"Times New Roman,serif\" font-size=\"14.00\">value = [80, 299]</text>\r\n",
       "</g>\r\n",
       "<!-- 56&#45;&gt;58 -->\r\n",
       "<g id=\"edge58\" class=\"edge\"><title>56&#45;&gt;58</title>\r\n",
       "<path fill=\"none\" stroke=\"black\" d=\"M1791.91,-192.884C1803.35,-183.62 1815.91,-173.455 1827.78,-163.845\"/>\r\n",
       "<polygon fill=\"black\" stroke=\"black\" points=\"1830.3,-166.312 1835.87,-157.299 1825.89,-160.871 1830.3,-166.312\"/>\r\n",
       "</g>\r\n",
       "<!-- 59 -->\r\n",
       "<g id=\"node60\" class=\"node\"><title>59</title>\r\n",
       "<polygon fill=\"none\" stroke=\"black\" points=\"1923.5,-53 1812.5,-53 1812.5,-0 1923.5,-0 1923.5,-53\"/>\r\n",
       "<text text-anchor=\"middle\" x=\"1868\" y=\"-37.8\" font-family=\"Times New Roman,serif\" font-size=\"14.00\">entropy = 0.613</text>\r\n",
       "<text text-anchor=\"middle\" x=\"1868\" y=\"-22.8\" font-family=\"Times New Roman,serif\" font-size=\"14.00\">samples = 172</text>\r\n",
       "<text text-anchor=\"middle\" x=\"1868\" y=\"-7.8\" font-family=\"Times New Roman,serif\" font-size=\"14.00\">value = [26, 146]</text>\r\n",
       "</g>\r\n",
       "<!-- 58&#45;&gt;59 -->\r\n",
       "<g id=\"edge59\" class=\"edge\"><title>58&#45;&gt;59</title>\r\n",
       "<path fill=\"none\" stroke=\"black\" d=\"M1873.85,-88.9485C1873.06,-80.6238 1872.2,-71.6509 1871.4,-63.2027\"/>\r\n",
       "<polygon fill=\"black\" stroke=\"black\" points=\"1874.88,-62.8598 1870.45,-53.2367 1867.92,-63.5235 1874.88,-62.8598\"/>\r\n",
       "</g>\r\n",
       "<!-- 60 -->\r\n",
       "<g id=\"node61\" class=\"node\"><title>60</title>\r\n",
       "<polygon fill=\"none\" stroke=\"black\" points=\"2052.5,-53 1941.5,-53 1941.5,-0 2052.5,-0 2052.5,-53\"/>\r\n",
       "<text text-anchor=\"middle\" x=\"1997\" y=\"-37.8\" font-family=\"Times New Roman,serif\" font-size=\"14.00\">entropy = 0.828</text>\r\n",
       "<text text-anchor=\"middle\" x=\"1997\" y=\"-22.8\" font-family=\"Times New Roman,serif\" font-size=\"14.00\">samples = 207</text>\r\n",
       "<text text-anchor=\"middle\" x=\"1997\" y=\"-7.8\" font-family=\"Times New Roman,serif\" font-size=\"14.00\">value = [54, 153]</text>\r\n",
       "</g>\r\n",
       "<!-- 58&#45;&gt;60 -->\r\n",
       "<g id=\"edge60\" class=\"edge\"><title>58&#45;&gt;60</title>\r\n",
       "<path fill=\"none\" stroke=\"black\" d=\"M1918.97,-88.9485C1931.05,-79.4346 1944.21,-69.074 1956.22,-59.6175\"/>\r\n",
       "<polygon fill=\"black\" stroke=\"black\" points=\"1958.63,-62.1734 1964.32,-53.2367 1954.3,-56.6739 1958.63,-62.1734\"/>\r\n",
       "</g>\r\n",
       "<!-- 63 -->\r\n",
       "<g id=\"node64\" class=\"node\"><title>63</title>\r\n",
       "<polygon fill=\"none\" stroke=\"black\" points=\"2809,-677 2691,-677 2691,-609 2809,-609 2809,-677\"/>\r\n",
       "<text text-anchor=\"middle\" x=\"2750\" y=\"-661.8\" font-family=\"Times New Roman,serif\" font-size=\"14.00\">age &lt;= 31.5</text>\r\n",
       "<text text-anchor=\"middle\" x=\"2750\" y=\"-646.8\" font-family=\"Times New Roman,serif\" font-size=\"14.00\">entropy = 0.196</text>\r\n",
       "<text text-anchor=\"middle\" x=\"2750\" y=\"-631.8\" font-family=\"Times New Roman,serif\" font-size=\"14.00\">samples = 2909</text>\r\n",
       "<text text-anchor=\"middle\" x=\"2750\" y=\"-616.8\" font-family=\"Times New Roman,serif\" font-size=\"14.00\">value = [2821, 88]</text>\r\n",
       "</g>\r\n",
       "<!-- 62&#45;&gt;63 -->\r\n",
       "<g id=\"edge63\" class=\"edge\"><title>62&#45;&gt;63</title>\r\n",
       "<path fill=\"none\" stroke=\"black\" d=\"M2750,-712.884C2750,-704.778 2750,-695.982 2750,-687.472\"/>\r\n",
       "<polygon fill=\"black\" stroke=\"black\" points=\"2753.5,-687.299 2750,-677.299 2746.5,-687.299 2753.5,-687.299\"/>\r\n",
       "</g>\r\n",
       "<!-- 110 -->\r\n",
       "<g id=\"node111\" class=\"node\"><title>110</title>\r\n",
       "<polygon fill=\"none\" stroke=\"black\" points=\"3656,-677 3538,-677 3538,-609 3656,-609 3656,-677\"/>\r\n",
       "<text text-anchor=\"middle\" x=\"3597\" y=\"-661.8\" font-family=\"Times New Roman,serif\" font-size=\"14.00\">age &lt;= 29.5</text>\r\n",
       "<text text-anchor=\"middle\" x=\"3597\" y=\"-646.8\" font-family=\"Times New Roman,serif\" font-size=\"14.00\">entropy = 0.721</text>\r\n",
       "<text text-anchor=\"middle\" x=\"3597\" y=\"-631.8\" font-family=\"Times New Roman,serif\" font-size=\"14.00\">samples = 796</text>\r\n",
       "<text text-anchor=\"middle\" x=\"3597\" y=\"-616.8\" font-family=\"Times New Roman,serif\" font-size=\"14.00\">value = [637, 159]</text>\r\n",
       "</g>\r\n",
       "<!-- 62&#45;&gt;110 -->\r\n",
       "<g id=\"edge110\" class=\"edge\"><title>62&#45;&gt;110</title>\r\n",
       "<path fill=\"none\" stroke=\"black\" d=\"M2812.63,-738.458C2967.2,-719.844 3365.99,-671.819 3527.52,-652.367\"/>\r\n",
       "<polygon fill=\"black\" stroke=\"black\" points=\"3528.3,-655.798 3537.81,-651.128 3527.46,-648.849 3528.3,-655.798\"/>\r\n",
       "</g>\r\n",
       "<!-- 64 -->\r\n",
       "<g id=\"node65\" class=\"node\"><title>64</title>\r\n",
       "<polygon fill=\"none\" stroke=\"black\" points=\"2628,-573 2476,-573 2476,-505 2628,-505 2628,-573\"/>\r\n",
       "<text text-anchor=\"middle\" x=\"2552\" y=\"-557.8\" font-family=\"Times New Roman,serif\" font-size=\"14.00\">hours&#45;per&#45;week &lt;= 40.5</text>\r\n",
       "<text text-anchor=\"middle\" x=\"2552\" y=\"-542.8\" font-family=\"Times New Roman,serif\" font-size=\"14.00\">entropy = 0.06</text>\r\n",
       "<text text-anchor=\"middle\" x=\"2552\" y=\"-527.8\" font-family=\"Times New Roman,serif\" font-size=\"14.00\">samples = 1583</text>\r\n",
       "<text text-anchor=\"middle\" x=\"2552\" y=\"-512.8\" font-family=\"Times New Roman,serif\" font-size=\"14.00\">value = [1572, 11]</text>\r\n",
       "</g>\r\n",
       "<!-- 63&#45;&gt;64 -->\r\n",
       "<g id=\"edge64\" class=\"edge\"><title>63&#45;&gt;64</title>\r\n",
       "<path fill=\"none\" stroke=\"black\" d=\"M2690.86,-611.535C2670.32,-600.954 2647.03,-588.957 2625.48,-577.852\"/>\r\n",
       "<polygon fill=\"black\" stroke=\"black\" points=\"2626.85,-574.623 2616.36,-573.154 2623.65,-580.846 2626.85,-574.623\"/>\r\n",
       "</g>\r\n",
       "<!-- 85 -->\r\n",
       "<g id=\"node86\" class=\"node\"><title>85</title>\r\n",
       "<polygon fill=\"none\" stroke=\"black\" points=\"3024,-573 2872,-573 2872,-505 3024,-505 3024,-573\"/>\r\n",
       "<text text-anchor=\"middle\" x=\"2948\" y=\"-557.8\" font-family=\"Times New Roman,serif\" font-size=\"14.00\">hours&#45;per&#45;week &lt;= 42.5</text>\r\n",
       "<text text-anchor=\"middle\" x=\"2948\" y=\"-542.8\" font-family=\"Times New Roman,serif\" font-size=\"14.00\">entropy = 0.32</text>\r\n",
       "<text text-anchor=\"middle\" x=\"2948\" y=\"-527.8\" font-family=\"Times New Roman,serif\" font-size=\"14.00\">samples = 1326</text>\r\n",
       "<text text-anchor=\"middle\" x=\"2948\" y=\"-512.8\" font-family=\"Times New Roman,serif\" font-size=\"14.00\">value = [1249, 77]</text>\r\n",
       "</g>\r\n",
       "<!-- 63&#45;&gt;85 -->\r\n",
       "<g id=\"edge85\" class=\"edge\"><title>63&#45;&gt;85</title>\r\n",
       "<path fill=\"none\" stroke=\"black\" d=\"M2809.14,-611.535C2829.68,-600.954 2852.97,-588.957 2874.52,-577.852\"/>\r\n",
       "<polygon fill=\"black\" stroke=\"black\" points=\"2876.35,-580.846 2883.64,-573.154 2873.15,-574.623 2876.35,-580.846\"/>\r\n",
       "</g>\r\n",
       "<!-- 65 -->\r\n",
       "<g id=\"node66\" class=\"node\"><title>65</title>\r\n",
       "<polygon fill=\"none\" stroke=\"black\" points=\"2400.5,-469 2289.5,-469 2289.5,-401 2400.5,-401 2400.5,-469\"/>\r\n",
       "<text text-anchor=\"middle\" x=\"2345\" y=\"-453.8\" font-family=\"Times New Roman,serif\" font-size=\"14.00\">age &lt;= 22.5</text>\r\n",
       "<text text-anchor=\"middle\" x=\"2345\" y=\"-438.8\" font-family=\"Times New Roman,serif\" font-size=\"14.00\">entropy = 0.036</text>\r\n",
       "<text text-anchor=\"middle\" x=\"2345\" y=\"-423.8\" font-family=\"Times New Roman,serif\" font-size=\"14.00\">samples = 1320</text>\r\n",
       "<text text-anchor=\"middle\" x=\"2345\" y=\"-408.8\" font-family=\"Times New Roman,serif\" font-size=\"14.00\">value = [1315, 5]</text>\r\n",
       "</g>\r\n",
       "<!-- 64&#45;&gt;65 -->\r\n",
       "<g id=\"edge65\" class=\"edge\"><title>64&#45;&gt;65</title>\r\n",
       "<path fill=\"none\" stroke=\"black\" d=\"M2484.79,-504.884C2460.72,-493.02 2433.64,-479.678 2409.77,-467.918\"/>\r\n",
       "<polygon fill=\"black\" stroke=\"black\" points=\"2411.31,-464.775 2400.8,-463.495 2408.22,-471.054 2411.31,-464.775\"/>\r\n",
       "</g>\r\n",
       "<!-- 76 -->\r\n",
       "<g id=\"node77\" class=\"node\"><title>76</title>\r\n",
       "<polygon fill=\"none\" stroke=\"black\" points=\"2628,-469 2476,-469 2476,-401 2628,-401 2628,-469\"/>\r\n",
       "<text text-anchor=\"middle\" x=\"2552\" y=\"-453.8\" font-family=\"Times New Roman,serif\" font-size=\"14.00\">hours&#45;per&#45;week &lt;= 41.5</text>\r\n",
       "<text text-anchor=\"middle\" x=\"2552\" y=\"-438.8\" font-family=\"Times New Roman,serif\" font-size=\"14.00\">entropy = 0.157</text>\r\n",
       "<text text-anchor=\"middle\" x=\"2552\" y=\"-423.8\" font-family=\"Times New Roman,serif\" font-size=\"14.00\">samples = 263</text>\r\n",
       "<text text-anchor=\"middle\" x=\"2552\" y=\"-408.8\" font-family=\"Times New Roman,serif\" font-size=\"14.00\">value = [257, 6]</text>\r\n",
       "</g>\r\n",
       "<!-- 64&#45;&gt;76 -->\r\n",
       "<g id=\"edge76\" class=\"edge\"><title>64&#45;&gt;76</title>\r\n",
       "<path fill=\"none\" stroke=\"black\" d=\"M2552,-504.884C2552,-496.778 2552,-487.982 2552,-479.472\"/>\r\n",
       "<polygon fill=\"black\" stroke=\"black\" points=\"2555.5,-479.299 2552,-469.299 2548.5,-479.299 2555.5,-479.299\"/>\r\n",
       "</g>\r\n",
       "<!-- 66 -->\r\n",
       "<g id=\"node67\" class=\"node\"><title>66</title>\r\n",
       "<polygon fill=\"none\" stroke=\"black\" points=\"2265,-357.5 2161,-357.5 2161,-304.5 2265,-304.5 2265,-357.5\"/>\r\n",
       "<text text-anchor=\"middle\" x=\"2213\" y=\"-342.3\" font-family=\"Times New Roman,serif\" font-size=\"14.00\">entropy = 0.0</text>\r\n",
       "<text text-anchor=\"middle\" x=\"2213\" y=\"-327.3\" font-family=\"Times New Roman,serif\" font-size=\"14.00\">samples = 665</text>\r\n",
       "<text text-anchor=\"middle\" x=\"2213\" y=\"-312.3\" font-family=\"Times New Roman,serif\" font-size=\"14.00\">value = [665, 0]</text>\r\n",
       "</g>\r\n",
       "<!-- 65&#45;&gt;66 -->\r\n",
       "<g id=\"edge66\" class=\"edge\"><title>65&#45;&gt;66</title>\r\n",
       "<path fill=\"none\" stroke=\"black\" d=\"M2302.14,-400.884C2286.77,-389.006 2269.48,-375.646 2254.25,-363.876\"/>\r\n",
       "<polygon fill=\"black\" stroke=\"black\" points=\"2256.08,-360.865 2246.03,-357.52 2251.8,-366.404 2256.08,-360.865\"/>\r\n",
       "</g>\r\n",
       "<!-- 67 -->\r\n",
       "<g id=\"node68\" class=\"node\"><title>67</title>\r\n",
       "<polygon fill=\"none\" stroke=\"black\" points=\"2407,-365 2283,-365 2283,-297 2407,-297 2407,-365\"/>\r\n",
       "<text text-anchor=\"middle\" x=\"2345\" y=\"-349.8\" font-family=\"Times New Roman,serif\" font-size=\"14.00\">sex_Female &lt;= 0.5</text>\r\n",
       "<text text-anchor=\"middle\" x=\"2345\" y=\"-334.8\" font-family=\"Times New Roman,serif\" font-size=\"14.00\">entropy = 0.065</text>\r\n",
       "<text text-anchor=\"middle\" x=\"2345\" y=\"-319.8\" font-family=\"Times New Roman,serif\" font-size=\"14.00\">samples = 655</text>\r\n",
       "<text text-anchor=\"middle\" x=\"2345\" y=\"-304.8\" font-family=\"Times New Roman,serif\" font-size=\"14.00\">value = [650, 5]</text>\r\n",
       "</g>\r\n",
       "<!-- 65&#45;&gt;67 -->\r\n",
       "<g id=\"edge67\" class=\"edge\"><title>65&#45;&gt;67</title>\r\n",
       "<path fill=\"none\" stroke=\"black\" d=\"M2345,-400.884C2345,-392.778 2345,-383.982 2345,-375.472\"/>\r\n",
       "<polygon fill=\"black\" stroke=\"black\" points=\"2348.5,-375.299 2345,-365.299 2341.5,-375.299 2348.5,-375.299\"/>\r\n",
       "</g>\r\n",
       "<!-- 68 -->\r\n",
       "<g id=\"node69\" class=\"node\"><title>68</title>\r\n",
       "<polygon fill=\"none\" stroke=\"black\" points=\"2275,-261 2163,-261 2163,-193 2275,-193 2275,-261\"/>\r\n",
       "<text text-anchor=\"middle\" x=\"2219\" y=\"-245.8\" font-family=\"Times New Roman,serif\" font-size=\"14.00\">education &lt;= 9.5</text>\r\n",
       "<text text-anchor=\"middle\" x=\"2219\" y=\"-230.8\" font-family=\"Times New Roman,serif\" font-size=\"14.00\">entropy = 0.108</text>\r\n",
       "<text text-anchor=\"middle\" x=\"2219\" y=\"-215.8\" font-family=\"Times New Roman,serif\" font-size=\"14.00\">samples = 351</text>\r\n",
       "<text text-anchor=\"middle\" x=\"2219\" y=\"-200.8\" font-family=\"Times New Roman,serif\" font-size=\"14.00\">value = [346, 5]</text>\r\n",
       "</g>\r\n",
       "<!-- 67&#45;&gt;68 -->\r\n",
       "<g id=\"edge68\" class=\"edge\"><title>67&#45;&gt;68</title>\r\n",
       "<path fill=\"none\" stroke=\"black\" d=\"M2304.09,-296.884C2292.65,-287.62 2280.09,-277.455 2268.22,-267.845\"/>\r\n",
       "<polygon fill=\"black\" stroke=\"black\" points=\"2270.11,-264.871 2260.13,-261.299 2265.7,-270.312 2270.11,-264.871\"/>\r\n",
       "</g>\r\n",
       "<!-- 75 -->\r\n",
       "<g id=\"node76\" class=\"node\"><title>75</title>\r\n",
       "<polygon fill=\"none\" stroke=\"black\" points=\"2397,-253.5 2293,-253.5 2293,-200.5 2397,-200.5 2397,-253.5\"/>\r\n",
       "<text text-anchor=\"middle\" x=\"2345\" y=\"-238.3\" font-family=\"Times New Roman,serif\" font-size=\"14.00\">entropy = 0.0</text>\r\n",
       "<text text-anchor=\"middle\" x=\"2345\" y=\"-223.3\" font-family=\"Times New Roman,serif\" font-size=\"14.00\">samples = 304</text>\r\n",
       "<text text-anchor=\"middle\" x=\"2345\" y=\"-208.3\" font-family=\"Times New Roman,serif\" font-size=\"14.00\">value = [304, 0]</text>\r\n",
       "</g>\r\n",
       "<!-- 67&#45;&gt;75 -->\r\n",
       "<g id=\"edge75\" class=\"edge\"><title>67&#45;&gt;75</title>\r\n",
       "<path fill=\"none\" stroke=\"black\" d=\"M2345,-296.884C2345,-286.326 2345,-274.597 2345,-263.854\"/>\r\n",
       "<polygon fill=\"black\" stroke=\"black\" points=\"2348.5,-263.52 2345,-253.52 2341.5,-263.52 2348.5,-263.52\"/>\r\n",
       "</g>\r\n",
       "<!-- 69 -->\r\n",
       "<g id=\"node70\" class=\"node\"><title>69</title>\r\n",
       "<polygon fill=\"none\" stroke=\"black\" points=\"2279,-157 2159,-157 2159,-89 2279,-89 2279,-157\"/>\r\n",
       "<text text-anchor=\"middle\" x=\"2219\" y=\"-141.8\" font-family=\"Times New Roman,serif\" font-size=\"14.00\">race_Asian &lt;= 0.5</text>\r\n",
       "<text text-anchor=\"middle\" x=\"2219\" y=\"-126.8\" font-family=\"Times New Roman,serif\" font-size=\"14.00\">entropy = 0.042</text>\r\n",
       "<text text-anchor=\"middle\" x=\"2219\" y=\"-111.8\" font-family=\"Times New Roman,serif\" font-size=\"14.00\">samples = 219</text>\r\n",
       "<text text-anchor=\"middle\" x=\"2219\" y=\"-96.8\" font-family=\"Times New Roman,serif\" font-size=\"14.00\">value = [218, 1]</text>\r\n",
       "</g>\r\n",
       "<!-- 68&#45;&gt;69 -->\r\n",
       "<g id=\"edge69\" class=\"edge\"><title>68&#45;&gt;69</title>\r\n",
       "<path fill=\"none\" stroke=\"black\" d=\"M2219,-192.884C2219,-184.778 2219,-175.982 2219,-167.472\"/>\r\n",
       "<polygon fill=\"black\" stroke=\"black\" points=\"2222.5,-167.299 2219,-157.299 2215.5,-167.299 2222.5,-167.299\"/>\r\n",
       "</g>\r\n",
       "<!-- 72 -->\r\n",
       "<g id=\"node73\" class=\"node\"><title>72</title>\r\n",
       "<polygon fill=\"none\" stroke=\"black\" points=\"2421,-157 2299,-157 2299,-89 2421,-89 2421,-157\"/>\r\n",
       "<text text-anchor=\"middle\" x=\"2360\" y=\"-141.8\" font-family=\"Times New Roman,serif\" font-size=\"14.00\">race_White &lt;= 0.5</text>\r\n",
       "<text text-anchor=\"middle\" x=\"2360\" y=\"-126.8\" font-family=\"Times New Roman,serif\" font-size=\"14.00\">entropy = 0.196</text>\r\n",
       "<text text-anchor=\"middle\" x=\"2360\" y=\"-111.8\" font-family=\"Times New Roman,serif\" font-size=\"14.00\">samples = 132</text>\r\n",
       "<text text-anchor=\"middle\" x=\"2360\" y=\"-96.8\" font-family=\"Times New Roman,serif\" font-size=\"14.00\">value = [128, 4]</text>\r\n",
       "</g>\r\n",
       "<!-- 68&#45;&gt;72 -->\r\n",
       "<g id=\"edge72\" class=\"edge\"><title>68&#45;&gt;72</title>\r\n",
       "<path fill=\"none\" stroke=\"black\" d=\"M2264.78,-192.884C2277.83,-183.442 2292.18,-173.064 2305.69,-163.292\"/>\r\n",
       "<polygon fill=\"black\" stroke=\"black\" points=\"2307.92,-165.996 2313.97,-157.299 2303.81,-160.325 2307.92,-165.996\"/>\r\n",
       "</g>\r\n",
       "<!-- 70 -->\r\n",
       "<g id=\"node71\" class=\"node\"><title>70</title>\r\n",
       "<polygon fill=\"none\" stroke=\"black\" points=\"2175,-53 2071,-53 2071,-0 2175,-0 2175,-53\"/>\r\n",
       "<text text-anchor=\"middle\" x=\"2123\" y=\"-37.8\" font-family=\"Times New Roman,serif\" font-size=\"14.00\">entropy = 0.0</text>\r\n",
       "<text text-anchor=\"middle\" x=\"2123\" y=\"-22.8\" font-family=\"Times New Roman,serif\" font-size=\"14.00\">samples = 213</text>\r\n",
       "<text text-anchor=\"middle\" x=\"2123\" y=\"-7.8\" font-family=\"Times New Roman,serif\" font-size=\"14.00\">value = [213, 0]</text>\r\n",
       "</g>\r\n",
       "<!-- 69&#45;&gt;70 -->\r\n",
       "<g id=\"edge70\" class=\"edge\"><title>69&#45;&gt;70</title>\r\n",
       "<path fill=\"none\" stroke=\"black\" d=\"M2185.42,-88.9485C2176.04,-79.709 2165.84,-69.671 2156.46,-60.4381\"/>\r\n",
       "<polygon fill=\"black\" stroke=\"black\" points=\"2158.73,-57.7576 2149.15,-53.2367 2153.82,-62.7462 2158.73,-57.7576\"/>\r\n",
       "</g>\r\n",
       "<!-- 71 -->\r\n",
       "<g id=\"node72\" class=\"node\"><title>71</title>\r\n",
       "<polygon fill=\"none\" stroke=\"black\" points=\"2292.5,-53 2193.5,-53 2193.5,-0 2292.5,-0 2292.5,-53\"/>\r\n",
       "<text text-anchor=\"middle\" x=\"2243\" y=\"-37.8\" font-family=\"Times New Roman,serif\" font-size=\"14.00\">entropy = 0.65</text>\r\n",
       "<text text-anchor=\"middle\" x=\"2243\" y=\"-22.8\" font-family=\"Times New Roman,serif\" font-size=\"14.00\">samples = 6</text>\r\n",
       "<text text-anchor=\"middle\" x=\"2243\" y=\"-7.8\" font-family=\"Times New Roman,serif\" font-size=\"14.00\">value = [5, 1]</text>\r\n",
       "</g>\r\n",
       "<!-- 69&#45;&gt;71 -->\r\n",
       "<g id=\"edge71\" class=\"edge\"><title>69&#45;&gt;71</title>\r\n",
       "<path fill=\"none\" stroke=\"black\" d=\"M2227.39,-88.9485C2229.51,-80.6238 2231.79,-71.6509 2233.93,-63.2027\"/>\r\n",
       "<polygon fill=\"black\" stroke=\"black\" points=\"2237.39,-63.7906 2236.46,-53.2367 2230.61,-62.0675 2237.39,-63.7906\"/>\r\n",
       "</g>\r\n",
       "<!-- 73 -->\r\n",
       "<g id=\"node74\" class=\"node\"><title>73</title>\r\n",
       "<polygon fill=\"none\" stroke=\"black\" points=\"2409,-53 2311,-53 2311,-0 2409,-0 2409,-53\"/>\r\n",
       "<text text-anchor=\"middle\" x=\"2360\" y=\"-37.8\" font-family=\"Times New Roman,serif\" font-size=\"14.00\">entropy = 0.0</text>\r\n",
       "<text text-anchor=\"middle\" x=\"2360\" y=\"-22.8\" font-family=\"Times New Roman,serif\" font-size=\"14.00\">samples = 27</text>\r\n",
       "<text text-anchor=\"middle\" x=\"2360\" y=\"-7.8\" font-family=\"Times New Roman,serif\" font-size=\"14.00\">value = [27, 0]</text>\r\n",
       "</g>\r\n",
       "<!-- 72&#45;&gt;73 -->\r\n",
       "<g id=\"edge73\" class=\"edge\"><title>72&#45;&gt;73</title>\r\n",
       "<path fill=\"none\" stroke=\"black\" d=\"M2360,-88.9485C2360,-80.7153 2360,-71.848 2360,-63.4814\"/>\r\n",
       "<polygon fill=\"black\" stroke=\"black\" points=\"2363.5,-63.2367 2360,-53.2367 2356.5,-63.2367 2363.5,-63.2367\"/>\r\n",
       "</g>\r\n",
       "<!-- 74 -->\r\n",
       "<g id=\"node75\" class=\"node\"><title>74</title>\r\n",
       "<polygon fill=\"none\" stroke=\"black\" points=\"2533,-53 2427,-53 2427,-0 2533,-0 2533,-53\"/>\r\n",
       "<text text-anchor=\"middle\" x=\"2480\" y=\"-37.8\" font-family=\"Times New Roman,serif\" font-size=\"14.00\">entropy = 0.233</text>\r\n",
       "<text text-anchor=\"middle\" x=\"2480\" y=\"-22.8\" font-family=\"Times New Roman,serif\" font-size=\"14.00\">samples = 105</text>\r\n",
       "<text text-anchor=\"middle\" x=\"2480\" y=\"-7.8\" font-family=\"Times New Roman,serif\" font-size=\"14.00\">value = [101, 4]</text>\r\n",
       "</g>\r\n",
       "<!-- 72&#45;&gt;74 -->\r\n",
       "<g id=\"edge74\" class=\"edge\"><title>72&#45;&gt;74</title>\r\n",
       "<path fill=\"none\" stroke=\"black\" d=\"M2401.97,-88.9485C2414.05,-79.4346 2427.21,-69.074 2439.22,-59.6175\"/>\r\n",
       "<polygon fill=\"black\" stroke=\"black\" points=\"2441.63,-62.1734 2447.32,-53.2367 2437.3,-56.6739 2441.63,-62.1734\"/>\r\n",
       "</g>\r\n",
       "<!-- 77 -->\r\n",
       "<g id=\"node78\" class=\"node\"><title>77</title>\r\n",
       "<polygon fill=\"none\" stroke=\"black\" points=\"2536,-357.5 2430,-357.5 2430,-304.5 2536,-304.5 2536,-357.5\"/>\r\n",
       "<text text-anchor=\"middle\" x=\"2483\" y=\"-342.3\" font-family=\"Times New Roman,serif\" font-size=\"14.00\">entropy = 0.811</text>\r\n",
       "<text text-anchor=\"middle\" x=\"2483\" y=\"-327.3\" font-family=\"Times New Roman,serif\" font-size=\"14.00\">samples = 4</text>\r\n",
       "<text text-anchor=\"middle\" x=\"2483\" y=\"-312.3\" font-family=\"Times New Roman,serif\" font-size=\"14.00\">value = [3, 1]</text>\r\n",
       "</g>\r\n",
       "<!-- 76&#45;&gt;77 -->\r\n",
       "<g id=\"edge77\" class=\"edge\"><title>76&#45;&gt;77</title>\r\n",
       "<path fill=\"none\" stroke=\"black\" d=\"M2529.6,-400.884C2522.01,-389.666 2513.53,-377.126 2505.9,-365.852\"/>\r\n",
       "<polygon fill=\"black\" stroke=\"black\" points=\"2508.77,-363.842 2500.26,-357.52 2502.97,-367.764 2508.77,-363.842\"/>\r\n",
       "</g>\r\n",
       "<!-- 78 -->\r\n",
       "<g id=\"node79\" class=\"node\"><title>78</title>\r\n",
       "<polygon fill=\"none\" stroke=\"black\" points=\"2666,-365 2554,-365 2554,-297 2666,-297 2666,-365\"/>\r\n",
       "<text text-anchor=\"middle\" x=\"2610\" y=\"-349.8\" font-family=\"Times New Roman,serif\" font-size=\"14.00\">education &lt;= 4.5</text>\r\n",
       "<text text-anchor=\"middle\" x=\"2610\" y=\"-334.8\" font-family=\"Times New Roman,serif\" font-size=\"14.00\">entropy = 0.138</text>\r\n",
       "<text text-anchor=\"middle\" x=\"2610\" y=\"-319.8\" font-family=\"Times New Roman,serif\" font-size=\"14.00\">samples = 259</text>\r\n",
       "<text text-anchor=\"middle\" x=\"2610\" y=\"-304.8\" font-family=\"Times New Roman,serif\" font-size=\"14.00\">value = [254, 5]</text>\r\n",
       "</g>\r\n",
       "<!-- 76&#45;&gt;78 -->\r\n",
       "<g id=\"edge78\" class=\"edge\"><title>76&#45;&gt;78</title>\r\n",
       "<path fill=\"none\" stroke=\"black\" d=\"M2570.83,-400.884C2575.69,-392.332 2580.99,-383.013 2586.08,-374.072\"/>\r\n",
       "<polygon fill=\"black\" stroke=\"black\" points=\"2589.16,-375.722 2591.07,-365.299 2583.08,-372.262 2589.16,-375.722\"/>\r\n",
       "</g>\r\n",
       "<!-- 79 -->\r\n",
       "<g id=\"node80\" class=\"node\"><title>79</title>\r\n",
       "<polygon fill=\"none\" stroke=\"black\" points=\"2521,-253.5 2415,-253.5 2415,-200.5 2521,-200.5 2521,-253.5\"/>\r\n",
       "<text text-anchor=\"middle\" x=\"2468\" y=\"-238.3\" font-family=\"Times New Roman,serif\" font-size=\"14.00\">entropy = 0.439</text>\r\n",
       "<text text-anchor=\"middle\" x=\"2468\" y=\"-223.3\" font-family=\"Times New Roman,serif\" font-size=\"14.00\">samples = 11</text>\r\n",
       "<text text-anchor=\"middle\" x=\"2468\" y=\"-208.3\" font-family=\"Times New Roman,serif\" font-size=\"14.00\">value = [10, 1]</text>\r\n",
       "</g>\r\n",
       "<!-- 78&#45;&gt;79 -->\r\n",
       "<g id=\"edge79\" class=\"edge\"><title>78&#45;&gt;79</title>\r\n",
       "<path fill=\"none\" stroke=\"black\" d=\"M2563.9,-296.884C2547.21,-284.896 2528.42,-271.399 2511.92,-259.549\"/>\r\n",
       "<polygon fill=\"black\" stroke=\"black\" points=\"2513.69,-256.511 2503.53,-253.52 2509.61,-262.197 2513.69,-256.511\"/>\r\n",
       "</g>\r\n",
       "<!-- 80 -->\r\n",
       "<g id=\"node81\" class=\"node\"><title>80</title>\r\n",
       "<polygon fill=\"none\" stroke=\"black\" points=\"2691,-261 2539,-261 2539,-193 2691,-193 2691,-261\"/>\r\n",
       "<text text-anchor=\"middle\" x=\"2615\" y=\"-245.8\" font-family=\"Times New Roman,serif\" font-size=\"14.00\">hours&#45;per&#45;week &lt;= 50.5</text>\r\n",
       "<text text-anchor=\"middle\" x=\"2615\" y=\"-230.8\" font-family=\"Times New Roman,serif\" font-size=\"14.00\">entropy = 0.119</text>\r\n",
       "<text text-anchor=\"middle\" x=\"2615\" y=\"-215.8\" font-family=\"Times New Roman,serif\" font-size=\"14.00\">samples = 248</text>\r\n",
       "<text text-anchor=\"middle\" x=\"2615\" y=\"-200.8\" font-family=\"Times New Roman,serif\" font-size=\"14.00\">value = [244, 4]</text>\r\n",
       "</g>\r\n",
       "<!-- 78&#45;&gt;80 -->\r\n",
       "<g id=\"edge80\" class=\"edge\"><title>78&#45;&gt;80</title>\r\n",
       "<path fill=\"none\" stroke=\"black\" d=\"M2611.62,-296.884C2612.02,-288.778 2612.45,-279.982 2612.87,-271.472\"/>\r\n",
       "<polygon fill=\"black\" stroke=\"black\" points=\"2616.37,-271.459 2613.37,-261.299 2609.38,-271.116 2616.37,-271.459\"/>\r\n",
       "</g>\r\n",
       "<!-- 81 -->\r\n",
       "<g id=\"node82\" class=\"node\"><title>81</title>\r\n",
       "<polygon fill=\"none\" stroke=\"black\" points=\"2685,-157 2533,-157 2533,-89 2685,-89 2685,-157\"/>\r\n",
       "<text text-anchor=\"middle\" x=\"2609\" y=\"-141.8\" font-family=\"Times New Roman,serif\" font-size=\"14.00\">hours&#45;per&#45;week &lt;= 49.5</text>\r\n",
       "<text text-anchor=\"middle\" x=\"2609\" y=\"-126.8\" font-family=\"Times New Roman,serif\" font-size=\"14.00\">entropy = 0.168</text>\r\n",
       "<text text-anchor=\"middle\" x=\"2609\" y=\"-111.8\" font-family=\"Times New Roman,serif\" font-size=\"14.00\">samples = 161</text>\r\n",
       "<text text-anchor=\"middle\" x=\"2609\" y=\"-96.8\" font-family=\"Times New Roman,serif\" font-size=\"14.00\">value = [157, 4]</text>\r\n",
       "</g>\r\n",
       "<!-- 80&#45;&gt;81 -->\r\n",
       "<g id=\"edge81\" class=\"edge\"><title>80&#45;&gt;81</title>\r\n",
       "<path fill=\"none\" stroke=\"black\" d=\"M2613.05,-192.884C2612.58,-184.778 2612.06,-175.982 2611.56,-167.472\"/>\r\n",
       "<polygon fill=\"black\" stroke=\"black\" points=\"2615.04,-167.077 2610.96,-157.299 2608.05,-167.488 2615.04,-167.077\"/>\r\n",
       "</g>\r\n",
       "<!-- 84 -->\r\n",
       "<g id=\"node85\" class=\"node\"><title>84</title>\r\n",
       "<polygon fill=\"none\" stroke=\"black\" points=\"2801,-149.5 2703,-149.5 2703,-96.5 2801,-96.5 2801,-149.5\"/>\r\n",
       "<text text-anchor=\"middle\" x=\"2752\" y=\"-134.3\" font-family=\"Times New Roman,serif\" font-size=\"14.00\">entropy = 0.0</text>\r\n",
       "<text text-anchor=\"middle\" x=\"2752\" y=\"-119.3\" font-family=\"Times New Roman,serif\" font-size=\"14.00\">samples = 87</text>\r\n",
       "<text text-anchor=\"middle\" x=\"2752\" y=\"-104.3\" font-family=\"Times New Roman,serif\" font-size=\"14.00\">value = [87, 0]</text>\r\n",
       "</g>\r\n",
       "<!-- 80&#45;&gt;84 -->\r\n",
       "<g id=\"edge84\" class=\"edge\"><title>80&#45;&gt;84</title>\r\n",
       "<path fill=\"none\" stroke=\"black\" d=\"M2659.48,-192.884C2675.58,-180.896 2693.71,-167.399 2709.62,-155.549\"/>\r\n",
       "<polygon fill=\"black\" stroke=\"black\" points=\"2711.79,-158.299 2717.72,-149.52 2707.61,-152.684 2711.79,-158.299\"/>\r\n",
       "</g>\r\n",
       "<!-- 82 -->\r\n",
       "<g id=\"node83\" class=\"node\"><title>82</title>\r\n",
       "<polygon fill=\"none\" stroke=\"black\" points=\"2660,-53 2554,-53 2554,-0 2660,-0 2660,-53\"/>\r\n",
       "<text text-anchor=\"middle\" x=\"2607\" y=\"-37.8\" font-family=\"Times New Roman,serif\" font-size=\"14.00\">entropy = 0.076</text>\r\n",
       "<text text-anchor=\"middle\" x=\"2607\" y=\"-22.8\" font-family=\"Times New Roman,serif\" font-size=\"14.00\">samples = 108</text>\r\n",
       "<text text-anchor=\"middle\" x=\"2607\" y=\"-7.8\" font-family=\"Times New Roman,serif\" font-size=\"14.00\">value = [107, 1]</text>\r\n",
       "</g>\r\n",
       "<!-- 81&#45;&gt;82 -->\r\n",
       "<g id=\"edge82\" class=\"edge\"><title>81&#45;&gt;82</title>\r\n",
       "<path fill=\"none\" stroke=\"black\" d=\"M2608.3,-88.9485C2608.13,-80.7153 2607.94,-71.848 2607.76,-63.4814\"/>\r\n",
       "<polygon fill=\"black\" stroke=\"black\" points=\"2611.26,-63.1604 2607.54,-53.2367 2604.26,-63.3086 2611.26,-63.1604\"/>\r\n",
       "</g>\r\n",
       "<!-- 83 -->\r\n",
       "<g id=\"node84\" class=\"node\"><title>83</title>\r\n",
       "<polygon fill=\"none\" stroke=\"black\" points=\"2784,-53 2678,-53 2678,-0 2784,-0 2784,-53\"/>\r\n",
       "<text text-anchor=\"middle\" x=\"2731\" y=\"-37.8\" font-family=\"Times New Roman,serif\" font-size=\"14.00\">entropy = 0.314</text>\r\n",
       "<text text-anchor=\"middle\" x=\"2731\" y=\"-22.8\" font-family=\"Times New Roman,serif\" font-size=\"14.00\">samples = 53</text>\r\n",
       "<text text-anchor=\"middle\" x=\"2731\" y=\"-7.8\" font-family=\"Times New Roman,serif\" font-size=\"14.00\">value = [50, 3]</text>\r\n",
       "</g>\r\n",
       "<!-- 81&#45;&gt;83 -->\r\n",
       "<g id=\"edge83\" class=\"edge\"><title>81&#45;&gt;83</title>\r\n",
       "<path fill=\"none\" stroke=\"black\" d=\"M2651.67,-88.9485C2663.95,-79.4346 2677.33,-69.074 2689.54,-59.6175\"/>\r\n",
       "<polygon fill=\"black\" stroke=\"black\" points=\"2692.01,-62.1274 2697.77,-53.2367 2687.72,-56.5934 2692.01,-62.1274\"/>\r\n",
       "</g>\r\n",
       "<!-- 86 -->\r\n",
       "<g id=\"node87\" class=\"node\"><title>86</title>\r\n",
       "<polygon fill=\"none\" stroke=\"black\" points=\"3024,-469 2872,-469 2872,-401 3024,-401 3024,-469\"/>\r\n",
       "<text text-anchor=\"middle\" x=\"2948\" y=\"-453.8\" font-family=\"Times New Roman,serif\" font-size=\"14.00\">hours&#45;per&#45;week &lt;= 35.5</text>\r\n",
       "<text text-anchor=\"middle\" x=\"2948\" y=\"-438.8\" font-family=\"Times New Roman,serif\" font-size=\"14.00\">entropy = 0.239</text>\r\n",
       "<text text-anchor=\"middle\" x=\"2948\" y=\"-423.8\" font-family=\"Times New Roman,serif\" font-size=\"14.00\">samples = 991</text>\r\n",
       "<text text-anchor=\"middle\" x=\"2948\" y=\"-408.8\" font-family=\"Times New Roman,serif\" font-size=\"14.00\">value = [952, 39]</text>\r\n",
       "</g>\r\n",
       "<!-- 85&#45;&gt;86 -->\r\n",
       "<g id=\"edge86\" class=\"edge\"><title>85&#45;&gt;86</title>\r\n",
       "<path fill=\"none\" stroke=\"black\" d=\"M2948,-504.884C2948,-496.778 2948,-487.982 2948,-479.472\"/>\r\n",
       "<polygon fill=\"black\" stroke=\"black\" points=\"2951.5,-479.299 2948,-469.299 2944.5,-479.299 2951.5,-479.299\"/>\r\n",
       "</g>\r\n",
       "<!-- 101 -->\r\n",
       "<g id=\"node102\" class=\"node\"><title>101</title>\r\n",
       "<polygon fill=\"none\" stroke=\"black\" points=\"3410,-469 3258,-469 3258,-401 3410,-401 3410,-469\"/>\r\n",
       "<text text-anchor=\"middle\" x=\"3334\" y=\"-453.8\" font-family=\"Times New Roman,serif\" font-size=\"14.00\">hours&#45;per&#45;week &lt;= 61.0</text>\r\n",
       "<text text-anchor=\"middle\" x=\"3334\" y=\"-438.8\" font-family=\"Times New Roman,serif\" font-size=\"14.00\">entropy = 0.51</text>\r\n",
       "<text text-anchor=\"middle\" x=\"3334\" y=\"-423.8\" font-family=\"Times New Roman,serif\" font-size=\"14.00\">samples = 335</text>\r\n",
       "<text text-anchor=\"middle\" x=\"3334\" y=\"-408.8\" font-family=\"Times New Roman,serif\" font-size=\"14.00\">value = [297, 38]</text>\r\n",
       "</g>\r\n",
       "<!-- 85&#45;&gt;101 -->\r\n",
       "<g id=\"edge101\" class=\"edge\"><title>85&#45;&gt;101</title>\r\n",
       "<path fill=\"none\" stroke=\"black\" d=\"M3024.26,-517.848C3088.76,-500.804 3181.12,-476.398 3248.19,-458.675\"/>\r\n",
       "<polygon fill=\"black\" stroke=\"black\" points=\"3249.12,-462.049 3257.9,-456.11 3247.33,-455.281 3249.12,-462.049\"/>\r\n",
       "</g>\r\n",
       "<!-- 87 -->\r\n",
       "<g id=\"node88\" class=\"node\"><title>87</title>\r\n",
       "<polygon fill=\"none\" stroke=\"black\" points=\"2952,-365 2780,-365 2780,-297 2952,-297 2952,-365\"/>\r\n",
       "<text text-anchor=\"middle\" x=\"2866\" y=\"-349.8\" font-family=\"Times New Roman,serif\" font-size=\"14.00\">workclass_Self&#45;emp &lt;= 0.5</text>\r\n",
       "<text text-anchor=\"middle\" x=\"2866\" y=\"-334.8\" font-family=\"Times New Roman,serif\" font-size=\"14.00\">entropy = 0.076</text>\r\n",
       "<text text-anchor=\"middle\" x=\"2866\" y=\"-319.8\" font-family=\"Times New Roman,serif\" font-size=\"14.00\">samples = 217</text>\r\n",
       "<text text-anchor=\"middle\" x=\"2866\" y=\"-304.8\" font-family=\"Times New Roman,serif\" font-size=\"14.00\">value = [215, 2]</text>\r\n",
       "</g>\r\n",
       "<!-- 86&#45;&gt;87 -->\r\n",
       "<g id=\"edge87\" class=\"edge\"><title>86&#45;&gt;87</title>\r\n",
       "<path fill=\"none\" stroke=\"black\" d=\"M2921.38,-400.884C2914.29,-392.065 2906.54,-382.43 2899.15,-373.235\"/>\r\n",
       "<polygon fill=\"black\" stroke=\"black\" points=\"2901.76,-370.9 2892.77,-365.299 2896.31,-375.286 2901.76,-370.9\"/>\r\n",
       "</g>\r\n",
       "<!-- 90 -->\r\n",
       "<g id=\"node91\" class=\"node\"><title>90</title>\r\n",
       "<polygon fill=\"none\" stroke=\"black\" points=\"3090,-365 2970,-365 2970,-297 3090,-297 3090,-365\"/>\r\n",
       "<text text-anchor=\"middle\" x=\"3030\" y=\"-349.8\" font-family=\"Times New Roman,serif\" font-size=\"14.00\">race_Black &lt;= 0.5</text>\r\n",
       "<text text-anchor=\"middle\" x=\"3030\" y=\"-334.8\" font-family=\"Times New Roman,serif\" font-size=\"14.00\">entropy = 0.277</text>\r\n",
       "<text text-anchor=\"middle\" x=\"3030\" y=\"-319.8\" font-family=\"Times New Roman,serif\" font-size=\"14.00\">samples = 774</text>\r\n",
       "<text text-anchor=\"middle\" x=\"3030\" y=\"-304.8\" font-family=\"Times New Roman,serif\" font-size=\"14.00\">value = [737, 37]</text>\r\n",
       "</g>\r\n",
       "<!-- 86&#45;&gt;90 -->\r\n",
       "<g id=\"edge90\" class=\"edge\"><title>86&#45;&gt;90</title>\r\n",
       "<path fill=\"none\" stroke=\"black\" d=\"M2974.62,-400.884C2981.71,-392.065 2989.46,-382.43 2996.85,-373.235\"/>\r\n",
       "<polygon fill=\"black\" stroke=\"black\" points=\"2999.69,-375.286 3003.23,-365.299 2994.24,-370.9 2999.69,-375.286\"/>\r\n",
       "</g>\r\n",
       "<!-- 88 -->\r\n",
       "<g id=\"node89\" class=\"node\"><title>88</title>\r\n",
       "<polygon fill=\"none\" stroke=\"black\" points=\"2813,-253.5 2709,-253.5 2709,-200.5 2813,-200.5 2813,-253.5\"/>\r\n",
       "<text text-anchor=\"middle\" x=\"2761\" y=\"-238.3\" font-family=\"Times New Roman,serif\" font-size=\"14.00\">entropy = 0.0</text>\r\n",
       "<text text-anchor=\"middle\" x=\"2761\" y=\"-223.3\" font-family=\"Times New Roman,serif\" font-size=\"14.00\">samples = 189</text>\r\n",
       "<text text-anchor=\"middle\" x=\"2761\" y=\"-208.3\" font-family=\"Times New Roman,serif\" font-size=\"14.00\">value = [189, 0]</text>\r\n",
       "</g>\r\n",
       "<!-- 87&#45;&gt;88 -->\r\n",
       "<g id=\"edge88\" class=\"edge\"><title>87&#45;&gt;88</title>\r\n",
       "<path fill=\"none\" stroke=\"black\" d=\"M2831.91,-296.884C2819.91,-285.226 2806.44,-272.141 2794.49,-260.532\"/>\r\n",
       "<polygon fill=\"black\" stroke=\"black\" points=\"2796.88,-257.977 2787.27,-253.52 2792,-262.998 2796.88,-257.977\"/>\r\n",
       "</g>\r\n",
       "<!-- 89 -->\r\n",
       "<g id=\"node90\" class=\"node\"><title>89</title>\r\n",
       "<polygon fill=\"none\" stroke=\"black\" points=\"2937,-253.5 2831,-253.5 2831,-200.5 2937,-200.5 2937,-253.5\"/>\r\n",
       "<text text-anchor=\"middle\" x=\"2884\" y=\"-238.3\" font-family=\"Times New Roman,serif\" font-size=\"14.00\">entropy = 0.371</text>\r\n",
       "<text text-anchor=\"middle\" x=\"2884\" y=\"-223.3\" font-family=\"Times New Roman,serif\" font-size=\"14.00\">samples = 28</text>\r\n",
       "<text text-anchor=\"middle\" x=\"2884\" y=\"-208.3\" font-family=\"Times New Roman,serif\" font-size=\"14.00\">value = [26, 2]</text>\r\n",
       "</g>\r\n",
       "<!-- 87&#45;&gt;89 -->\r\n",
       "<g id=\"edge89\" class=\"edge\"><title>87&#45;&gt;89</title>\r\n",
       "<path fill=\"none\" stroke=\"black\" d=\"M2871.84,-296.884C2873.73,-286.216 2875.82,-274.352 2877.73,-263.519\"/>\r\n",
       "<polygon fill=\"black\" stroke=\"black\" points=\"2881.21,-263.976 2879.5,-253.52 2874.31,-262.759 2881.21,-263.976\"/>\r\n",
       "</g>\r\n",
       "<!-- 91 -->\r\n",
       "<g id=\"node92\" class=\"node\"><title>91</title>\r\n",
       "<polygon fill=\"none\" stroke=\"black\" points=\"3066.5,-261 2955.5,-261 2955.5,-193 3066.5,-193 3066.5,-261\"/>\r\n",
       "<text text-anchor=\"middle\" x=\"3011\" y=\"-245.8\" font-family=\"Times New Roman,serif\" font-size=\"14.00\">age &lt;= 34.5</text>\r\n",
       "<text text-anchor=\"middle\" x=\"3011\" y=\"-230.8\" font-family=\"Times New Roman,serif\" font-size=\"14.00\">entropy = 0.307</text>\r\n",
       "<text text-anchor=\"middle\" x=\"3011\" y=\"-215.8\" font-family=\"Times New Roman,serif\" font-size=\"14.00\">samples = 636</text>\r\n",
       "<text text-anchor=\"middle\" x=\"3011\" y=\"-200.8\" font-family=\"Times New Roman,serif\" font-size=\"14.00\">value = [601, 35]</text>\r\n",
       "</g>\r\n",
       "<!-- 90&#45;&gt;91 -->\r\n",
       "<g id=\"edge91\" class=\"edge\"><title>90&#45;&gt;91</title>\r\n",
       "<path fill=\"none\" stroke=\"black\" d=\"M3023.83,-296.884C3022.3,-288.689 3020.65,-279.789 3019.05,-271.192\"/>\r\n",
       "<polygon fill=\"black\" stroke=\"black\" points=\"3022.47,-270.489 3017.2,-261.299 3015.59,-271.771 3022.47,-270.489\"/>\r\n",
       "</g>\r\n",
       "<!-- 96 -->\r\n",
       "<g id=\"node97\" class=\"node\"><title>96</title>\r\n",
       "<polygon fill=\"none\" stroke=\"black\" points=\"3203.5,-261 3084.5,-261 3084.5,-193 3203.5,-193 3203.5,-261\"/>\r\n",
       "<text text-anchor=\"middle\" x=\"3144\" y=\"-245.8\" font-family=\"Times New Roman,serif\" font-size=\"14.00\">education &lt;= 10.5</text>\r\n",
       "<text text-anchor=\"middle\" x=\"3144\" y=\"-230.8\" font-family=\"Times New Roman,serif\" font-size=\"14.00\">entropy = 0.109</text>\r\n",
       "<text text-anchor=\"middle\" x=\"3144\" y=\"-215.8\" font-family=\"Times New Roman,serif\" font-size=\"14.00\">samples = 138</text>\r\n",
       "<text text-anchor=\"middle\" x=\"3144\" y=\"-200.8\" font-family=\"Times New Roman,serif\" font-size=\"14.00\">value = [136, 2]</text>\r\n",
       "</g>\r\n",
       "<!-- 90&#45;&gt;96 -->\r\n",
       "<g id=\"edge96\" class=\"edge\"><title>90&#45;&gt;96</title>\r\n",
       "<path fill=\"none\" stroke=\"black\" d=\"M3067.01,-296.884C3077.27,-287.709 3088.51,-277.65 3099.16,-268.123\"/>\r\n",
       "<polygon fill=\"black\" stroke=\"black\" points=\"3101.66,-270.576 3106.78,-261.299 3097,-265.359 3101.66,-270.576\"/>\r\n",
       "</g>\r\n",
       "<!-- 92 -->\r\n",
       "<g id=\"node93\" class=\"node\"><title>92</title>\r\n",
       "<polygon fill=\"none\" stroke=\"black\" points=\"2927,-149.5 2823,-149.5 2823,-96.5 2927,-96.5 2927,-149.5\"/>\r\n",
       "<text text-anchor=\"middle\" x=\"2875\" y=\"-134.3\" font-family=\"Times New Roman,serif\" font-size=\"14.00\">entropy = 0.08</text>\r\n",
       "<text text-anchor=\"middle\" x=\"2875\" y=\"-119.3\" font-family=\"Times New Roman,serif\" font-size=\"14.00\">samples = 101</text>\r\n",
       "<text text-anchor=\"middle\" x=\"2875\" y=\"-104.3\" font-family=\"Times New Roman,serif\" font-size=\"14.00\">value = [100, 1]</text>\r\n",
       "</g>\r\n",
       "<!-- 91&#45;&gt;92 -->\r\n",
       "<g id=\"edge92\" class=\"edge\"><title>91&#45;&gt;92</title>\r\n",
       "<path fill=\"none\" stroke=\"black\" d=\"M2966.84,-192.884C2950.86,-180.896 2932.87,-167.399 2917.07,-155.549\"/>\r\n",
       "<polygon fill=\"black\" stroke=\"black\" points=\"2919.13,-152.72 2909.03,-149.52 2914.93,-158.32 2919.13,-152.72\"/>\r\n",
       "</g>\r\n",
       "<!-- 93 -->\r\n",
       "<g id=\"node94\" class=\"node\"><title>93</title>\r\n",
       "<polygon fill=\"none\" stroke=\"black\" points=\"3069,-157 2945,-157 2945,-89 3069,-89 3069,-157\"/>\r\n",
       "<text text-anchor=\"middle\" x=\"3007\" y=\"-141.8\" font-family=\"Times New Roman,serif\" font-size=\"14.00\">sex_Female &lt;= 0.5</text>\r\n",
       "<text text-anchor=\"middle\" x=\"3007\" y=\"-126.8\" font-family=\"Times New Roman,serif\" font-size=\"14.00\">entropy = 0.341</text>\r\n",
       "<text text-anchor=\"middle\" x=\"3007\" y=\"-111.8\" font-family=\"Times New Roman,serif\" font-size=\"14.00\">samples = 535</text>\r\n",
       "<text text-anchor=\"middle\" x=\"3007\" y=\"-96.8\" font-family=\"Times New Roman,serif\" font-size=\"14.00\">value = [501, 34]</text>\r\n",
       "</g>\r\n",
       "<!-- 91&#45;&gt;93 -->\r\n",
       "<g id=\"edge93\" class=\"edge\"><title>91&#45;&gt;93</title>\r\n",
       "<path fill=\"none\" stroke=\"black\" d=\"M3009.7,-192.884C3009.38,-184.778 3009.04,-175.982 3008.7,-167.472\"/>\r\n",
       "<polygon fill=\"black\" stroke=\"black\" points=\"3012.2,-167.155 3008.31,-157.299 3005.2,-167.429 3012.2,-167.155\"/>\r\n",
       "</g>\r\n",
       "<!-- 94 -->\r\n",
       "<g id=\"node95\" class=\"node\"><title>94</title>\r\n",
       "<polygon fill=\"none\" stroke=\"black\" points=\"2935.5,-53 2824.5,-53 2824.5,-0 2935.5,-0 2935.5,-53\"/>\r\n",
       "<text text-anchor=\"middle\" x=\"2880\" y=\"-37.8\" font-family=\"Times New Roman,serif\" font-size=\"14.00\">entropy = 0.447</text>\r\n",
       "<text text-anchor=\"middle\" x=\"2880\" y=\"-22.8\" font-family=\"Times New Roman,serif\" font-size=\"14.00\">samples = 225</text>\r\n",
       "<text text-anchor=\"middle\" x=\"2880\" y=\"-7.8\" font-family=\"Times New Roman,serif\" font-size=\"14.00\">value = [204, 21]</text>\r\n",
       "</g>\r\n",
       "<!-- 93&#45;&gt;94 -->\r\n",
       "<g id=\"edge94\" class=\"edge\"><title>93&#45;&gt;94</title>\r\n",
       "<path fill=\"none\" stroke=\"black\" d=\"M2962.58,-88.9485C2949.67,-79.3431 2935.6,-68.8747 2922.8,-59.345\"/>\r\n",
       "<polygon fill=\"black\" stroke=\"black\" points=\"2924.7,-56.3984 2914.59,-53.2367 2920.52,-62.0143 2924.7,-56.3984\"/>\r\n",
       "</g>\r\n",
       "<!-- 95 -->\r\n",
       "<g id=\"node96\" class=\"node\"><title>95</title>\r\n",
       "<polygon fill=\"none\" stroke=\"black\" points=\"3064.5,-53 2953.5,-53 2953.5,-0 3064.5,-0 3064.5,-53\"/>\r\n",
       "<text text-anchor=\"middle\" x=\"3009\" y=\"-37.8\" font-family=\"Times New Roman,serif\" font-size=\"14.00\">entropy = 0.251</text>\r\n",
       "<text text-anchor=\"middle\" x=\"3009\" y=\"-22.8\" font-family=\"Times New Roman,serif\" font-size=\"14.00\">samples = 310</text>\r\n",
       "<text text-anchor=\"middle\" x=\"3009\" y=\"-7.8\" font-family=\"Times New Roman,serif\" font-size=\"14.00\">value = [297, 13]</text>\r\n",
       "</g>\r\n",
       "<!-- 93&#45;&gt;95 -->\r\n",
       "<g id=\"edge95\" class=\"edge\"><title>93&#45;&gt;95</title>\r\n",
       "<path fill=\"none\" stroke=\"black\" d=\"M3007.7,-88.9485C3007.87,-80.7153 3008.06,-71.848 3008.24,-63.4814\"/>\r\n",
       "<polygon fill=\"black\" stroke=\"black\" points=\"3011.74,-63.3086 3008.46,-53.2367 3004.74,-63.1604 3011.74,-63.3086\"/>\r\n",
       "</g>\r\n",
       "<!-- 97 -->\r\n",
       "<g id=\"node98\" class=\"node\"><title>97</title>\r\n",
       "<polygon fill=\"none\" stroke=\"black\" points=\"3193,-157 3087,-157 3087,-89 3193,-89 3193,-157\"/>\r\n",
       "<text text-anchor=\"middle\" x=\"3140\" y=\"-141.8\" font-family=\"Times New Roman,serif\" font-size=\"14.00\">age &lt;= 46.5</text>\r\n",
       "<text text-anchor=\"middle\" x=\"3140\" y=\"-126.8\" font-family=\"Times New Roman,serif\" font-size=\"14.00\">entropy = 0.068</text>\r\n",
       "<text text-anchor=\"middle\" x=\"3140\" y=\"-111.8\" font-family=\"Times New Roman,serif\" font-size=\"14.00\">samples = 124</text>\r\n",
       "<text text-anchor=\"middle\" x=\"3140\" y=\"-96.8\" font-family=\"Times New Roman,serif\" font-size=\"14.00\">value = [123, 1]</text>\r\n",
       "</g>\r\n",
       "<!-- 96&#45;&gt;97 -->\r\n",
       "<g id=\"edge97\" class=\"edge\"><title>96&#45;&gt;97</title>\r\n",
       "<path fill=\"none\" stroke=\"black\" d=\"M3142.7,-192.884C3142.38,-184.778 3142.04,-175.982 3141.7,-167.472\"/>\r\n",
       "<polygon fill=\"black\" stroke=\"black\" points=\"3145.2,-167.155 3141.31,-157.299 3138.2,-167.429 3145.2,-167.155\"/>\r\n",
       "</g>\r\n",
       "<!-- 100 -->\r\n",
       "<g id=\"node101\" class=\"node\"><title>100</title>\r\n",
       "<polygon fill=\"none\" stroke=\"black\" points=\"3317,-149.5 3211,-149.5 3211,-96.5 3317,-96.5 3317,-149.5\"/>\r\n",
       "<text text-anchor=\"middle\" x=\"3264\" y=\"-134.3\" font-family=\"Times New Roman,serif\" font-size=\"14.00\">entropy = 0.371</text>\r\n",
       "<text text-anchor=\"middle\" x=\"3264\" y=\"-119.3\" font-family=\"Times New Roman,serif\" font-size=\"14.00\">samples = 14</text>\r\n",
       "<text text-anchor=\"middle\" x=\"3264\" y=\"-104.3\" font-family=\"Times New Roman,serif\" font-size=\"14.00\">value = [13, 1]</text>\r\n",
       "</g>\r\n",
       "<!-- 96&#45;&gt;100 -->\r\n",
       "<g id=\"edge100\" class=\"edge\"><title>96&#45;&gt;100</title>\r\n",
       "<path fill=\"none\" stroke=\"black\" d=\"M3182.96,-192.884C3196.8,-181.116 3212.36,-167.894 3226.11,-156.203\"/>\r\n",
       "<polygon fill=\"black\" stroke=\"black\" points=\"3228.62,-158.663 3233.98,-149.52 3224.09,-153.33 3228.62,-158.663\"/>\r\n",
       "</g>\r\n",
       "<!-- 98 -->\r\n",
       "<g id=\"node99\" class=\"node\"><title>98</title>\r\n",
       "<polygon fill=\"none\" stroke=\"black\" points=\"3186,-53 3088,-53 3088,-0 3186,-0 3186,-53\"/>\r\n",
       "<text text-anchor=\"middle\" x=\"3137\" y=\"-37.8\" font-family=\"Times New Roman,serif\" font-size=\"14.00\">entropy = 0.0</text>\r\n",
       "<text text-anchor=\"middle\" x=\"3137\" y=\"-22.8\" font-family=\"Times New Roman,serif\" font-size=\"14.00\">samples = 86</text>\r\n",
       "<text text-anchor=\"middle\" x=\"3137\" y=\"-7.8\" font-family=\"Times New Roman,serif\" font-size=\"14.00\">value = [86, 0]</text>\r\n",
       "</g>\r\n",
       "<!-- 97&#45;&gt;98 -->\r\n",
       "<g id=\"edge98\" class=\"edge\"><title>97&#45;&gt;98</title>\r\n",
       "<path fill=\"none\" stroke=\"black\" d=\"M3138.95,-88.9485C3138.69,-80.7153 3138.41,-71.848 3138.14,-63.4814\"/>\r\n",
       "<polygon fill=\"black\" stroke=\"black\" points=\"3141.63,-63.1206 3137.82,-53.2367 3134.64,-63.3428 3141.63,-63.1206\"/>\r\n",
       "</g>\r\n",
       "<!-- 99 -->\r\n",
       "<g id=\"node100\" class=\"node\"><title>99</title>\r\n",
       "<polygon fill=\"none\" stroke=\"black\" points=\"3310,-53 3204,-53 3204,-0 3310,-0 3310,-53\"/>\r\n",
       "<text text-anchor=\"middle\" x=\"3257\" y=\"-37.8\" font-family=\"Times New Roman,serif\" font-size=\"14.00\">entropy = 0.176</text>\r\n",
       "<text text-anchor=\"middle\" x=\"3257\" y=\"-22.8\" font-family=\"Times New Roman,serif\" font-size=\"14.00\">samples = 38</text>\r\n",
       "<text text-anchor=\"middle\" x=\"3257\" y=\"-7.8\" font-family=\"Times New Roman,serif\" font-size=\"14.00\">value = [37, 1]</text>\r\n",
       "</g>\r\n",
       "<!-- 97&#45;&gt;99 -->\r\n",
       "<g id=\"edge99\" class=\"edge\"><title>97&#45;&gt;99</title>\r\n",
       "<path fill=\"none\" stroke=\"black\" d=\"M3180.92,-88.9485C3192.7,-79.4346 3205.53,-69.074 3217.24,-59.6175\"/>\r\n",
       "<polygon fill=\"black\" stroke=\"black\" points=\"3219.56,-62.2429 3225.14,-53.2367 3215.16,-56.7973 3219.56,-62.2429\"/>\r\n",
       "</g>\r\n",
       "<!-- 102 -->\r\n",
       "<g id=\"node103\" class=\"node\"><title>102</title>\r\n",
       "<polygon fill=\"none\" stroke=\"black\" points=\"3396,-365 3272,-365 3272,-297 3396,-297 3396,-365\"/>\r\n",
       "<text text-anchor=\"middle\" x=\"3334\" y=\"-349.8\" font-family=\"Times New Roman,serif\" font-size=\"14.00\">sex_Female &lt;= 0.5</text>\r\n",
       "<text text-anchor=\"middle\" x=\"3334\" y=\"-334.8\" font-family=\"Times New Roman,serif\" font-size=\"14.00\">entropy = 0.548</text>\r\n",
       "<text text-anchor=\"middle\" x=\"3334\" y=\"-319.8\" font-family=\"Times New Roman,serif\" font-size=\"14.00\">samples = 292</text>\r\n",
       "<text text-anchor=\"middle\" x=\"3334\" y=\"-304.8\" font-family=\"Times New Roman,serif\" font-size=\"14.00\">value = [255, 37]</text>\r\n",
       "</g>\r\n",
       "<!-- 101&#45;&gt;102 -->\r\n",
       "<g id=\"edge102\" class=\"edge\"><title>101&#45;&gt;102</title>\r\n",
       "<path fill=\"none\" stroke=\"black\" d=\"M3334,-400.884C3334,-392.778 3334,-383.982 3334,-375.472\"/>\r\n",
       "<polygon fill=\"black\" stroke=\"black\" points=\"3337.5,-375.299 3334,-365.299 3330.5,-375.299 3337.5,-375.299\"/>\r\n",
       "</g>\r\n",
       "<!-- 109 -->\r\n",
       "<g id=\"node110\" class=\"node\"><title>109</title>\r\n",
       "<polygon fill=\"none\" stroke=\"black\" points=\"3520,-357.5 3414,-357.5 3414,-304.5 3520,-304.5 3520,-357.5\"/>\r\n",
       "<text text-anchor=\"middle\" x=\"3467\" y=\"-342.3\" font-family=\"Times New Roman,serif\" font-size=\"14.00\">entropy = 0.159</text>\r\n",
       "<text text-anchor=\"middle\" x=\"3467\" y=\"-327.3\" font-family=\"Times New Roman,serif\" font-size=\"14.00\">samples = 43</text>\r\n",
       "<text text-anchor=\"middle\" x=\"3467\" y=\"-312.3\" font-family=\"Times New Roman,serif\" font-size=\"14.00\">value = [42, 1]</text>\r\n",
       "</g>\r\n",
       "<!-- 101&#45;&gt;109 -->\r\n",
       "<g id=\"edge109\" class=\"edge\"><title>101&#45;&gt;109</title>\r\n",
       "<path fill=\"none\" stroke=\"black\" d=\"M3377.18,-400.884C3392.67,-389.006 3410.09,-375.646 3425.44,-363.876\"/>\r\n",
       "<polygon fill=\"black\" stroke=\"black\" points=\"3427.92,-366.383 3433.72,-357.52 3423.66,-360.828 3427.92,-366.383\"/>\r\n",
       "</g>\r\n",
       "<!-- 103 -->\r\n",
       "<g id=\"node104\" class=\"node\"><title>103</title>\r\n",
       "<polygon fill=\"none\" stroke=\"black\" points=\"3389.5,-261 3278.5,-261 3278.5,-193 3389.5,-193 3389.5,-261\"/>\r\n",
       "<text text-anchor=\"middle\" x=\"3334\" y=\"-245.8\" font-family=\"Times New Roman,serif\" font-size=\"14.00\">age &lt;= 51.5</text>\r\n",
       "<text text-anchor=\"middle\" x=\"3334\" y=\"-230.8\" font-family=\"Times New Roman,serif\" font-size=\"14.00\">entropy = 0.626</text>\r\n",
       "<text text-anchor=\"middle\" x=\"3334\" y=\"-215.8\" font-family=\"Times New Roman,serif\" font-size=\"14.00\">samples = 185</text>\r\n",
       "<text text-anchor=\"middle\" x=\"3334\" y=\"-200.8\" font-family=\"Times New Roman,serif\" font-size=\"14.00\">value = [156, 29]</text>\r\n",
       "</g>\r\n",
       "<!-- 102&#45;&gt;103 -->\r\n",
       "<g id=\"edge103\" class=\"edge\"><title>102&#45;&gt;103</title>\r\n",
       "<path fill=\"none\" stroke=\"black\" d=\"M3334,-296.884C3334,-288.778 3334,-279.982 3334,-271.472\"/>\r\n",
       "<polygon fill=\"black\" stroke=\"black\" points=\"3337.5,-271.299 3334,-261.299 3330.5,-271.299 3337.5,-271.299\"/>\r\n",
       "</g>\r\n",
       "<!-- 108 -->\r\n",
       "<g id=\"node109\" class=\"node\"><title>108</title>\r\n",
       "<polygon fill=\"none\" stroke=\"black\" points=\"3514,-253.5 3408,-253.5 3408,-200.5 3514,-200.5 3514,-253.5\"/>\r\n",
       "<text text-anchor=\"middle\" x=\"3461\" y=\"-238.3\" font-family=\"Times New Roman,serif\" font-size=\"14.00\">entropy = 0.383</text>\r\n",
       "<text text-anchor=\"middle\" x=\"3461\" y=\"-223.3\" font-family=\"Times New Roman,serif\" font-size=\"14.00\">samples = 107</text>\r\n",
       "<text text-anchor=\"middle\" x=\"3461\" y=\"-208.3\" font-family=\"Times New Roman,serif\" font-size=\"14.00\">value = [99, 8]</text>\r\n",
       "</g>\r\n",
       "<!-- 102&#45;&gt;108 -->\r\n",
       "<g id=\"edge108\" class=\"edge\"><title>102&#45;&gt;108</title>\r\n",
       "<path fill=\"none\" stroke=\"black\" d=\"M3375.23,-296.884C3390.02,-285.006 3406.66,-271.646 3421.31,-259.876\"/>\r\n",
       "<polygon fill=\"black\" stroke=\"black\" points=\"3423.62,-262.511 3429.23,-253.52 3419.24,-257.053 3423.62,-262.511\"/>\r\n",
       "</g>\r\n",
       "<!-- 104 -->\r\n",
       "<g id=\"node105\" class=\"node\"><title>104</title>\r\n",
       "<polygon fill=\"none\" stroke=\"black\" points=\"3454.5,-157 3335.5,-157 3335.5,-89 3454.5,-89 3454.5,-157\"/>\r\n",
       "<text text-anchor=\"middle\" x=\"3395\" y=\"-141.8\" font-family=\"Times New Roman,serif\" font-size=\"14.00\">education &lt;= 11.5</text>\r\n",
       "<text text-anchor=\"middle\" x=\"3395\" y=\"-126.8\" font-family=\"Times New Roman,serif\" font-size=\"14.00\">entropy = 0.578</text>\r\n",
       "<text text-anchor=\"middle\" x=\"3395\" y=\"-111.8\" font-family=\"Times New Roman,serif\" font-size=\"14.00\">samples = 167</text>\r\n",
       "<text text-anchor=\"middle\" x=\"3395\" y=\"-96.8\" font-family=\"Times New Roman,serif\" font-size=\"14.00\">value = [144, 23]</text>\r\n",
       "</g>\r\n",
       "<!-- 103&#45;&gt;104 -->\r\n",
       "<g id=\"edge104\" class=\"edge\"><title>103&#45;&gt;104</title>\r\n",
       "<path fill=\"none\" stroke=\"black\" d=\"M3353.8,-192.884C3358.92,-184.332 3364.49,-175.013 3369.84,-166.072\"/>\r\n",
       "<polygon fill=\"black\" stroke=\"black\" points=\"3372.96,-167.678 3375.09,-157.299 3366.95,-164.085 3372.96,-167.678\"/>\r\n",
       "</g>\r\n",
       "<!-- 107 -->\r\n",
       "<g id=\"node108\" class=\"node\"><title>107</title>\r\n",
       "<polygon fill=\"none\" stroke=\"black\" points=\"3579,-149.5 3473,-149.5 3473,-96.5 3579,-96.5 3579,-149.5\"/>\r\n",
       "<text text-anchor=\"middle\" x=\"3526\" y=\"-134.3\" font-family=\"Times New Roman,serif\" font-size=\"14.00\">entropy = 0.918</text>\r\n",
       "<text text-anchor=\"middle\" x=\"3526\" y=\"-119.3\" font-family=\"Times New Roman,serif\" font-size=\"14.00\">samples = 18</text>\r\n",
       "<text text-anchor=\"middle\" x=\"3526\" y=\"-104.3\" font-family=\"Times New Roman,serif\" font-size=\"14.00\">value = [12, 6]</text>\r\n",
       "</g>\r\n",
       "<!-- 103&#45;&gt;107 -->\r\n",
       "<g id=\"edge107\" class=\"edge\"><title>103&#45;&gt;107</title>\r\n",
       "<path fill=\"none\" stroke=\"black\" d=\"M3389.53,-196.497C3414.39,-183.292 3443.68,-167.733 3468.74,-154.422\"/>\r\n",
       "<polygon fill=\"black\" stroke=\"black\" points=\"3470.57,-157.41 3477.76,-149.628 3467.29,-151.229 3470.57,-157.41\"/>\r\n",
       "</g>\r\n",
       "<!-- 105 -->\r\n",
       "<g id=\"node106\" class=\"node\"><title>105</title>\r\n",
       "<polygon fill=\"none\" stroke=\"black\" points=\"3445.5,-53 3334.5,-53 3334.5,-0 3445.5,-0 3445.5,-53\"/>\r\n",
       "<text text-anchor=\"middle\" x=\"3390\" y=\"-37.8\" font-family=\"Times New Roman,serif\" font-size=\"14.00\">entropy = 0.603</text>\r\n",
       "<text text-anchor=\"middle\" x=\"3390\" y=\"-22.8\" font-family=\"Times New Roman,serif\" font-size=\"14.00\">samples = 156</text>\r\n",
       "<text text-anchor=\"middle\" x=\"3390\" y=\"-7.8\" font-family=\"Times New Roman,serif\" font-size=\"14.00\">value = [133, 23]</text>\r\n",
       "</g>\r\n",
       "<!-- 104&#45;&gt;105 -->\r\n",
       "<g id=\"edge105\" class=\"edge\"><title>104&#45;&gt;105</title>\r\n",
       "<path fill=\"none\" stroke=\"black\" d=\"M3393.25,-88.9485C3392.82,-80.7153 3392.35,-71.848 3391.9,-63.4814\"/>\r\n",
       "<polygon fill=\"black\" stroke=\"black\" points=\"3395.39,-63.0378 3391.36,-53.2367 3388.4,-63.4077 3395.39,-63.0378\"/>\r\n",
       "</g>\r\n",
       "<!-- 106 -->\r\n",
       "<g id=\"node107\" class=\"node\"><title>106</title>\r\n",
       "<polygon fill=\"none\" stroke=\"black\" points=\"3562,-53 3464,-53 3464,-0 3562,-0 3562,-53\"/>\r\n",
       "<text text-anchor=\"middle\" x=\"3513\" y=\"-37.8\" font-family=\"Times New Roman,serif\" font-size=\"14.00\">entropy = 0.0</text>\r\n",
       "<text text-anchor=\"middle\" x=\"3513\" y=\"-22.8\" font-family=\"Times New Roman,serif\" font-size=\"14.00\">samples = 11</text>\r\n",
       "<text text-anchor=\"middle\" x=\"3513\" y=\"-7.8\" font-family=\"Times New Roman,serif\" font-size=\"14.00\">value = [11, 0]</text>\r\n",
       "</g>\r\n",
       "<!-- 104&#45;&gt;106 -->\r\n",
       "<g id=\"edge106\" class=\"edge\"><title>104&#45;&gt;106</title>\r\n",
       "<path fill=\"none\" stroke=\"black\" d=\"M3436.27,-88.9485C3448.15,-79.4346 3461.09,-69.074 3472.9,-59.6175\"/>\r\n",
       "<polygon fill=\"black\" stroke=\"black\" points=\"3475.25,-62.2196 3480.86,-53.2367 3470.87,-56.7558 3475.25,-62.2196\"/>\r\n",
       "</g>\r\n",
       "<!-- 111 -->\r\n",
       "<g id=\"node112\" class=\"node\"><title>111</title>\r\n",
       "<polygon fill=\"none\" stroke=\"black\" points=\"3673,-573 3521,-573 3521,-505 3673,-505 3673,-573\"/>\r\n",
       "<text text-anchor=\"middle\" x=\"3597\" y=\"-557.8\" font-family=\"Times New Roman,serif\" font-size=\"14.00\">hours&#45;per&#45;week &lt;= 39.5</text>\r\n",
       "<text text-anchor=\"middle\" x=\"3597\" y=\"-542.8\" font-family=\"Times New Roman,serif\" font-size=\"14.00\">entropy = 0.208</text>\r\n",
       "<text text-anchor=\"middle\" x=\"3597\" y=\"-527.8\" font-family=\"Times New Roman,serif\" font-size=\"14.00\">samples = 274</text>\r\n",
       "<text text-anchor=\"middle\" x=\"3597\" y=\"-512.8\" font-family=\"Times New Roman,serif\" font-size=\"14.00\">value = [265, 9]</text>\r\n",
       "</g>\r\n",
       "<!-- 110&#45;&gt;111 -->\r\n",
       "<g id=\"edge111\" class=\"edge\"><title>110&#45;&gt;111</title>\r\n",
       "<path fill=\"none\" stroke=\"black\" d=\"M3597,-608.884C3597,-600.778 3597,-591.982 3597,-583.472\"/>\r\n",
       "<polygon fill=\"black\" stroke=\"black\" points=\"3600.5,-583.299 3597,-573.299 3593.5,-583.299 3600.5,-583.299\"/>\r\n",
       "</g>\r\n",
       "<!-- 118 -->\r\n",
       "<g id=\"node119\" class=\"node\"><title>118</title>\r\n",
       "<polygon fill=\"none\" stroke=\"black\" points=\"3967.5,-573 3848.5,-573 3848.5,-505 3967.5,-505 3967.5,-573\"/>\r\n",
       "<text text-anchor=\"middle\" x=\"3908\" y=\"-557.8\" font-family=\"Times New Roman,serif\" font-size=\"14.00\">education &lt;= 14.5</text>\r\n",
       "<text text-anchor=\"middle\" x=\"3908\" y=\"-542.8\" font-family=\"Times New Roman,serif\" font-size=\"14.00\">entropy = 0.865</text>\r\n",
       "<text text-anchor=\"middle\" x=\"3908\" y=\"-527.8\" font-family=\"Times New Roman,serif\" font-size=\"14.00\">samples = 522</text>\r\n",
       "<text text-anchor=\"middle\" x=\"3908\" y=\"-512.8\" font-family=\"Times New Roman,serif\" font-size=\"14.00\">value = [372, 150]</text>\r\n",
       "</g>\r\n",
       "<!-- 110&#45;&gt;118 -->\r\n",
       "<g id=\"edge118\" class=\"edge\"><title>110&#45;&gt;118</title>\r\n",
       "<path fill=\"none\" stroke=\"black\" d=\"M3656.23,-622.574C3708.27,-605.507 3784.02,-580.662 3838.83,-562.687\"/>\r\n",
       "<polygon fill=\"black\" stroke=\"black\" points=\"3840.05,-565.969 3848.46,-559.527 3837.87,-559.317 3840.05,-565.969\"/>\r\n",
       "</g>\r\n",
       "<!-- 112 -->\r\n",
       "<g id=\"node113\" class=\"node\"><title>112</title>\r\n",
       "<polygon fill=\"none\" stroke=\"black\" points=\"3573,-461.5 3475,-461.5 3475,-408.5 3573,-408.5 3573,-461.5\"/>\r\n",
       "<text text-anchor=\"middle\" x=\"3524\" y=\"-446.3\" font-family=\"Times New Roman,serif\" font-size=\"14.00\">entropy = 0.0</text>\r\n",
       "<text text-anchor=\"middle\" x=\"3524\" y=\"-431.3\" font-family=\"Times New Roman,serif\" font-size=\"14.00\">samples = 65</text>\r\n",
       "<text text-anchor=\"middle\" x=\"3524\" y=\"-416.3\" font-family=\"Times New Roman,serif\" font-size=\"14.00\">value = [65, 0]</text>\r\n",
       "</g>\r\n",
       "<!-- 111&#45;&gt;112 -->\r\n",
       "<g id=\"edge112\" class=\"edge\"><title>111&#45;&gt;112</title>\r\n",
       "<path fill=\"none\" stroke=\"black\" d=\"M3573.3,-504.884C3565.27,-493.666 3556.3,-481.126 3548.23,-469.852\"/>\r\n",
       "<polygon fill=\"black\" stroke=\"black\" points=\"3550.93,-467.615 3542.26,-461.52 3545.24,-471.689 3550.93,-467.615\"/>\r\n",
       "</g>\r\n",
       "<!-- 113 -->\r\n",
       "<g id=\"node114\" class=\"node\"><title>113</title>\r\n",
       "<polygon fill=\"none\" stroke=\"black\" points=\"3748.5,-469 3591.5,-469 3591.5,-401 3748.5,-401 3748.5,-469\"/>\r\n",
       "<text text-anchor=\"middle\" x=\"3670\" y=\"-453.8\" font-family=\"Times New Roman,serif\" font-size=\"14.00\">workclass_Public &lt;= 0.5</text>\r\n",
       "<text text-anchor=\"middle\" x=\"3670\" y=\"-438.8\" font-family=\"Times New Roman,serif\" font-size=\"14.00\">entropy = 0.256</text>\r\n",
       "<text text-anchor=\"middle\" x=\"3670\" y=\"-423.8\" font-family=\"Times New Roman,serif\" font-size=\"14.00\">samples = 209</text>\r\n",
       "<text text-anchor=\"middle\" x=\"3670\" y=\"-408.8\" font-family=\"Times New Roman,serif\" font-size=\"14.00\">value = [200, 9]</text>\r\n",
       "</g>\r\n",
       "<!-- 111&#45;&gt;113 -->\r\n",
       "<g id=\"edge113\" class=\"edge\"><title>111&#45;&gt;113</title>\r\n",
       "<path fill=\"none\" stroke=\"black\" d=\"M3620.7,-504.884C3626.95,-496.154 3633.77,-486.625 3640.29,-477.514\"/>\r\n",
       "<polygon fill=\"black\" stroke=\"black\" points=\"3643.19,-479.468 3646.17,-469.299 3637.5,-475.394 3643.19,-479.468\"/>\r\n",
       "</g>\r\n",
       "<!-- 114 -->\r\n",
       "<g id=\"node115\" class=\"node\"><title>114</title>\r\n",
       "<polygon fill=\"none\" stroke=\"black\" points=\"3650.5,-365 3539.5,-365 3539.5,-297 3650.5,-297 3650.5,-365\"/>\r\n",
       "<text text-anchor=\"middle\" x=\"3595\" y=\"-349.8\" font-family=\"Times New Roman,serif\" font-size=\"14.00\">sex_Male &lt;= 0.5</text>\r\n",
       "<text text-anchor=\"middle\" x=\"3595\" y=\"-334.8\" font-family=\"Times New Roman,serif\" font-size=\"14.00\">entropy = 0.295</text>\r\n",
       "<text text-anchor=\"middle\" x=\"3595\" y=\"-319.8\" font-family=\"Times New Roman,serif\" font-size=\"14.00\">samples = 173</text>\r\n",
       "<text text-anchor=\"middle\" x=\"3595\" y=\"-304.8\" font-family=\"Times New Roman,serif\" font-size=\"14.00\">value = [164, 9]</text>\r\n",
       "</g>\r\n",
       "<!-- 113&#45;&gt;114 -->\r\n",
       "<g id=\"edge114\" class=\"edge\"><title>113&#45;&gt;114</title>\r\n",
       "<path fill=\"none\" stroke=\"black\" d=\"M3645.65,-400.884C3639.23,-392.154 3632.22,-382.625 3625.52,-373.514\"/>\r\n",
       "<polygon fill=\"black\" stroke=\"black\" points=\"3628.23,-371.283 3619.48,-365.299 3622.59,-375.429 3628.23,-371.283\"/>\r\n",
       "</g>\r\n",
       "<!-- 117 -->\r\n",
       "<g id=\"node118\" class=\"node\"><title>117</title>\r\n",
       "<polygon fill=\"none\" stroke=\"black\" points=\"3767,-357.5 3669,-357.5 3669,-304.5 3767,-304.5 3767,-357.5\"/>\r\n",
       "<text text-anchor=\"middle\" x=\"3718\" y=\"-342.3\" font-family=\"Times New Roman,serif\" font-size=\"14.00\">entropy = 0.0</text>\r\n",
       "<text text-anchor=\"middle\" x=\"3718\" y=\"-327.3\" font-family=\"Times New Roman,serif\" font-size=\"14.00\">samples = 36</text>\r\n",
       "<text text-anchor=\"middle\" x=\"3718\" y=\"-312.3\" font-family=\"Times New Roman,serif\" font-size=\"14.00\">value = [36, 0]</text>\r\n",
       "</g>\r\n",
       "<!-- 113&#45;&gt;117 -->\r\n",
       "<g id=\"edge117\" class=\"edge\"><title>113&#45;&gt;117</title>\r\n",
       "<path fill=\"none\" stroke=\"black\" d=\"M3685.58,-400.884C3690.71,-389.996 3696.42,-377.863 3701.6,-366.85\"/>\r\n",
       "<polygon fill=\"black\" stroke=\"black\" points=\"3704.9,-368.058 3705.99,-357.52 3698.57,-365.078 3704.9,-368.058\"/>\r\n",
       "</g>\r\n",
       "<!-- 115 -->\r\n",
       "<g id=\"node116\" class=\"node\"><title>115</title>\r\n",
       "<polygon fill=\"none\" stroke=\"black\" points=\"3638,-253.5 3532,-253.5 3532,-200.5 3638,-200.5 3638,-253.5\"/>\r\n",
       "<text text-anchor=\"middle\" x=\"3585\" y=\"-238.3\" font-family=\"Times New Roman,serif\" font-size=\"14.00\">entropy = 0.165</text>\r\n",
       "<text text-anchor=\"middle\" x=\"3585\" y=\"-223.3\" font-family=\"Times New Roman,serif\" font-size=\"14.00\">samples = 82</text>\r\n",
       "<text text-anchor=\"middle\" x=\"3585\" y=\"-208.3\" font-family=\"Times New Roman,serif\" font-size=\"14.00\">value = [80, 2]</text>\r\n",
       "</g>\r\n",
       "<!-- 114&#45;&gt;115 -->\r\n",
       "<g id=\"edge115\" class=\"edge\"><title>114&#45;&gt;115</title>\r\n",
       "<path fill=\"none\" stroke=\"black\" d=\"M3591.75,-296.884C3590.71,-286.216 3589.54,-274.352 3588.48,-263.519\"/>\r\n",
       "<polygon fill=\"black\" stroke=\"black\" points=\"3591.96,-263.131 3587.5,-253.52 3584.99,-263.814 3591.96,-263.131\"/>\r\n",
       "</g>\r\n",
       "<!-- 116 -->\r\n",
       "<g id=\"node117\" class=\"node\"><title>116</title>\r\n",
       "<polygon fill=\"none\" stroke=\"black\" points=\"3762,-253.5 3656,-253.5 3656,-200.5 3762,-200.5 3762,-253.5\"/>\r\n",
       "<text text-anchor=\"middle\" x=\"3709\" y=\"-238.3\" font-family=\"Times New Roman,serif\" font-size=\"14.00\">entropy = 0.391</text>\r\n",
       "<text text-anchor=\"middle\" x=\"3709\" y=\"-223.3\" font-family=\"Times New Roman,serif\" font-size=\"14.00\">samples = 91</text>\r\n",
       "<text text-anchor=\"middle\" x=\"3709\" y=\"-208.3\" font-family=\"Times New Roman,serif\" font-size=\"14.00\">value = [84, 7]</text>\r\n",
       "</g>\r\n",
       "<!-- 114&#45;&gt;116 -->\r\n",
       "<g id=\"edge116\" class=\"edge\"><title>114&#45;&gt;116</title>\r\n",
       "<path fill=\"none\" stroke=\"black\" d=\"M3632.01,-296.884C3645.16,-285.116 3659.94,-271.894 3673.01,-260.203\"/>\r\n",
       "<polygon fill=\"black\" stroke=\"black\" points=\"3675.36,-262.796 3680.48,-253.52 3670.69,-257.58 3675.36,-262.796\"/>\r\n",
       "</g>\r\n",
       "<!-- 119 -->\r\n",
       "<g id=\"node120\" class=\"node\"><title>119</title>\r\n",
       "<polygon fill=\"none\" stroke=\"black\" points=\"3984,-469 3832,-469 3832,-401 3984,-401 3984,-469\"/>\r\n",
       "<text text-anchor=\"middle\" x=\"3908\" y=\"-453.8\" font-family=\"Times New Roman,serif\" font-size=\"14.00\">hours&#45;per&#45;week &lt;= 42.5</text>\r\n",
       "<text text-anchor=\"middle\" x=\"3908\" y=\"-438.8\" font-family=\"Times New Roman,serif\" font-size=\"14.00\">entropy = 0.786</text>\r\n",
       "<text text-anchor=\"middle\" x=\"3908\" y=\"-423.8\" font-family=\"Times New Roman,serif\" font-size=\"14.00\">samples = 464</text>\r\n",
       "<text text-anchor=\"middle\" x=\"3908\" y=\"-408.8\" font-family=\"Times New Roman,serif\" font-size=\"14.00\">value = [355, 109]</text>\r\n",
       "</g>\r\n",
       "<!-- 118&#45;&gt;119 -->\r\n",
       "<g id=\"edge119\" class=\"edge\"><title>118&#45;&gt;119</title>\r\n",
       "<path fill=\"none\" stroke=\"black\" d=\"M3908,-504.884C3908,-496.778 3908,-487.982 3908,-479.472\"/>\r\n",
       "<polygon fill=\"black\" stroke=\"black\" points=\"3911.5,-479.299 3908,-469.299 3904.5,-479.299 3911.5,-479.299\"/>\r\n",
       "</g>\r\n",
       "<!-- 132 -->\r\n",
       "<g id=\"node133\" class=\"node\"><title>132</title>\r\n",
       "<polygon fill=\"none\" stroke=\"black\" points=\"4108,-461.5 4002,-461.5 4002,-408.5 4108,-408.5 4108,-461.5\"/>\r\n",
       "<text text-anchor=\"middle\" x=\"4055\" y=\"-446.3\" font-family=\"Times New Roman,serif\" font-size=\"14.00\">entropy = 0.873</text>\r\n",
       "<text text-anchor=\"middle\" x=\"4055\" y=\"-431.3\" font-family=\"Times New Roman,serif\" font-size=\"14.00\">samples = 58</text>\r\n",
       "<text text-anchor=\"middle\" x=\"4055\" y=\"-416.3\" font-family=\"Times New Roman,serif\" font-size=\"14.00\">value = [17, 41]</text>\r\n",
       "</g>\r\n",
       "<!-- 118&#45;&gt;132 -->\r\n",
       "<g id=\"edge132\" class=\"edge\"><title>118&#45;&gt;132</title>\r\n",
       "<path fill=\"none\" stroke=\"black\" d=\"M3955.73,-504.884C3973.16,-492.786 3992.81,-479.151 4010,-467.224\"/>\r\n",
       "<polygon fill=\"black\" stroke=\"black\" points=\"4012,-470.096 4018.22,-461.52 4008.01,-464.345 4012,-470.096\"/>\r\n",
       "</g>\r\n",
       "<!-- 120 -->\r\n",
       "<g id=\"node121\" class=\"node\"><title>120</title>\r\n",
       "<polygon fill=\"none\" stroke=\"black\" points=\"3963.5,-365 3852.5,-365 3852.5,-297 3963.5,-297 3963.5,-365\"/>\r\n",
       "<text text-anchor=\"middle\" x=\"3908\" y=\"-349.8\" font-family=\"Times New Roman,serif\" font-size=\"14.00\">age &lt;= 44.5</text>\r\n",
       "<text text-anchor=\"middle\" x=\"3908\" y=\"-334.8\" font-family=\"Times New Roman,serif\" font-size=\"14.00\">entropy = 0.632</text>\r\n",
       "<text text-anchor=\"middle\" x=\"3908\" y=\"-319.8\" font-family=\"Times New Roman,serif\" font-size=\"14.00\">samples = 283</text>\r\n",
       "<text text-anchor=\"middle\" x=\"3908\" y=\"-304.8\" font-family=\"Times New Roman,serif\" font-size=\"14.00\">value = [238, 45]</text>\r\n",
       "</g>\r\n",
       "<!-- 119&#45;&gt;120 -->\r\n",
       "<g id=\"edge120\" class=\"edge\"><title>119&#45;&gt;120</title>\r\n",
       "<path fill=\"none\" stroke=\"black\" d=\"M3908,-400.884C3908,-392.778 3908,-383.982 3908,-375.472\"/>\r\n",
       "<polygon fill=\"black\" stroke=\"black\" points=\"3911.5,-375.299 3908,-365.299 3904.5,-375.299 3911.5,-375.299\"/>\r\n",
       "</g>\r\n",
       "<!-- 125 -->\r\n",
       "<g id=\"node126\" class=\"node\"><title>125</title>\r\n",
       "<polygon fill=\"none\" stroke=\"black\" points=\"4177.5,-365 4066.5,-365 4066.5,-297 4177.5,-297 4177.5,-365\"/>\r\n",
       "<text text-anchor=\"middle\" x=\"4122\" y=\"-349.8\" font-family=\"Times New Roman,serif\" font-size=\"14.00\">age &lt;= 49.5</text>\r\n",
       "<text text-anchor=\"middle\" x=\"4122\" y=\"-334.8\" font-family=\"Times New Roman,serif\" font-size=\"14.00\">entropy = 0.937</text>\r\n",
       "<text text-anchor=\"middle\" x=\"4122\" y=\"-319.8\" font-family=\"Times New Roman,serif\" font-size=\"14.00\">samples = 181</text>\r\n",
       "<text text-anchor=\"middle\" x=\"4122\" y=\"-304.8\" font-family=\"Times New Roman,serif\" font-size=\"14.00\">value = [117, 64]</text>\r\n",
       "</g>\r\n",
       "<!-- 119&#45;&gt;125 -->\r\n",
       "<g id=\"edge125\" class=\"edge\"><title>119&#45;&gt;125</title>\r\n",
       "<path fill=\"none\" stroke=\"black\" d=\"M3977.48,-400.884C4003.13,-388.657 4032.08,-374.86 4057.29,-362.843\"/>\r\n",
       "<polygon fill=\"black\" stroke=\"black\" points=\"4058.88,-365.964 4066.4,-358.502 4055.87,-359.645 4058.88,-365.964\"/>\r\n",
       "</g>\r\n",
       "<!-- 121 -->\r\n",
       "<g id=\"node122\" class=\"node\"><title>121</title>\r\n",
       "<polygon fill=\"none\" stroke=\"black\" points=\"3904,-261 3780,-261 3780,-193 3904,-193 3904,-261\"/>\r\n",
       "<text text-anchor=\"middle\" x=\"3842\" y=\"-245.8\" font-family=\"Times New Roman,serif\" font-size=\"14.00\">sex_Female &lt;= 0.5</text>\r\n",
       "<text text-anchor=\"middle\" x=\"3842\" y=\"-230.8\" font-family=\"Times New Roman,serif\" font-size=\"14.00\">entropy = 0.527</text>\r\n",
       "<text text-anchor=\"middle\" x=\"3842\" y=\"-215.8\" font-family=\"Times New Roman,serif\" font-size=\"14.00\">samples = 193</text>\r\n",
       "<text text-anchor=\"middle\" x=\"3842\" y=\"-200.8\" font-family=\"Times New Roman,serif\" font-size=\"14.00\">value = [170, 23]</text>\r\n",
       "</g>\r\n",
       "<!-- 120&#45;&gt;121 -->\r\n",
       "<g id=\"edge121\" class=\"edge\"><title>120&#45;&gt;121</title>\r\n",
       "<path fill=\"none\" stroke=\"black\" d=\"M3886.57,-296.884C3880.98,-288.243 3874.88,-278.819 3869.04,-269.793\"/>\r\n",
       "<polygon fill=\"black\" stroke=\"black\" points=\"3871.92,-267.794 3863.55,-261.299 3866.04,-271.596 3871.92,-267.794\"/>\r\n",
       "</g>\r\n",
       "<!-- 124 -->\r\n",
       "<g id=\"node125\" class=\"node\"><title>124</title>\r\n",
       "<polygon fill=\"none\" stroke=\"black\" points=\"4028,-253.5 3922,-253.5 3922,-200.5 4028,-200.5 4028,-253.5\"/>\r\n",
       "<text text-anchor=\"middle\" x=\"3975\" y=\"-238.3\" font-family=\"Times New Roman,serif\" font-size=\"14.00\">entropy = 0.802</text>\r\n",
       "<text text-anchor=\"middle\" x=\"3975\" y=\"-223.3\" font-family=\"Times New Roman,serif\" font-size=\"14.00\">samples = 90</text>\r\n",
       "<text text-anchor=\"middle\" x=\"3975\" y=\"-208.3\" font-family=\"Times New Roman,serif\" font-size=\"14.00\">value = [68, 22]</text>\r\n",
       "</g>\r\n",
       "<!-- 120&#45;&gt;124 -->\r\n",
       "<g id=\"edge124\" class=\"edge\"><title>120&#45;&gt;124</title>\r\n",
       "<path fill=\"none\" stroke=\"black\" d=\"M3929.75,-296.884C3937.05,-285.776 3945.2,-273.372 3952.55,-262.184\"/>\r\n",
       "<polygon fill=\"black\" stroke=\"black\" points=\"3955.67,-263.8 3958.24,-253.52 3949.82,-259.957 3955.67,-263.8\"/>\r\n",
       "</g>\r\n",
       "<!-- 122 -->\r\n",
       "<g id=\"node123\" class=\"node\"><title>122</title>\r\n",
       "<polygon fill=\"none\" stroke=\"black\" points=\"3804,-149.5 3698,-149.5 3698,-96.5 3804,-96.5 3804,-149.5\"/>\r\n",
       "<text text-anchor=\"middle\" x=\"3751\" y=\"-134.3\" font-family=\"Times New Roman,serif\" font-size=\"14.00\">entropy = 0.658</text>\r\n",
       "<text text-anchor=\"middle\" x=\"3751\" y=\"-119.3\" font-family=\"Times New Roman,serif\" font-size=\"14.00\">samples = 94</text>\r\n",
       "<text text-anchor=\"middle\" x=\"3751\" y=\"-104.3\" font-family=\"Times New Roman,serif\" font-size=\"14.00\">value = [78, 16]</text>\r\n",
       "</g>\r\n",
       "<!-- 121&#45;&gt;122 -->\r\n",
       "<g id=\"edge122\" class=\"edge\"><title>121&#45;&gt;122</title>\r\n",
       "<path fill=\"none\" stroke=\"black\" d=\"M3812.45,-192.884C3802.25,-181.446 3790.82,-168.634 3780.61,-157.19\"/>\r\n",
       "<polygon fill=\"black\" stroke=\"black\" points=\"3783.04,-154.652 3773.77,-149.52 3777.81,-159.312 3783.04,-154.652\"/>\r\n",
       "</g>\r\n",
       "<!-- 123 -->\r\n",
       "<g id=\"node124\" class=\"node\"><title>123</title>\r\n",
       "<polygon fill=\"none\" stroke=\"black\" points=\"3928,-149.5 3822,-149.5 3822,-96.5 3928,-96.5 3928,-149.5\"/>\r\n",
       "<text text-anchor=\"middle\" x=\"3875\" y=\"-134.3\" font-family=\"Times New Roman,serif\" font-size=\"14.00\">entropy = 0.369</text>\r\n",
       "<text text-anchor=\"middle\" x=\"3875\" y=\"-119.3\" font-family=\"Times New Roman,serif\" font-size=\"14.00\">samples = 99</text>\r\n",
       "<text text-anchor=\"middle\" x=\"3875\" y=\"-104.3\" font-family=\"Times New Roman,serif\" font-size=\"14.00\">value = [92, 7]</text>\r\n",
       "</g>\r\n",
       "<!-- 121&#45;&gt;123 -->\r\n",
       "<g id=\"edge123\" class=\"edge\"><title>121&#45;&gt;123</title>\r\n",
       "<path fill=\"none\" stroke=\"black\" d=\"M3852.71,-192.884C3856.2,-182.106 3860.08,-170.108 3863.62,-159.184\"/>\r\n",
       "<polygon fill=\"black\" stroke=\"black\" points=\"3867,-160.112 3866.74,-149.52 3860.34,-157.957 3867,-160.112\"/>\r\n",
       "</g>\r\n",
       "<!-- 126 -->\r\n",
       "<g id=\"node127\" class=\"node\"><title>126</title>\r\n",
       "<polygon fill=\"none\" stroke=\"black\" points=\"4198,-261 4046,-261 4046,-193 4198,-193 4198,-261\"/>\r\n",
       "<text text-anchor=\"middle\" x=\"4122\" y=\"-245.8\" font-family=\"Times New Roman,serif\" font-size=\"14.00\">hours&#45;per&#45;week &lt;= 59.0</text>\r\n",
       "<text text-anchor=\"middle\" x=\"4122\" y=\"-230.8\" font-family=\"Times New Roman,serif\" font-size=\"14.00\">entropy = 0.902</text>\r\n",
       "<text text-anchor=\"middle\" x=\"4122\" y=\"-215.8\" font-family=\"Times New Roman,serif\" font-size=\"14.00\">samples = 148</text>\r\n",
       "<text text-anchor=\"middle\" x=\"4122\" y=\"-200.8\" font-family=\"Times New Roman,serif\" font-size=\"14.00\">value = [101, 47]</text>\r\n",
       "</g>\r\n",
       "<!-- 125&#45;&gt;126 -->\r\n",
       "<g id=\"edge126\" class=\"edge\"><title>125&#45;&gt;126</title>\r\n",
       "<path fill=\"none\" stroke=\"black\" d=\"M4122,-296.884C4122,-288.778 4122,-279.982 4122,-271.472\"/>\r\n",
       "<polygon fill=\"black\" stroke=\"black\" points=\"4125.5,-271.299 4122,-261.299 4118.5,-271.299 4125.5,-271.299\"/>\r\n",
       "</g>\r\n",
       "<!-- 131 -->\r\n",
       "<g id=\"node132\" class=\"node\"><title>131</title>\r\n",
       "<polygon fill=\"none\" stroke=\"black\" points=\"4322,-253.5 4216,-253.5 4216,-200.5 4322,-200.5 4322,-253.5\"/>\r\n",
       "<text text-anchor=\"middle\" x=\"4269\" y=\"-238.3\" font-family=\"Times New Roman,serif\" font-size=\"14.00\">entropy = 0.999</text>\r\n",
       "<text text-anchor=\"middle\" x=\"4269\" y=\"-223.3\" font-family=\"Times New Roman,serif\" font-size=\"14.00\">samples = 33</text>\r\n",
       "<text text-anchor=\"middle\" x=\"4269\" y=\"-208.3\" font-family=\"Times New Roman,serif\" font-size=\"14.00\">value = [16, 17]</text>\r\n",
       "</g>\r\n",
       "<!-- 125&#45;&gt;131 -->\r\n",
       "<g id=\"edge131\" class=\"edge\"><title>125&#45;&gt;131</title>\r\n",
       "<path fill=\"none\" stroke=\"black\" d=\"M4169.73,-296.884C4187.16,-284.786 4206.81,-271.151 4224,-259.224\"/>\r\n",
       "<polygon fill=\"black\" stroke=\"black\" points=\"4226,-262.096 4232.22,-253.52 4222.01,-256.345 4226,-262.096\"/>\r\n",
       "</g>\r\n",
       "<!-- 127 -->\r\n",
       "<g id=\"node128\" class=\"node\"><title>127</title>\r\n",
       "<polygon fill=\"none\" stroke=\"black\" points=\"4164,-157 4012,-157 4012,-89 4164,-89 4164,-157\"/>\r\n",
       "<text text-anchor=\"middle\" x=\"4088\" y=\"-141.8\" font-family=\"Times New Roman,serif\" font-size=\"14.00\">hours&#45;per&#45;week &lt;= 55.5</text>\r\n",
       "<text text-anchor=\"middle\" x=\"4088\" y=\"-126.8\" font-family=\"Times New Roman,serif\" font-size=\"14.00\">entropy = 0.934</text>\r\n",
       "<text text-anchor=\"middle\" x=\"4088\" y=\"-111.8\" font-family=\"Times New Roman,serif\" font-size=\"14.00\">samples = 120</text>\r\n",
       "<text text-anchor=\"middle\" x=\"4088\" y=\"-96.8\" font-family=\"Times New Roman,serif\" font-size=\"14.00\">value = [78, 42]</text>\r\n",
       "</g>\r\n",
       "<!-- 126&#45;&gt;127 -->\r\n",
       "<g id=\"edge127\" class=\"edge\"><title>126&#45;&gt;127</title>\r\n",
       "<path fill=\"none\" stroke=\"black\" d=\"M4110.96,-192.884C4108.2,-184.6 4105.2,-175.595 4102.3,-166.911\"/>\r\n",
       "<polygon fill=\"black\" stroke=\"black\" points=\"4105.58,-165.679 4099.1,-157.299 4098.94,-167.893 4105.58,-165.679\"/>\r\n",
       "</g>\r\n",
       "<!-- 130 -->\r\n",
       "<g id=\"node131\" class=\"node\"><title>130</title>\r\n",
       "<polygon fill=\"none\" stroke=\"black\" points=\"4288,-149.5 4182,-149.5 4182,-96.5 4288,-96.5 4288,-149.5\"/>\r\n",
       "<text text-anchor=\"middle\" x=\"4235\" y=\"-134.3\" font-family=\"Times New Roman,serif\" font-size=\"14.00\">entropy = 0.677</text>\r\n",
       "<text text-anchor=\"middle\" x=\"4235\" y=\"-119.3\" font-family=\"Times New Roman,serif\" font-size=\"14.00\">samples = 28</text>\r\n",
       "<text text-anchor=\"middle\" x=\"4235\" y=\"-104.3\" font-family=\"Times New Roman,serif\" font-size=\"14.00\">value = [23, 5]</text>\r\n",
       "</g>\r\n",
       "<!-- 126&#45;&gt;130 -->\r\n",
       "<g id=\"edge130\" class=\"edge\"><title>126&#45;&gt;130</title>\r\n",
       "<path fill=\"none\" stroke=\"black\" d=\"M4158.69,-192.884C4171.6,-181.226 4186.1,-168.141 4198.96,-156.532\"/>\r\n",
       "<polygon fill=\"black\" stroke=\"black\" points=\"4201.65,-158.819 4206.73,-149.52 4196.96,-153.622 4201.65,-158.819\"/>\r\n",
       "</g>\r\n",
       "<!-- 128 -->\r\n",
       "<g id=\"node129\" class=\"node\"><title>128</title>\r\n",
       "<polygon fill=\"none\" stroke=\"black\" points=\"4083,-53 3977,-53 3977,-0 4083,-0 4083,-53\"/>\r\n",
       "<text text-anchor=\"middle\" x=\"4030\" y=\"-37.8\" font-family=\"Times New Roman,serif\" font-size=\"14.00\">entropy = 0.918</text>\r\n",
       "<text text-anchor=\"middle\" x=\"4030\" y=\"-22.8\" font-family=\"Times New Roman,serif\" font-size=\"14.00\">samples = 117</text>\r\n",
       "<text text-anchor=\"middle\" x=\"4030\" y=\"-7.8\" font-family=\"Times New Roman,serif\" font-size=\"14.00\">value = [78, 39]</text>\r\n",
       "</g>\r\n",
       "<!-- 127&#45;&gt;128 -->\r\n",
       "<g id=\"edge128\" class=\"edge\"><title>127&#45;&gt;128</title>\r\n",
       "<path fill=\"none\" stroke=\"black\" d=\"M4067.71,-88.9485C4062.32,-80.1664 4056.49,-70.6629 4051.06,-61.815\"/>\r\n",
       "<polygon fill=\"black\" stroke=\"black\" points=\"4054.01,-59.9287 4045.8,-53.2367 4048.04,-63.5903 4054.01,-59.9287\"/>\r\n",
       "</g>\r\n",
       "<!-- 129 -->\r\n",
       "<g id=\"node130\" class=\"node\"><title>129</title>\r\n",
       "<polygon fill=\"none\" stroke=\"black\" points=\"4193,-53 4101,-53 4101,-0 4193,-0 4193,-53\"/>\r\n",
       "<text text-anchor=\"middle\" x=\"4147\" y=\"-37.8\" font-family=\"Times New Roman,serif\" font-size=\"14.00\">entropy = 0.0</text>\r\n",
       "<text text-anchor=\"middle\" x=\"4147\" y=\"-22.8\" font-family=\"Times New Roman,serif\" font-size=\"14.00\">samples = 3</text>\r\n",
       "<text text-anchor=\"middle\" x=\"4147\" y=\"-7.8\" font-family=\"Times New Roman,serif\" font-size=\"14.00\">value = [0, 3]</text>\r\n",
       "</g>\r\n",
       "<!-- 127&#45;&gt;129 -->\r\n",
       "<g id=\"edge129\" class=\"edge\"><title>127&#45;&gt;129</title>\r\n",
       "<path fill=\"none\" stroke=\"black\" d=\"M4108.64,-88.9485C4114.12,-80.1664 4120.05,-70.6629 4125.58,-61.815\"/>\r\n",
       "<polygon fill=\"black\" stroke=\"black\" points=\"4128.6,-63.5728 4130.93,-53.2367 4122.67,-59.8656 4128.6,-63.5728\"/>\r\n",
       "</g>\r\n",
       "</g>\r\n",
       "</svg>\r\n"
      ],
      "text/plain": [
       "<graphviz.files.Source at 0x25d54344e10>"
      ]
     },
     "execution_count": 409,
     "metadata": {},
     "output_type": "execute_result"
    }
   ],
   "source": [
    "import graphviz\n",
    "with open('newtree.dot') as f:\n",
    "    dot_graph = f.read()\n",
    "graphviz.Source(dot_graph)"
   ]
  },
  {
   "cell_type": "code",
   "execution_count": 410,
   "metadata": {},
   "outputs": [
    {
     "data": {
      "text/plain": [
       "[]"
      ]
     },
     "execution_count": 410,
     "metadata": {},
     "output_type": "execute_result"
    }
   ],
   "source": [
    "system(dot -Tpng newtree.dot -o dtree.png)"
   ]
  },
  {
   "cell_type": "code",
   "execution_count": 411,
   "metadata": {},
   "outputs": [
    {
     "data": {
      "image/png": "[encoded data removed]",
      "text/plain": [
       "<IPython.core.display.Image object>"
      ]
     },
     "execution_count": 411,
     "metadata": {
      "image/png": {
       "width": 800
      }
     },
     "output_type": "execute_result"
    }
   ],
   "source": [
    "from IPython.display import Image\n",
    "Image(filename= 'dtree.png', width=800)"
   ]
  },
  {
   "cell_type": "code",
   "execution_count": null,
   "metadata": {},
   "outputs": [],
   "source": []
  }
 ],
 "metadata": {
  "kernelspec": {
   "display_name": "Python 3",
   "language": "python",
   "name": "python3"
  },
  "language_info": {
   "codemirror_mode": {
    "name": "ipython",
    "version": 3
   },
   "file_extension": ".py",
   "mimetype": "text/x-python",
   "name": "python",
   "nbconvert_exporter": "python",
   "pygments_lexer": "ipython3",
   "version": "3.6.5"
  }
 },
 "nbformat": 4,
 "nbformat_minor": 2
}
